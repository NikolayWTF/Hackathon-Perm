{
  "cells": [
    {
      "cell_type": "markdown",
      "metadata": {
        "id": "view-in-github",
        "colab_type": "text"
      },
      "source": [
        "<a href=\"https://colab.research.google.com/github/NikolayWTF/Hackathon-Perm/blob/main/%D0%A5%D0%B0%D0%BA%D0%B0%D1%82%D0%BE%D0%BD_%D0%9F%D0%B5%D1%80%D0%BC%D1%8C.ipynb\" target=\"_parent\"><img src=\"https://colab.research.google.com/assets/colab-badge.svg\" alt=\"Open In Colab\"/></a>"
      ]
    },
    {
      "cell_type": "code",
      "source": [
        "!gdown 1AIIIKnNWGWTxIRdEw1OzWNeIs7h6QOdV\n",
        "!gdown 1X9ZySLYXzoidGfGc5XThHu8X1xaz4t7P\n",
        "!gdown 1uvsxiiGY8xHatb0HnxxnHznMgQDD2Txc\n",
        "!gdown 1IG8jDibA-zy5v-8s_yFnZBnEHc6_sxTD\n",
        "!gdown 1SLSp9FD8VBOkLY0gGoAk0TFsLc7StvYD"
      ],
      "metadata": {
        "colab": {
          "base_uri": "https://localhost:8080/"
        },
        "id": "IEfalS4Ghi5s",
        "outputId": "4fb8a6c3-79ca-439b-8537-4eeff2beb0b8"
      },
      "execution_count": 1,
      "outputs": [
        {
          "output_type": "stream",
          "name": "stdout",
          "text": [
            "Downloading...\n",
            "From: https://drive.google.com/uc?id=1AIIIKnNWGWTxIRdEw1OzWNeIs7h6QOdV\n",
            "To: /content/yolov8s_180epochs.pt\n",
            "100% 22.5M/22.5M [00:00<00:00, 148MB/s] \n",
            "Downloading...\n",
            "From: https://drive.google.com/uc?id=1X9ZySLYXzoidGfGc5XThHu8X1xaz4t7P\n",
            "To: /content/yolov8n_150epochs.pt\n",
            "100% 6.22M/6.22M [00:00<00:00, 17.8MB/s]\n",
            "Downloading...\n",
            "From: https://drive.google.com/uc?id=1uvsxiiGY8xHatb0HnxxnHznMgQDD2Txc\n",
            "To: /content/yolov8n_20epochs.pt\n",
            "100% 6.22M/6.22M [00:00<00:00, 194MB/s]\n",
            "Downloading...\n",
            "From: https://drive.google.com/uc?id=1IG8jDibA-zy5v-8s_yFnZBnEHc6_sxTD\n",
            "To: /content/s_5.pt\n",
            "100% 22.5M/22.5M [00:00<00:00, 44.9MB/s]\n",
            "Downloading...\n",
            "From: https://drive.google.com/uc?id=1SLSp9FD8VBOkLY0gGoAk0TFsLc7StvYD\n",
            "To: /content/video0.rar\n",
            "100% 86.9M/86.9M [00:00<00:00, 106MB/s]\n"
          ]
        }
      ]
    },
    {
      "cell_type": "code",
      "source": [
        "!gdown 1JSFVsos9kUgOYesKEK-YM-qnzUIWSLig"
      ],
      "metadata": {
        "colab": {
          "base_uri": "https://localhost:8080/"
        },
        "id": "YB2iF0BmSDIe",
        "outputId": "9d52eef5-a399-4835-a7dc-4ff8ae9ab26c"
      },
      "execution_count": 5,
      "outputs": [
        {
          "output_type": "stream",
          "name": "stdout",
          "text": [
            "Downloading...\n",
            "From: https://drive.google.com/uc?id=1JSFVsos9kUgOYesKEK-YM-qnzUIWSLig\n",
            "To: /content/yolov8m_2000epochs.pt\n",
            "100% 52.0M/52.0M [00:00<00:00, 62.7MB/s]\n"
          ]
        }
      ]
    },
    {
      "cell_type": "code",
      "source": [
        "!pip install unrar\n",
        "!pip install ultralytics"
      ],
      "metadata": {
        "id": "OnWlCnq617eS"
      },
      "execution_count": null,
      "outputs": []
    },
    {
      "cell_type": "code",
      "source": [
        "#Распаковываю архив с моделями и добавляю в папку networks\n",
        "!mkdir \"video0\"\n",
        "!unrar x -Y \"video0.rar\" \"video0\""
      ],
      "metadata": {
        "id": "0-DFGLXv2Bpg"
      },
      "execution_count": null,
      "outputs": []
    },
    {
      "cell_type": "code",
      "execution_count": 4,
      "metadata": {
        "id": "5blxhL07rPOO"
      },
      "outputs": [],
      "source": [
        "import ultralytics\n",
        "import os\n",
        "import math"
      ]
    },
    {
      "cell_type": "code",
      "execution_count": 6,
      "metadata": {
        "colab": {
          "base_uri": "https://localhost:8080/"
        },
        "id": "G7gtf9TkrTUl",
        "outputId": "6774d18a-8f9e-4d16-cb44-34a4c531c60a"
      },
      "outputs": [
        {
          "output_type": "stream",
          "name": "stderr",
          "text": [
            "\n",
            "image 1/1 /content/video0/frames_rgb_0/0100.png: 384x640 4 woods, 7 glasss, 3 plastics, 2 metals, 1151.0ms\n",
            "Speed: 7.2ms preprocess, 1151.0ms inference, 34.9ms postprocess per image at shape (1, 3, 384, 640)\n",
            "\n",
            "image 1/1 /content/video0/frames_rgb_0/0067.png: 384x640 3 woods, 3 glasss, 4 plastics, 1 metal, 1625.4ms\n",
            "Speed: 3.2ms preprocess, 1625.4ms inference, 1.4ms postprocess per image at shape (1, 3, 384, 640)\n",
            "\n",
            "image 1/1 /content/video0/frames_rgb_0/0111.png: 384x640 4 woods, 4 glasss, 3 plastics, 4 metals, 1438.3ms\n",
            "Speed: 2.4ms preprocess, 1438.3ms inference, 1.2ms postprocess per image at shape (1, 3, 384, 640)\n",
            "\n",
            "image 1/1 /content/video0/frames_rgb_0/0051.png: 384x640 4 woods, 4 glasss, 2 plastics, 2 metals, 962.3ms\n",
            "Speed: 2.1ms preprocess, 962.3ms inference, 1.9ms postprocess per image at shape (1, 3, 384, 640)\n",
            "\n",
            "image 1/1 /content/video0/frames_rgb_0/0093.png: 384x640 4 woods, 4 glasss, 4 plastics, 2 metals, 1000.1ms\n",
            "Speed: 2.5ms preprocess, 1000.1ms inference, 2.0ms postprocess per image at shape (1, 3, 384, 640)\n",
            "\n",
            "image 1/1 /content/video0/frames_rgb_0/0076.png: 384x640 4 woods, 3 glasss, 7 plastics, 2 metals, 1026.2ms\n",
            "Speed: 2.1ms preprocess, 1026.2ms inference, 1.3ms postprocess per image at shape (1, 3, 384, 640)\n",
            "\n",
            "image 1/1 /content/video0/frames_rgb_0/0253.png: 384x640 2 woods, 3 glasss, 6 plastics, 1 metal, 1020.6ms\n",
            "Speed: 2.1ms preprocess, 1020.6ms inference, 1.5ms postprocess per image at shape (1, 3, 384, 640)\n",
            "\n",
            "image 1/1 /content/video0/frames_rgb_0/0323.png: 384x640 6 woods, 3 glasss, 1 plastic, 5 metals, 1025.3ms\n",
            "Speed: 2.0ms preprocess, 1025.3ms inference, 1.3ms postprocess per image at shape (1, 3, 384, 640)\n",
            "\n",
            "image 1/1 /content/video0/frames_rgb_0/0029.png: 384x640 3 woods, 6 glasss, 7 plastics, 3 metals, 1017.2ms\n",
            "Speed: 2.4ms preprocess, 1017.2ms inference, 1.3ms postprocess per image at shape (1, 3, 384, 640)\n",
            "\n",
            "image 1/1 /content/video0/frames_rgb_0/0296.png: 384x640 3 woods, 6 glasss, 4 plastics, 4 metals, 977.1ms\n",
            "Speed: 2.4ms preprocess, 977.1ms inference, 1.4ms postprocess per image at shape (1, 3, 384, 640)\n",
            "\n",
            "image 1/1 /content/video0/frames_rgb_0/0156.png: 384x640 3 woods, 6 glasss, 1 plastic, 3 metals, 1011.4ms\n",
            "Speed: 1.8ms preprocess, 1011.4ms inference, 1.3ms postprocess per image at shape (1, 3, 384, 640)\n",
            "\n",
            "image 1/1 /content/video0/frames_rgb_0/0096.png: 384x640 4 woods, 6 glasss, 5 plastics, 2 metals, 970.2ms\n",
            "Speed: 2.3ms preprocess, 970.2ms inference, 1.3ms postprocess per image at shape (1, 3, 384, 640)\n",
            "\n",
            "image 1/1 /content/video0/frames_rgb_0/0235.png: 384x640 3 woods, 5 glasss, 1 plastic, 4 metals, 1238.4ms\n",
            "Speed: 1.8ms preprocess, 1238.4ms inference, 1.4ms postprocess per image at shape (1, 3, 384, 640)\n",
            "\n",
            "image 1/1 /content/video0/frames_rgb_0/0065.png: 384x640 3 woods, 3 glasss, 3 plastics, 1 metal, 1551.9ms\n",
            "Speed: 2.2ms preprocess, 1551.9ms inference, 1.8ms postprocess per image at shape (1, 3, 384, 640)\n",
            "\n",
            "image 1/1 /content/video0/frames_rgb_0/0248.png: 384x640 1 wood, 6 glasss, 4 plastics, 2 metals, 1262.4ms\n",
            "Speed: 1.9ms preprocess, 1262.4ms inference, 1.6ms postprocess per image at shape (1, 3, 384, 640)\n",
            "\n",
            "image 1/1 /content/video0/frames_rgb_0/0252.png: 384x640 2 woods, 4 glasss, 4 plastics, 1 metal, 966.0ms\n",
            "Speed: 2.2ms preprocess, 966.0ms inference, 1.1ms postprocess per image at shape (1, 3, 384, 640)\n",
            "\n",
            "image 1/1 /content/video0/frames_rgb_0/0110.png: 384x640 4 woods, 4 glasss, 3 plastics, 3 metals, 985.7ms\n",
            "Speed: 1.6ms preprocess, 985.7ms inference, 1.2ms postprocess per image at shape (1, 3, 384, 640)\n",
            "\n",
            "image 1/1 /content/video0/frames_rgb_0/0052.png: 384x640 4 woods, 1 glass, 1 plastic, 2 metals, 1012.6ms\n",
            "Speed: 1.9ms preprocess, 1012.6ms inference, 1.2ms postprocess per image at shape (1, 3, 384, 640)\n",
            "\n",
            "image 1/1 /content/video0/frames_rgb_0/0172.png: 384x640 7 woods, 3 glasss, 6 plastics, 2 metals, 953.6ms\n",
            "Speed: 2.0ms preprocess, 953.6ms inference, 1.1ms postprocess per image at shape (1, 3, 384, 640)\n",
            "\n",
            "image 1/1 /content/video0/frames_rgb_0/0085.png: 384x640 5 woods, 3 glasss, 5 plastics, 2 metals, 932.4ms\n",
            "Speed: 1.7ms preprocess, 932.4ms inference, 1.1ms postprocess per image at shape (1, 3, 384, 640)\n",
            "\n",
            "image 1/1 /content/video0/frames_rgb_0/0133.png: 384x640 5 woods, 3 glasss, 3 plastics, 4 metals, 979.0ms\n",
            "Speed: 1.6ms preprocess, 979.0ms inference, 1.2ms postprocess per image at shape (1, 3, 384, 640)\n",
            "\n",
            "image 1/1 /content/video0/frames_rgb_0/0195.png: 384x640 8 woods, 3 glasss, 8 plastics, 4 metals, 1019.6ms\n",
            "Speed: 2.0ms preprocess, 1019.6ms inference, 1.4ms postprocess per image at shape (1, 3, 384, 640)\n",
            "\n",
            "image 1/1 /content/video0/frames_rgb_0/0002.png: 384x640 5 woods, 3 glasss, 7 plastics, 2 metals, 1018.3ms\n",
            "Speed: 2.0ms preprocess, 1018.3ms inference, 1.3ms postprocess per image at shape (1, 3, 384, 640)\n",
            "\n",
            "image 1/1 /content/video0/frames_rgb_0/0207.png: 384x640 4 woods, 3 glasss, 2 plastics, 6 metals, 1039.9ms\n",
            "Speed: 2.1ms preprocess, 1039.9ms inference, 1.5ms postprocess per image at shape (1, 3, 384, 640)\n",
            "\n",
            "image 1/1 /content/video0/frames_rgb_0/0010.png: 384x640 7 woods, 6 glasss, 10 plastics, 4 metals, 1430.9ms\n",
            "Speed: 2.1ms preprocess, 1430.9ms inference, 1.7ms postprocess per image at shape (1, 3, 384, 640)\n",
            "\n",
            "image 1/1 /content/video0/frames_rgb_0/0258.png: 384x640 3 woods, 3 glasss, 6 plastics, 1 metal, 1570.3ms\n",
            "Speed: 2.8ms preprocess, 1570.3ms inference, 1.4ms postprocess per image at shape (1, 3, 384, 640)\n",
            "\n",
            "image 1/1 /content/video0/frames_rgb_0/0081.png: 384x640 6 woods, 3 glasss, 6 plastics, 2 metals, 1047.0ms\n",
            "Speed: 1.9ms preprocess, 1047.0ms inference, 1.1ms postprocess per image at shape (1, 3, 384, 640)\n",
            "\n",
            "image 1/1 /content/video0/frames_rgb_0/0152.png: 384x640 5 woods, 5 glasss, 2 plastics, 5 metals, 943.1ms\n",
            "Speed: 1.6ms preprocess, 943.1ms inference, 1.1ms postprocess per image at shape (1, 3, 384, 640)\n",
            "\n",
            "image 1/1 /content/video0/frames_rgb_0/0233.png: 384x640 4 woods, 5 glasss, 1 plastic, 5 metals, 937.0ms\n",
            "Speed: 1.5ms preprocess, 937.0ms inference, 1.1ms postprocess per image at shape (1, 3, 384, 640)\n",
            "\n",
            "image 1/1 /content/video0/frames_rgb_0/0057.png: 384x640 4 woods, 4 glasss, 1 plastic, 1 metal, 948.2ms\n",
            "Speed: 1.6ms preprocess, 948.2ms inference, 1.4ms postprocess per image at shape (1, 3, 384, 640)\n",
            "\n",
            "image 1/1 /content/video0/frames_rgb_0/0023.png: 384x640 7 woods, 7 glasss, 8 plastics, 2 metals, 964.6ms\n",
            "Speed: 2.1ms preprocess, 964.6ms inference, 1.6ms postprocess per image at shape (1, 3, 384, 640)\n",
            "\n",
            "image 1/1 /content/video0/frames_rgb_0/0239.png: 384x640 3 woods, 5 glasss, 3 metals, 972.8ms\n",
            "Speed: 3.3ms preprocess, 972.8ms inference, 1.2ms postprocess per image at shape (1, 3, 384, 640)\n",
            "\n",
            "image 1/1 /content/video0/frames_rgb_0/0118.png: 384x640 4 woods, 3 glasss, 4 plastics, 5 metals, 950.9ms\n",
            "Speed: 1.8ms preprocess, 950.9ms inference, 1.0ms postprocess per image at shape (1, 3, 384, 640)\n",
            "\n",
            "image 1/1 /content/video0/frames_rgb_0/0097.png: 384x640 4 woods, 6 glasss, 4 plastics, 2 metals, 943.3ms\n",
            "Speed: 1.5ms preprocess, 943.3ms inference, 1.1ms postprocess per image at shape (1, 3, 384, 640)\n",
            "\n",
            "image 1/1 /content/video0/frames_rgb_0/0140.png: 384x640 4 woods, 6 glasss, 1 plastic, 5 metals, 936.2ms\n",
            "Speed: 1.9ms preprocess, 936.2ms inference, 1.1ms postprocess per image at shape (1, 3, 384, 640)\n",
            "\n",
            "image 1/1 /content/video0/frames_rgb_0/0148.png: 384x640 6 woods, 5 glasss, 1 plastic, 5 metals, 939.7ms\n",
            "Speed: 1.5ms preprocess, 939.7ms inference, 1.4ms postprocess per image at shape (1, 3, 384, 640)\n",
            "\n",
            "image 1/1 /content/video0/frames_rgb_0/0047.png: 384x640 3 woods, 4 glasss, 2 plastics, 2 metals, 1252.2ms\n",
            "Speed: 1.5ms preprocess, 1252.2ms inference, 1.4ms postprocess per image at shape (1, 3, 384, 640)\n",
            "\n",
            "image 1/1 /content/video0/frames_rgb_0/0287.png: 384x640 5 woods, 3 glasss, 3 plastics, 4 metals, 1583.4ms\n",
            "Speed: 1.8ms preprocess, 1583.4ms inference, 1.4ms postprocess per image at shape (1, 3, 384, 640)\n",
            "\n",
            "image 1/1 /content/video0/frames_rgb_0/0170.png: 384x640 6 woods, 3 glasss, 5 plastics, 2 metals, 1246.5ms\n",
            "Speed: 1.8ms preprocess, 1246.5ms inference, 1.3ms postprocess per image at shape (1, 3, 384, 640)\n",
            "\n",
            "image 1/1 /content/video0/frames_rgb_0/0229.png: 384x640 5 woods, 5 glasss, 2 plastics, 6 metals, 994.3ms\n",
            "Speed: 2.0ms preprocess, 994.3ms inference, 1.2ms postprocess per image at shape (1, 3, 384, 640)\n",
            "\n",
            "image 1/1 /content/video0/frames_rgb_0/0143.png: 384x640 5 woods, 6 glasss, 1 plastic, 4 metals, 967.2ms\n",
            "Speed: 1.8ms preprocess, 967.2ms inference, 1.5ms postprocess per image at shape (1, 3, 384, 640)\n",
            "\n",
            "image 1/1 /content/video0/frames_rgb_0/0198.png: 384x640 5 woods, 4 glasss, 7 plastics, 5 metals, 1044.7ms\n",
            "Speed: 2.0ms preprocess, 1044.7ms inference, 1.4ms postprocess per image at shape (1, 3, 384, 640)\n",
            "\n",
            "image 1/1 /content/video0/frames_rgb_0/0145.png: 384x640 5 woods, 5 glasss, 4 metals, 1040.8ms\n",
            "Speed: 2.3ms preprocess, 1040.8ms inference, 1.3ms postprocess per image at shape (1, 3, 384, 640)\n",
            "\n",
            "image 1/1 /content/video0/frames_rgb_0/0227.png: 384x640 5 woods, 5 glasss, 2 plastics, 6 metals, 998.9ms\n",
            "Speed: 2.3ms preprocess, 998.9ms inference, 1.2ms postprocess per image at shape (1, 3, 384, 640)\n",
            "\n",
            "image 1/1 /content/video0/frames_rgb_0/0022.png: 384x640 7 woods, 6 glasss, 8 plastics, 2 metals, 936.5ms\n",
            "Speed: 1.9ms preprocess, 936.5ms inference, 1.1ms postprocess per image at shape (1, 3, 384, 640)\n",
            "\n",
            "image 1/1 /content/video0/frames_rgb_0/0274.png: 384x640 4 woods, 3 glasss, 6 plastics, 5 metals, 946.0ms\n",
            "Speed: 2.1ms preprocess, 946.0ms inference, 1.2ms postprocess per image at shape (1, 3, 384, 640)\n",
            "\n",
            "image 1/1 /content/video0/frames_rgb_0/0286.png: 384x640 6 woods, 3 glasss, 3 plastics, 4 metals, 954.0ms\n",
            "Speed: 1.5ms preprocess, 954.0ms inference, 1.3ms postprocess per image at shape (1, 3, 384, 640)\n",
            "\n",
            "image 1/1 /content/video0/frames_rgb_0/0197.png: 384x640 5 woods, 3 glasss, 5 plastics, 4 metals, 1013.8ms\n",
            "Speed: 2.8ms preprocess, 1013.8ms inference, 1.6ms postprocess per image at shape (1, 3, 384, 640)\n",
            "\n",
            "image 1/1 /content/video0/frames_rgb_0/0149.png: 384x640 5 woods, 5 glasss, 1 plastic, 5 metals, 1403.0ms\n",
            "Speed: 1.9ms preprocess, 1403.0ms inference, 1.3ms postprocess per image at shape (1, 3, 384, 640)\n",
            "\n",
            "image 1/1 /content/video0/frames_rgb_0/0103.png: 384x640 3 woods, 7 glasss, 5 plastics, 2 metals, 1585.1ms\n",
            "Speed: 1.7ms preprocess, 1585.1ms inference, 1.6ms postprocess per image at shape (1, 3, 384, 640)\n",
            "\n",
            "image 1/1 /content/video0/frames_rgb_0/0056.png: 384x640 5 woods, 4 glasss, 1 plastic, 2 metals, 1106.2ms\n",
            "Speed: 1.8ms preprocess, 1106.2ms inference, 1.1ms postprocess per image at shape (1, 3, 384, 640)\n",
            "\n",
            "image 1/1 /content/video0/frames_rgb_0/0105.png: 384x640 3 woods, 4 glasss, 3 plastics, 2 metals, 973.1ms\n",
            "Speed: 2.3ms preprocess, 973.1ms inference, 1.7ms postprocess per image at shape (1, 3, 384, 640)\n",
            "\n",
            "image 1/1 /content/video0/frames_rgb_0/0095.png: 384x640 4 woods, 6 glasss, 4 plastics, 2 metals, 1470.7ms\n",
            "Speed: 2.0ms preprocess, 1470.7ms inference, 1.1ms postprocess per image at shape (1, 3, 384, 640)\n",
            "\n",
            "image 1/1 /content/video0/frames_rgb_0/0217.png: 384x640 6 woods, 1 glass, 3 plastics, 6 metals, 993.3ms\n",
            "Speed: 1.7ms preprocess, 993.3ms inference, 1.3ms postprocess per image at shape (1, 3, 384, 640)\n",
            "\n",
            "image 1/1 /content/video0/frames_rgb_0/0196.png: 384x640 6 woods, 3 glasss, 4 plastics, 5 metals, 1015.0ms\n",
            "Speed: 2.7ms preprocess, 1015.0ms inference, 1.2ms postprocess per image at shape (1, 3, 384, 640)\n",
            "\n",
            "image 1/1 /content/video0/frames_rgb_0/0177.png: 384x640 8 woods, 3 glasss, 7 plastics, 1 metal, 1012.6ms\n",
            "Speed: 2.0ms preprocess, 1012.6ms inference, 1.4ms postprocess per image at shape (1, 3, 384, 640)\n",
            "\n",
            "image 1/1 /content/video0/frames_rgb_0/0139.png: 384x640 4 woods, 7 glasss, 1 plastic, 6 metals, 959.7ms\n",
            "Speed: 2.2ms preprocess, 959.7ms inference, 1.2ms postprocess per image at shape (1, 3, 384, 640)\n",
            "\n",
            "image 1/1 /content/video0/frames_rgb_0/0155.png: 384x640 3 woods, 6 glasss, 1 plastic, 3 metals, 1005.4ms\n",
            "Speed: 2.0ms preprocess, 1005.4ms inference, 1.4ms postprocess per image at shape (1, 3, 384, 640)\n",
            "\n",
            "image 1/1 /content/video0/frames_rgb_0/0320.png: 384x640 4 woods, 4 glasss, 1 plastic, 4 metals, 1028.1ms\n",
            "Speed: 2.1ms preprocess, 1028.1ms inference, 1.3ms postprocess per image at shape (1, 3, 384, 640)\n",
            "\n",
            "image 1/1 /content/video0/frames_rgb_0/0128.png: 384x640 4 woods, 2 glasss, 3 plastics, 4 metals, 1333.1ms\n",
            "Speed: 2.3ms preprocess, 1333.1ms inference, 1.7ms postprocess per image at shape (1, 3, 384, 640)\n",
            "\n",
            "image 1/1 /content/video0/frames_rgb_0/0204.png: 384x640 3 woods, 4 glasss, 3 plastics, 5 metals, 1627.1ms\n",
            "Speed: 2.3ms preprocess, 1627.1ms inference, 1.7ms postprocess per image at shape (1, 3, 384, 640)\n",
            "\n",
            "image 1/1 /content/video0/frames_rgb_0/0270.png: 384x640 6 woods, 5 glasss, 5 plastics, 4 metals, 1263.4ms\n",
            "Speed: 2.0ms preprocess, 1263.4ms inference, 1.1ms postprocess per image at shape (1, 3, 384, 640)\n",
            "\n",
            "image 1/1 /content/video0/frames_rgb_0/0165.png: 384x640 3 woods, 4 glasss, 3 plastics, 3 metals, 966.3ms\n",
            "Speed: 1.6ms preprocess, 966.3ms inference, 1.2ms postprocess per image at shape (1, 3, 384, 640)\n",
            "\n",
            "image 1/1 /content/video0/frames_rgb_0/0108.png: 384x640 4 woods, 4 glasss, 5 plastics, 1 metal, 964.3ms\n",
            "Speed: 1.9ms preprocess, 964.3ms inference, 1.4ms postprocess per image at shape (1, 3, 384, 640)\n",
            "\n",
            "image 1/1 /content/video0/frames_rgb_0/0072.png: 384x640 6 woods, 3 glasss, 6 plastics, 1 metal, 1024.2ms\n",
            "Speed: 2.0ms preprocess, 1024.2ms inference, 1.2ms postprocess per image at shape (1, 3, 384, 640)\n",
            "\n",
            "image 1/1 /content/video0/frames_rgb_0/0049.png: 384x640 3 woods, 4 glasss, 2 plastics, 2 metals, 961.3ms\n",
            "Speed: 2.0ms preprocess, 961.3ms inference, 1.3ms postprocess per image at shape (1, 3, 384, 640)\n",
            "\n",
            "image 1/1 /content/video0/frames_rgb_0/0265.png: 384x640 5 woods, 4 glasss, 8 plastics, 2 metals, 1010.6ms\n",
            "Speed: 2.2ms preprocess, 1010.6ms inference, 1.3ms postprocess per image at shape (1, 3, 384, 640)\n",
            "\n",
            "image 1/1 /content/video0/frames_rgb_0/0210.png: 384x640 4 woods, 2 glasss, 3 plastics, 5 metals, 966.3ms\n",
            "Speed: 1.7ms preprocess, 966.3ms inference, 1.1ms postprocess per image at shape (1, 3, 384, 640)\n",
            "\n",
            "image 1/1 /content/video0/frames_rgb_0/0131.png: 384x640 3 woods, 3 glasss, 4 plastics, 5 metals, 963.3ms\n",
            "Speed: 1.6ms preprocess, 963.3ms inference, 1.1ms postprocess per image at shape (1, 3, 384, 640)\n",
            "\n",
            "image 1/1 /content/video0/frames_rgb_0/0024.png: 384x640 7 woods, 7 glasss, 9 plastics, 2 metals, 971.8ms\n",
            "Speed: 1.5ms preprocess, 971.8ms inference, 1.1ms postprocess per image at shape (1, 3, 384, 640)\n",
            "\n",
            "image 1/1 /content/video0/frames_rgb_0/0119.png: 384x640 4 woods, 3 glasss, 4 plastics, 6 metals, 950.9ms\n",
            "Speed: 1.6ms preprocess, 950.9ms inference, 1.1ms postprocess per image at shape (1, 3, 384, 640)\n",
            "\n",
            "image 1/1 /content/video0/frames_rgb_0/0278.png: 384x640 5 woods, 3 glasss, 4 plastics, 4 metals, 1276.1ms\n",
            "Speed: 1.5ms preprocess, 1276.1ms inference, 1.5ms postprocess per image at shape (1, 3, 384, 640)\n",
            "\n",
            "image 1/1 /content/video0/frames_rgb_0/0240.png: 384x640 3 woods, 5 glasss, 3 metals, 1573.2ms\n",
            "Speed: 1.7ms preprocess, 1573.2ms inference, 1.3ms postprocess per image at shape (1, 3, 384, 640)\n",
            "\n",
            "image 1/1 /content/video0/frames_rgb_0/0033.png: 384x640 5 woods, 6 glasss, 6 plastics, 2 metals, 1173.7ms\n",
            "Speed: 5.1ms preprocess, 1173.7ms inference, 1.1ms postprocess per image at shape (1, 3, 384, 640)\n",
            "\n",
            "image 1/1 /content/video0/frames_rgb_0/0226.png: 384x640 5 woods, 4 glasss, 2 plastics, 6 metals, 949.4ms\n",
            "Speed: 1.6ms preprocess, 949.4ms inference, 1.4ms postprocess per image at shape (1, 3, 384, 640)\n",
            "\n",
            "image 1/1 /content/video0/frames_rgb_0/0138.png: 384x640 4 woods, 7 glasss, 2 plastics, 5 metals, 940.1ms\n",
            "Speed: 1.6ms preprocess, 940.1ms inference, 1.3ms postprocess per image at shape (1, 3, 384, 640)\n",
            "\n",
            "image 1/1 /content/video0/frames_rgb_0/0187.png: 384x640 11 woods, 3 glasss, 9 plastics, 2 metals, 1007.9ms\n",
            "Speed: 1.6ms preprocess, 1007.9ms inference, 1.4ms postprocess per image at shape (1, 3, 384, 640)\n",
            "\n",
            "image 1/1 /content/video0/frames_rgb_0/0054.png: 384x640 6 woods, 3 glasss, 2 plastics, 3 metals, 1059.8ms\n",
            "Speed: 2.5ms preprocess, 1059.8ms inference, 1.2ms postprocess per image at shape (1, 3, 384, 640)\n",
            "\n",
            "image 1/1 /content/video0/frames_rgb_0/0324.png: 384x640 7 woods, 2 glasss, 1 plastic, 7 metals, 969.8ms\n",
            "Speed: 2.4ms preprocess, 969.8ms inference, 1.2ms postprocess per image at shape (1, 3, 384, 640)\n",
            "\n",
            "image 1/1 /content/video0/frames_rgb_0/0249.png: 384x640 1 wood, 6 glasss, 4 plastics, 2 metals, 954.1ms\n",
            "Speed: 1.9ms preprocess, 954.1ms inference, 1.1ms postprocess per image at shape (1, 3, 384, 640)\n",
            "\n",
            "image 1/1 /content/video0/frames_rgb_0/0232.png: 384x640 4 woods, 5 glasss, 2 plastics, 5 metals, 1000.1ms\n",
            "Speed: 1.7ms preprocess, 1000.1ms inference, 1.2ms postprocess per image at shape (1, 3, 384, 640)\n",
            "\n",
            "image 1/1 /content/video0/frames_rgb_0/0171.png: 384x640 9 woods, 3 glasss, 6 plastics, 2 metals, 985.2ms\n",
            "Speed: 2.0ms preprocess, 985.2ms inference, 1.2ms postprocess per image at shape (1, 3, 384, 640)\n",
            "\n",
            "image 1/1 /content/video0/frames_rgb_0/0300.png: 384x640 3 woods, 6 glasss, 3 plastics, 5 metals, 945.9ms\n",
            "Speed: 1.7ms preprocess, 945.9ms inference, 1.1ms postprocess per image at shape (1, 3, 384, 640)\n",
            "\n",
            "image 1/1 /content/video0/frames_rgb_0/0273.png: 384x640 4 woods, 2 glasss, 6 plastics, 4 metals, 1398.8ms\n",
            "Speed: 1.6ms preprocess, 1398.8ms inference, 1.6ms postprocess per image at shape (1, 3, 384, 640)\n",
            "\n",
            "image 1/1 /content/video0/frames_rgb_0/0075.png: 384x640 5 woods, 3 glasss, 6 plastics, 1 metal, 1624.2ms\n",
            "Speed: 6.3ms preprocess, 1624.2ms inference, 1.5ms postprocess per image at shape (1, 3, 384, 640)\n",
            "\n",
            "image 1/1 /content/video0/frames_rgb_0/0153.png: 384x640 5 woods, 5 glasss, 1 plastic, 5 metals, 1117.1ms\n",
            "Speed: 2.0ms preprocess, 1117.1ms inference, 1.2ms postprocess per image at shape (1, 3, 384, 640)\n",
            "\n",
            "image 1/1 /content/video0/frames_rgb_0/0074.png: 384x640 5 woods, 3 glasss, 6 plastics, 2 metals, 962.7ms\n",
            "Speed: 1.6ms preprocess, 962.7ms inference, 1.8ms postprocess per image at shape (1, 3, 384, 640)\n",
            "\n",
            "image 1/1 /content/video0/frames_rgb_0/0228.png: 384x640 5 woods, 5 glasss, 2 plastics, 6 metals, 1004.6ms\n",
            "Speed: 1.7ms preprocess, 1004.6ms inference, 1.3ms postprocess per image at shape (1, 3, 384, 640)\n",
            "\n",
            "image 1/1 /content/video0/frames_rgb_0/0038.png: 384x640 5 woods, 7 glasss, 4 plastics, 3 metals, 963.4ms\n",
            "Speed: 2.0ms preprocess, 963.4ms inference, 1.1ms postprocess per image at shape (1, 3, 384, 640)\n",
            "\n",
            "image 1/1 /content/video0/frames_rgb_0/0259.png: 384x640 3 woods, 3 glasss, 7 plastics, 1 metal, 948.6ms\n",
            "Speed: 1.7ms preprocess, 948.6ms inference, 1.1ms postprocess per image at shape (1, 3, 384, 640)\n",
            "\n",
            "image 1/1 /content/video0/frames_rgb_0/0112.png: 384x640 4 woods, 4 glasss, 3 plastics, 3 metals, 1000.6ms\n",
            "Speed: 1.8ms preprocess, 1000.6ms inference, 1.3ms postprocess per image at shape (1, 3, 384, 640)\n",
            "\n",
            "image 1/1 /content/video0/frames_rgb_0/0124.png: 384x640 4 woods, 3 glasss, 3 plastics, 3 metals, 975.6ms\n",
            "Speed: 2.0ms preprocess, 975.6ms inference, 1.6ms postprocess per image at shape (1, 3, 384, 640)\n",
            "\n",
            "image 1/1 /content/video0/frames_rgb_0/0281.png: 384x640 6 woods, 4 glasss, 3 plastics, 5 metals, 1000.2ms\n",
            "Speed: 1.8ms preprocess, 1000.2ms inference, 1.2ms postprocess per image at shape (1, 3, 384, 640)\n",
            "\n",
            "image 1/1 /content/video0/frames_rgb_0/0267.png: 384x640 5 woods, 4 glasss, 9 plastics, 3 metals, 969.2ms\n",
            "Speed: 2.0ms preprocess, 969.2ms inference, 1.1ms postprocess per image at shape (1, 3, 384, 640)\n",
            "\n",
            "image 1/1 /content/video0/frames_rgb_0/0066.png: 384x640 3 woods, 3 glasss, 3 plastics, 1 metal, 941.6ms\n",
            "Speed: 1.7ms preprocess, 941.6ms inference, 1.1ms postprocess per image at shape (1, 3, 384, 640)\n",
            "\n",
            "image 1/1 /content/video0/frames_rgb_0/0039.png: 384x640 5 woods, 6 glasss, 4 plastics, 2 metals, 1456.5ms\n",
            "Speed: 1.6ms preprocess, 1456.5ms inference, 1.6ms postprocess per image at shape (1, 3, 384, 640)\n",
            "\n",
            "image 1/1 /content/video0/frames_rgb_0/0058.png: 384x640 3 woods, 3 glasss, 2 plastics, 1 metal, 1631.1ms\n",
            "Speed: 2.4ms preprocess, 1631.1ms inference, 1.8ms postprocess per image at shape (1, 3, 384, 640)\n",
            "\n",
            "image 1/1 /content/video0/frames_rgb_0/0202.png: 384x640 4 woods, 4 glasss, 3 plastics, 4 metals, 1106.8ms\n",
            "Speed: 2.1ms preprocess, 1106.8ms inference, 1.3ms postprocess per image at shape (1, 3, 384, 640)\n",
            "\n",
            "image 1/1 /content/video0/frames_rgb_0/0332.png: 384x640 8 woods, 1 glass, 2 plastics, 8 metals, 956.2ms\n",
            "Speed: 2.0ms preprocess, 956.2ms inference, 1.2ms postprocess per image at shape (1, 3, 384, 640)\n",
            "\n",
            "image 1/1 /content/video0/frames_rgb_0/0158.png: 384x640 2 woods, 6 glasss, 1 plastic, 2 metals, 948.1ms\n",
            "Speed: 2.0ms preprocess, 948.1ms inference, 1.0ms postprocess per image at shape (1, 3, 384, 640)\n",
            "\n",
            "image 1/1 /content/video0/frames_rgb_0/0213.png: 384x640 5 woods, 2 glasss, 3 plastics, 5 metals, 950.8ms\n",
            "Speed: 2.0ms preprocess, 950.8ms inference, 1.6ms postprocess per image at shape (1, 3, 384, 640)\n",
            "\n",
            "image 1/1 /content/video0/frames_rgb_0/0021.png: 384x640 7 woods, 7 glasss, 8 plastics, 2 metals, 982.9ms\n",
            "Speed: 1.6ms preprocess, 982.9ms inference, 1.8ms postprocess per image at shape (1, 3, 384, 640)\n",
            "\n",
            "image 1/1 /content/video0/frames_rgb_0/0326.png: 384x640 7 woods, 2 glasss, 1 plastic, 5 metals, 979.0ms\n",
            "Speed: 2.5ms preprocess, 979.0ms inference, 1.1ms postprocess per image at shape (1, 3, 384, 640)\n",
            "\n",
            "image 1/1 /content/video0/frames_rgb_0/0279.png: 384x640 6 woods, 3 glasss, 4 plastics, 4 metals, 992.9ms\n",
            "Speed: 1.8ms preprocess, 992.9ms inference, 1.4ms postprocess per image at shape (1, 3, 384, 640)\n",
            "\n",
            "image 1/1 /content/video0/frames_rgb_0/0030.png: 384x640 4 woods, 6 glasss, 6 plastics, 2 metals, 989.8ms\n",
            "Speed: 2.0ms preprocess, 989.8ms inference, 1.2ms postprocess per image at shape (1, 3, 384, 640)\n",
            "\n",
            "image 1/1 /content/video0/frames_rgb_0/0264.png: 384x640 5 woods, 4 glasss, 10 plastics, 2 metals, 958.4ms\n",
            "Speed: 2.4ms preprocess, 958.4ms inference, 1.1ms postprocess per image at shape (1, 3, 384, 640)\n",
            "\n",
            "image 1/1 /content/video0/frames_rgb_0/0135.png: 384x640 5 woods, 3 glasss, 3 plastics, 6 metals, 975.4ms\n",
            "Speed: 1.5ms preprocess, 975.4ms inference, 1.3ms postprocess per image at shape (1, 3, 384, 640)\n",
            "\n",
            "image 1/1 /content/video0/frames_rgb_0/0280.png: 384x640 8 woods, 3 glasss, 4 plastics, 5 metals, 1581.3ms\n",
            "Speed: 2.2ms preprocess, 1581.3ms inference, 2.7ms postprocess per image at shape (1, 3, 384, 640)\n",
            "\n",
            "image 1/1 /content/video0/frames_rgb_0/0134.png: 384x640 4 woods, 3 glasss, 3 plastics, 5 metals, 1636.5ms\n",
            "Speed: 2.4ms preprocess, 1636.5ms inference, 1.9ms postprocess per image at shape (1, 3, 384, 640)\n",
            "\n",
            "image 1/1 /content/video0/frames_rgb_0/0064.png: 384x640 3 woods, 3 glasss, 3 plastics, 1 metal, 1101.1ms\n",
            "Speed: 4.3ms preprocess, 1101.1ms inference, 1.2ms postprocess per image at shape (1, 3, 384, 640)\n",
            "\n",
            "image 1/1 /content/video0/frames_rgb_0/0288.png: 384x640 4 woods, 3 glasss, 3 plastics, 4 metals, 1025.4ms\n",
            "Speed: 2.3ms preprocess, 1025.4ms inference, 1.2ms postprocess per image at shape (1, 3, 384, 640)\n",
            "\n",
            "image 1/1 /content/video0/frames_rgb_0/0262.png: 384x640 4 woods, 4 glasss, 7 plastics, 1 metal, 952.1ms\n",
            "Speed: 2.0ms preprocess, 952.1ms inference, 1.1ms postprocess per image at shape (1, 3, 384, 640)\n",
            "\n",
            "image 1/1 /content/video0/frames_rgb_0/0208.png: 384x640 4 woods, 3 glasss, 2 plastics, 7 metals, 1043.6ms\n",
            "Speed: 2.5ms preprocess, 1043.6ms inference, 1.2ms postprocess per image at shape (1, 3, 384, 640)\n",
            "\n",
            "image 1/1 /content/video0/frames_rgb_0/0277.png: 384x640 5 woods, 3 glasss, 6 plastics, 4 metals, 970.7ms\n",
            "Speed: 1.9ms preprocess, 970.7ms inference, 1.1ms postprocess per image at shape (1, 3, 384, 640)\n",
            "\n",
            "image 1/1 /content/video0/frames_rgb_0/0098.png: 384x640 4 woods, 6 glasss, 5 plastics, 1 metal, 962.3ms\n",
            "Speed: 1.6ms preprocess, 962.3ms inference, 1.1ms postprocess per image at shape (1, 3, 384, 640)\n",
            "\n",
            "image 1/1 /content/video0/frames_rgb_0/0150.png: 384x640 5 woods, 5 glasss, 1 plastic, 4 metals, 1011.1ms\n",
            "Speed: 1.7ms preprocess, 1011.1ms inference, 1.2ms postprocess per image at shape (1, 3, 384, 640)\n",
            "\n",
            "image 1/1 /content/video0/frames_rgb_0/0015.png: 384x640 10 woods, 7 glasss, 8 plastics, 2 metals, 946.7ms\n",
            "Speed: 2.0ms preprocess, 946.7ms inference, 1.8ms postprocess per image at shape (1, 3, 384, 640)\n",
            "\n",
            "image 1/1 /content/video0/frames_rgb_0/0087.png: 384x640 5 woods, 3 glasss, 5 plastics, 2 metals, 953.3ms\n",
            "Speed: 2.4ms preprocess, 953.3ms inference, 1.1ms postprocess per image at shape (1, 3, 384, 640)\n",
            "\n",
            "image 1/1 /content/video0/frames_rgb_0/0203.png: 384x640 4 woods, 4 glasss, 3 plastics, 4 metals, 1009.5ms\n",
            "Speed: 1.8ms preprocess, 1009.5ms inference, 1.4ms postprocess per image at shape (1, 3, 384, 640)\n",
            "\n",
            "image 1/1 /content/video0/frames_rgb_0/0297.png: 384x640 3 woods, 7 glasss, 4 plastics, 4 metals, 1672.1ms\n",
            "Speed: 1.8ms preprocess, 1672.1ms inference, 2.0ms postprocess per image at shape (1, 3, 384, 640)\n",
            "\n",
            "image 1/1 /content/video0/frames_rgb_0/0291.png: 384x640 4 woods, 5 glasss, 3 plastics, 4 metals, 1443.8ms\n",
            "Speed: 2.2ms preprocess, 1443.8ms inference, 1.2ms postprocess per image at shape (1, 3, 384, 640)\n",
            "\n",
            "image 1/1 /content/video0/frames_rgb_0/0175.png: 384x640 8 woods, 3 glasss, 6 plastics, 1 metal, 959.7ms\n",
            "Speed: 2.1ms preprocess, 959.7ms inference, 1.1ms postprocess per image at shape (1, 3, 384, 640)\n",
            "\n",
            "image 1/1 /content/video0/frames_rgb_0/0243.png: 384x640 1 wood, 5 glasss, 1 plastic, 2 metals, 951.5ms\n",
            "Speed: 1.6ms preprocess, 951.5ms inference, 1.2ms postprocess per image at shape (1, 3, 384, 640)\n",
            "\n",
            "image 1/1 /content/video0/frames_rgb_0/0214.png: 384x640 4 woods, 2 glasss, 4 plastics, 5 metals, 988.8ms\n",
            "Speed: 1.8ms preprocess, 988.8ms inference, 1.0ms postprocess per image at shape (1, 3, 384, 640)\n",
            "\n",
            "image 1/1 /content/video0/frames_rgb_0/0006.png: 384x640 7 woods, 5 glasss, 11 plastics, 2 metals, 1004.3ms\n",
            "Speed: 1.6ms preprocess, 1004.3ms inference, 1.4ms postprocess per image at shape (1, 3, 384, 640)\n",
            "\n",
            "image 1/1 /content/video0/frames_rgb_0/0099.png: 384x640 4 woods, 7 glasss, 4 plastics, 2 metals, 962.8ms\n",
            "Speed: 2.2ms preprocess, 962.8ms inference, 1.1ms postprocess per image at shape (1, 3, 384, 640)\n",
            "\n",
            "image 1/1 /content/video0/frames_rgb_0/0011.png: 384x640 7 woods, 6 glasss, 9 plastics, 4 metals, 940.0ms\n",
            "Speed: 1.8ms preprocess, 940.0ms inference, 1.1ms postprocess per image at shape (1, 3, 384, 640)\n",
            "\n",
            "image 1/1 /content/video0/frames_rgb_0/0016.png: 384x640 9 woods, 8 glasss, 9 plastics, 2 metals, 982.4ms\n",
            "Speed: 1.7ms preprocess, 982.4ms inference, 1.4ms postprocess per image at shape (1, 3, 384, 640)\n",
            "\n",
            "image 1/1 /content/video0/frames_rgb_0/0146.png: 384x640 5 woods, 5 glasss, 5 metals, 991.9ms\n",
            "Speed: 2.0ms preprocess, 991.9ms inference, 1.1ms postprocess per image at shape (1, 3, 384, 640)\n",
            "\n",
            "image 1/1 /content/video0/frames_rgb_0/0310.png: 384x640 2 woods, 7 glasss, 2 plastics, 5 metals, 1016.8ms\n",
            "Speed: 1.8ms preprocess, 1016.8ms inference, 1.4ms postprocess per image at shape (1, 3, 384, 640)\n",
            "\n",
            "image 1/1 /content/video0/frames_rgb_0/0044.png: 384x640 3 woods, 6 glasss, 3 plastics, 2 metals, 1224.0ms\n",
            "Speed: 2.0ms preprocess, 1224.0ms inference, 2.0ms postprocess per image at shape (1, 3, 384, 640)\n",
            "\n",
            "image 1/1 /content/video0/frames_rgb_0/0083.png: 384x640 6 woods, 3 glasss, 5 plastics, 2 metals, 1683.0ms\n",
            "Speed: 2.3ms preprocess, 1683.0ms inference, 1.7ms postprocess per image at shape (1, 3, 384, 640)\n",
            "\n",
            "image 1/1 /content/video0/frames_rgb_0/0223.png: 384x640 5 woods, 2 glasss, 2 plastics, 5 metals, 1330.9ms\n",
            "Speed: 2.6ms preprocess, 1330.9ms inference, 1.2ms postprocess per image at shape (1, 3, 384, 640)\n",
            "\n",
            "image 1/1 /content/video0/frames_rgb_0/0176.png: 384x640 8 woods, 3 glasss, 8 plastics, 1 metal, 957.3ms\n",
            "Speed: 1.8ms preprocess, 957.3ms inference, 1.3ms postprocess per image at shape (1, 3, 384, 640)\n",
            "\n",
            "image 1/1 /content/video0/frames_rgb_0/0018.png: 384x640 10 woods, 7 glasss, 9 plastics, 2 metals, 1020.3ms\n",
            "Speed: 2.0ms preprocess, 1020.3ms inference, 1.2ms postprocess per image at shape (1, 3, 384, 640)\n",
            "\n",
            "image 1/1 /content/video0/frames_rgb_0/0236.png: 384x640 4 woods, 5 glasss, 1 plastic, 4 metals, 975.5ms\n",
            "Speed: 1.9ms preprocess, 975.5ms inference, 1.4ms postprocess per image at shape (1, 3, 384, 640)\n",
            "\n",
            "image 1/1 /content/video0/frames_rgb_0/0184.png: 384x640 9 woods, 2 glasss, 10 plastics, 2 metals, 1025.7ms\n",
            "Speed: 2.0ms preprocess, 1025.7ms inference, 1.2ms postprocess per image at shape (1, 3, 384, 640)\n",
            "\n",
            "image 1/1 /content/video0/frames_rgb_0/0307.png: 384x640 1 wood, 7 glasss, 2 plastics, 6 metals, 973.5ms\n",
            "Speed: 1.8ms preprocess, 973.5ms inference, 1.4ms postprocess per image at shape (1, 3, 384, 640)\n",
            "\n",
            "image 1/1 /content/video0/frames_rgb_0/0200.png: 384x640 6 woods, 4 glasss, 3 plastics, 5 metals, 1026.4ms\n",
            "Speed: 2.0ms preprocess, 1026.4ms inference, 1.4ms postprocess per image at shape (1, 3, 384, 640)\n",
            "\n",
            "image 1/1 /content/video0/frames_rgb_0/0077.png: 384x640 4 woods, 4 glasss, 7 plastics, 2 metals, 1010.1ms\n",
            "Speed: 2.0ms preprocess, 1010.1ms inference, 1.1ms postprocess per image at shape (1, 3, 384, 640)\n",
            "\n",
            "image 1/1 /content/video0/frames_rgb_0/0283.png: 384x640 6 woods, 4 glasss, 3 plastics, 6 metals, 943.3ms\n",
            "Speed: 1.8ms preprocess, 943.3ms inference, 1.1ms postprocess per image at shape (1, 3, 384, 640)\n",
            "\n",
            "image 1/1 /content/video0/frames_rgb_0/0292.png: 384x640 4 woods, 5 glasss, 4 plastics, 4 metals, 960.0ms\n",
            "Speed: 1.6ms preprocess, 960.0ms inference, 1.2ms postprocess per image at shape (1, 3, 384, 640)\n",
            "\n",
            "image 1/1 /content/video0/frames_rgb_0/0261.png: 384x640 4 woods, 4 glasss, 8 plastics, 1431.5ms\n",
            "Speed: 1.6ms preprocess, 1431.5ms inference, 1.7ms postprocess per image at shape (1, 3, 384, 640)\n",
            "\n",
            "image 1/1 /content/video0/frames_rgb_0/0154.png: 384x640 3 woods, 6 glasss, 1 plastic, 5 metals, 1599.2ms\n",
            "Speed: 2.2ms preprocess, 1599.2ms inference, 1.6ms postprocess per image at shape (1, 3, 384, 640)\n",
            "\n",
            "image 1/1 /content/video0/frames_rgb_0/0224.png: 384x640 5 woods, 2 glasss, 2 plastics, 5 metals, 1102.6ms\n",
            "Speed: 2.0ms preprocess, 1102.6ms inference, 1.4ms postprocess per image at shape (1, 3, 384, 640)\n",
            "\n",
            "image 1/1 /content/video0/frames_rgb_0/0237.png: 384x640 4 woods, 5 glasss, 1 plastic, 5 metals, 943.0ms\n",
            "Speed: 1.7ms preprocess, 943.0ms inference, 1.1ms postprocess per image at shape (1, 3, 384, 640)\n",
            "\n",
            "image 1/1 /content/video0/frames_rgb_0/0173.png: 384x640 8 woods, 3 glasss, 5 plastics, 2 metals, 966.7ms\n",
            "Speed: 1.7ms preprocess, 966.7ms inference, 1.1ms postprocess per image at shape (1, 3, 384, 640)\n",
            "\n",
            "image 1/1 /content/video0/frames_rgb_0/0091.png: 384x640 5 woods, 3 glasss, 6 plastics, 2 metals, 949.2ms\n",
            "Speed: 1.5ms preprocess, 949.2ms inference, 1.2ms postprocess per image at shape (1, 3, 384, 640)\n",
            "\n",
            "image 1/1 /content/video0/frames_rgb_0/0282.png: 384x640 6 woods, 4 glasss, 3 plastics, 5 metals, 946.7ms\n",
            "Speed: 1.5ms preprocess, 946.7ms inference, 1.1ms postprocess per image at shape (1, 3, 384, 640)\n",
            "\n",
            "image 1/1 /content/video0/frames_rgb_0/0080.png: 384x640 6 woods, 3 glasss, 6 plastics, 2 metals, 1037.9ms\n",
            "Speed: 1.5ms preprocess, 1037.9ms inference, 1.3ms postprocess per image at shape (1, 3, 384, 640)\n",
            "\n",
            "image 1/1 /content/video0/frames_rgb_0/0194.png: 384x640 7 woods, 3 glasss, 5 plastics, 3 metals, 1064.4ms\n",
            "Speed: 2.1ms preprocess, 1064.4ms inference, 1.5ms postprocess per image at shape (1, 3, 384, 640)\n",
            "\n",
            "image 1/1 /content/video0/frames_rgb_0/0048.png: 384x640 3 woods, 4 glasss, 2 plastics, 2 metals, 953.3ms\n",
            "Speed: 1.7ms preprocess, 953.3ms inference, 1.0ms postprocess per image at shape (1, 3, 384, 640)\n",
            "\n",
            "image 1/1 /content/video0/frames_rgb_0/0181.png: 384x640 10 woods, 3 glasss, 7 plastics, 1 metal, 940.9ms\n",
            "Speed: 1.6ms preprocess, 940.9ms inference, 1.0ms postprocess per image at shape (1, 3, 384, 640)\n",
            "\n",
            "image 1/1 /content/video0/frames_rgb_0/0042.png: 384x640 3 woods, 6 glasss, 4 plastics, 3 metals, 998.2ms\n",
            "Speed: 1.5ms preprocess, 998.2ms inference, 1.3ms postprocess per image at shape (1, 3, 384, 640)\n",
            "\n",
            "image 1/1 /content/video0/frames_rgb_0/0147.png: 384x640 6 woods, 5 glasss, 5 metals, 1476.8ms\n",
            "Speed: 2.3ms preprocess, 1476.8ms inference, 1.7ms postprocess per image at shape (1, 3, 384, 640)\n",
            "\n",
            "image 1/1 /content/video0/frames_rgb_0/0125.png: 384x640 4 woods, 3 glasss, 3 plastics, 3 metals, 1609.1ms\n",
            "Speed: 2.1ms preprocess, 1609.1ms inference, 1.5ms postprocess per image at shape (1, 3, 384, 640)\n",
            "\n",
            "image 1/1 /content/video0/frames_rgb_0/0305.png: 384x640 2 woods, 8 glasss, 2 plastics, 6 metals, 1128.0ms\n",
            "Speed: 2.4ms preprocess, 1128.0ms inference, 1.2ms postprocess per image at shape (1, 3, 384, 640)\n",
            "\n",
            "image 1/1 /content/video0/frames_rgb_0/0219.png: 384x640 5 woods, 1 glass, 4 plastics, 5 metals, 958.7ms\n",
            "Speed: 1.7ms preprocess, 958.7ms inference, 1.2ms postprocess per image at shape (1, 3, 384, 640)\n",
            "\n",
            "image 1/1 /content/video0/frames_rgb_0/0231.png: 384x640 5 woods, 5 glasss, 1 plastic, 6 metals, 959.2ms\n",
            "Speed: 1.6ms preprocess, 959.2ms inference, 1.3ms postprocess per image at shape (1, 3, 384, 640)\n",
            "\n",
            "image 1/1 /content/video0/frames_rgb_0/0284.png: 384x640 6 woods, 3 glasss, 3 plastics, 5 metals, 1018.8ms\n",
            "Speed: 2.6ms preprocess, 1018.8ms inference, 1.3ms postprocess per image at shape (1, 3, 384, 640)\n",
            "\n",
            "image 1/1 /content/video0/frames_rgb_0/0162.png: 384x640 2 woods, 3 glasss, 2 plastics, 2 metals, 1007.0ms\n",
            "Speed: 2.0ms preprocess, 1007.0ms inference, 1.3ms postprocess per image at shape (1, 3, 384, 640)\n",
            "\n",
            "image 1/1 /content/video0/frames_rgb_0/0185.png: 384x640 9 woods, 3 glasss, 9 plastics, 2 metals, 1008.5ms\n",
            "Speed: 2.0ms preprocess, 1008.5ms inference, 1.4ms postprocess per image at shape (1, 3, 384, 640)\n",
            "\n",
            "image 1/1 /content/video0/frames_rgb_0/0314.png: 384x640 3 woods, 6 glasss, 3 plastics, 3 metals, 1015.3ms\n",
            "Speed: 2.0ms preprocess, 1015.3ms inference, 1.2ms postprocess per image at shape (1, 3, 384, 640)\n",
            "\n",
            "image 1/1 /content/video0/frames_rgb_0/0059.png: 384x640 4 woods, 3 glasss, 2 plastics, 1 metal, 1007.8ms\n",
            "Speed: 2.3ms preprocess, 1007.8ms inference, 1.4ms postprocess per image at shape (1, 3, 384, 640)\n",
            "\n",
            "image 1/1 /content/video0/frames_rgb_0/0020.png: 384x640 8 woods, 7 glasss, 9 plastics, 2 metals, 1022.7ms\n",
            "Speed: 2.0ms preprocess, 1022.7ms inference, 1.4ms postprocess per image at shape (1, 3, 384, 640)\n",
            "\n",
            "image 1/1 /content/video0/frames_rgb_0/0068.png: 384x640 3 woods, 3 glasss, 6 plastics, 1 metal, 1036.4ms\n",
            "Speed: 2.0ms preprocess, 1036.4ms inference, 2.3ms postprocess per image at shape (1, 3, 384, 640)\n",
            "\n",
            "image 1/1 /content/video0/frames_rgb_0/0040.png: 384x640 4 woods, 6 glasss, 4 plastics, 2 metals, 1652.1ms\n",
            "Speed: 2.3ms preprocess, 1652.1ms inference, 1.7ms postprocess per image at shape (1, 3, 384, 640)\n",
            "\n",
            "image 1/1 /content/video0/frames_rgb_0/0036.png: 384x640 6 woods, 7 glasss, 4 plastics, 2 metals, 1505.9ms\n",
            "Speed: 2.3ms preprocess, 1505.9ms inference, 1.3ms postprocess per image at shape (1, 3, 384, 640)\n",
            "\n",
            "image 1/1 /content/video0/frames_rgb_0/0256.png: 384x640 3 woods, 3 glasss, 6 plastics, 980.8ms\n",
            "Speed: 1.8ms preprocess, 980.8ms inference, 1.5ms postprocess per image at shape (1, 3, 384, 640)\n",
            "\n",
            "image 1/1 /content/video0/frames_rgb_0/0234.png: 384x640 4 woods, 5 glasss, 1 plastic, 4 metals, 1008.1ms\n",
            "Speed: 1.9ms preprocess, 1008.1ms inference, 1.2ms postprocess per image at shape (1, 3, 384, 640)\n",
            "\n",
            "image 1/1 /content/video0/frames_rgb_0/0244.png: 384x640 1 wood, 6 glasss, 2 plastics, 2 metals, 1035.5ms\n",
            "Speed: 2.1ms preprocess, 1035.5ms inference, 1.3ms postprocess per image at shape (1, 3, 384, 640)\n",
            "\n",
            "image 1/1 /content/video0/frames_rgb_0/0037.png: 384x640 6 woods, 7 glasss, 4 plastics, 2 metals, 1073.1ms\n",
            "Speed: 1.9ms preprocess, 1073.1ms inference, 1.7ms postprocess per image at shape (1, 3, 384, 640)\n",
            "\n",
            "image 1/1 /content/video0/frames_rgb_0/0322.png: 384x640 6 woods, 3 glasss, 1 plastic, 4 metals, 1053.7ms\n",
            "Speed: 2.8ms preprocess, 1053.7ms inference, 1.3ms postprocess per image at shape (1, 3, 384, 640)\n",
            "\n",
            "image 1/1 /content/video0/frames_rgb_0/0061.png: 384x640 3 woods, 4 glasss, 3 plastics, 1 metal, 1013.1ms\n",
            "Speed: 2.0ms preprocess, 1013.1ms inference, 1.3ms postprocess per image at shape (1, 3, 384, 640)\n",
            "\n",
            "image 1/1 /content/video0/frames_rgb_0/0003.png: 384x640 6 woods, 4 glasss, 6 plastics, 2 metals, 991.8ms\n",
            "Speed: 1.9ms preprocess, 991.8ms inference, 1.3ms postprocess per image at shape (1, 3, 384, 640)\n",
            "\n",
            "image 1/1 /content/video0/frames_rgb_0/0013.png: 384x640 7 woods, 6 glasss, 9 plastics, 3 metals, 1043.2ms\n",
            "Speed: 2.0ms preprocess, 1043.2ms inference, 1.4ms postprocess per image at shape (1, 3, 384, 640)\n",
            "\n",
            "image 1/1 /content/video0/frames_rgb_0/0328.png: 384x640 7 woods, 2 glasss, 1 plastic, 6 metals, 1028.4ms\n",
            "Speed: 2.7ms preprocess, 1028.4ms inference, 1.3ms postprocess per image at shape (1, 3, 384, 640)\n",
            "\n",
            "image 1/1 /content/video0/frames_rgb_0/0079.png: 384x640 5 woods, 4 glasss, 6 plastics, 3 metals, 1525.8ms\n",
            "Speed: 2.1ms preprocess, 1525.8ms inference, 1.7ms postprocess per image at shape (1, 3, 384, 640)\n",
            "\n",
            "image 1/1 /content/video0/frames_rgb_0/0216.png: 384x640 5 woods, 1 glass, 3 plastics, 7 metals, 1637.9ms\n",
            "Speed: 2.2ms preprocess, 1637.9ms inference, 1.7ms postprocess per image at shape (1, 3, 384, 640)\n",
            "\n",
            "image 1/1 /content/video0/frames_rgb_0/0251.png: 384x640 2 woods, 4 glasss, 4 plastics, 1 metal, 1070.2ms\n",
            "Speed: 6.3ms preprocess, 1070.2ms inference, 1.5ms postprocess per image at shape (1, 3, 384, 640)\n",
            "\n",
            "image 1/1 /content/video0/frames_rgb_0/0078.png: 384x640 5 woods, 3 glasss, 7 plastics, 2 metals, 968.5ms\n",
            "Speed: 2.0ms preprocess, 968.5ms inference, 1.6ms postprocess per image at shape (1, 3, 384, 640)\n",
            "\n",
            "image 1/1 /content/video0/frames_rgb_0/0199.png: 384x640 6 woods, 4 glasss, 5 plastics, 5 metals, 950.1ms\n",
            "Speed: 1.7ms preprocess, 950.1ms inference, 1.1ms postprocess per image at shape (1, 3, 384, 640)\n",
            "\n",
            "image 1/1 /content/video0/frames_rgb_0/0027.png: 384x640 5 woods, 7 glasss, 6 plastics, 3 metals, 952.9ms\n",
            "Speed: 1.5ms preprocess, 952.9ms inference, 1.1ms postprocess per image at shape (1, 3, 384, 640)\n",
            "\n",
            "image 1/1 /content/video0/frames_rgb_0/0012.png: 384x640 7 woods, 7 glasss, 9 plastics, 3 metals, 940.5ms\n",
            "Speed: 1.9ms preprocess, 940.5ms inference, 1.1ms postprocess per image at shape (1, 3, 384, 640)\n",
            "\n",
            "image 1/1 /content/video0/frames_rgb_0/0000.png: 384x640 3 woods, 4 glasss, 7 plastics, 2 metals, 953.8ms\n",
            "Speed: 1.5ms preprocess, 953.8ms inference, 1.1ms postprocess per image at shape (1, 3, 384, 640)\n",
            "\n",
            "image 1/1 /content/video0/frames_rgb_0/0230.png: 384x640 5 woods, 5 glasss, 1 plastic, 7 metals, 947.6ms\n",
            "Speed: 1.6ms preprocess, 947.6ms inference, 1.2ms postprocess per image at shape (1, 3, 384, 640)\n",
            "\n",
            "image 1/1 /content/video0/frames_rgb_0/0260.png: 384x640 3 woods, 4 glasss, 7 plastics, 982.0ms\n",
            "Speed: 1.7ms preprocess, 982.0ms inference, 1.1ms postprocess per image at shape (1, 3, 384, 640)\n",
            "\n",
            "image 1/1 /content/video0/frames_rgb_0/0001.png: 384x640 4 woods, 3 glasss, 7 plastics, 2 metals, 964.2ms\n",
            "Speed: 1.6ms preprocess, 964.2ms inference, 1.0ms postprocess per image at shape (1, 3, 384, 640)\n",
            "\n",
            "image 1/1 /content/video0/frames_rgb_0/0221.png: 384x640 5 woods, 3 glasss, 2 plastics, 5 metals, 943.1ms\n",
            "Speed: 1.6ms preprocess, 943.1ms inference, 1.2ms postprocess per image at shape (1, 3, 384, 640)\n",
            "\n",
            "image 1/1 /content/video0/frames_rgb_0/0330.png: 384x640 7 woods, 1 glass, 2 plastics, 6 metals, 1396.5ms\n",
            "Speed: 1.6ms preprocess, 1396.5ms inference, 1.5ms postprocess per image at shape (1, 3, 384, 640)\n",
            "\n",
            "image 1/1 /content/video0/frames_rgb_0/0129.png: 384x640 5 woods, 2 glasss, 3 plastics, 4 metals, 1616.9ms\n",
            "Speed: 4.0ms preprocess, 1616.9ms inference, 1.5ms postprocess per image at shape (1, 3, 384, 640)\n",
            "\n",
            "image 1/1 /content/video0/frames_rgb_0/0126.png: 384x640 4 woods, 2 glasss, 3 plastics, 3 metals, 1122.2ms\n",
            "Speed: 1.8ms preprocess, 1122.2ms inference, 1.3ms postprocess per image at shape (1, 3, 384, 640)\n",
            "\n",
            "image 1/1 /content/video0/frames_rgb_0/0028.png: 384x640 4 woods, 6 glasss, 8 plastics, 3 metals, 993.6ms\n",
            "Speed: 2.1ms preprocess, 993.6ms inference, 1.2ms postprocess per image at shape (1, 3, 384, 640)\n",
            "\n",
            "image 1/1 /content/video0/frames_rgb_0/0257.png: 384x640 3 woods, 3 glasss, 6 plastics, 936.9ms\n",
            "Speed: 1.8ms preprocess, 936.9ms inference, 1.0ms postprocess per image at shape (1, 3, 384, 640)\n",
            "\n",
            "image 1/1 /content/video0/frames_rgb_0/0222.png: 384x640 5 woods, 2 glasss, 2 plastics, 6 metals, 965.6ms\n",
            "Speed: 1.5ms preprocess, 965.6ms inference, 1.3ms postprocess per image at shape (1, 3, 384, 640)\n",
            "\n",
            "image 1/1 /content/video0/frames_rgb_0/0136.png: 384x640 4 woods, 5 glasss, 2 plastics, 5 metals, 983.4ms\n",
            "Speed: 2.1ms preprocess, 983.4ms inference, 1.2ms postprocess per image at shape (1, 3, 384, 640)\n",
            "\n",
            "image 1/1 /content/video0/frames_rgb_0/0160.png: 384x640 2 woods, 5 glasss, 1 plastic, 2 metals, 982.7ms\n",
            "Speed: 1.9ms preprocess, 982.7ms inference, 1.3ms postprocess per image at shape (1, 3, 384, 640)\n",
            "\n",
            "image 1/1 /content/video0/frames_rgb_0/0130.png: 384x640 4 woods, 2 glasss, 5 plastics, 4 metals, 995.3ms\n",
            "Speed: 2.1ms preprocess, 995.3ms inference, 1.1ms postprocess per image at shape (1, 3, 384, 640)\n",
            "\n",
            "image 1/1 /content/video0/frames_rgb_0/0141.png: 384x640 4 woods, 6 glasss, 1 plastic, 5 metals, 953.7ms\n",
            "Speed: 2.7ms preprocess, 953.7ms inference, 1.3ms postprocess per image at shape (1, 3, 384, 640)\n",
            "\n",
            "image 1/1 /content/video0/frames_rgb_0/0308.png: 384x640 2 woods, 7 glasss, 2 plastics, 6 metals, 996.8ms\n",
            "Speed: 1.7ms preprocess, 996.8ms inference, 1.6ms postprocess per image at shape (1, 3, 384, 640)\n",
            "\n",
            "image 1/1 /content/video0/frames_rgb_0/0315.png: 384x640 3 woods, 5 glasss, 3 plastics, 4 metals, 1014.5ms\n",
            "Speed: 2.0ms preprocess, 1014.5ms inference, 1.5ms postprocess per image at shape (1, 3, 384, 640)\n",
            "\n",
            "image 1/1 /content/video0/frames_rgb_0/0247.png: 384x640 1 wood, 6 glasss, 3 plastics, 2 metals, 1492.3ms\n",
            "Speed: 1.8ms preprocess, 1492.3ms inference, 2.2ms postprocess per image at shape (1, 3, 384, 640)\n",
            "\n",
            "image 1/1 /content/video0/frames_rgb_0/0329.png: 384x640 7 woods, 1 glass, 2 plastics, 6 metals, 1637.4ms\n",
            "Speed: 2.9ms preprocess, 1637.4ms inference, 1.8ms postprocess per image at shape (1, 3, 384, 640)\n",
            "\n",
            "image 1/1 /content/video0/frames_rgb_0/0137.png: 384x640 4 woods, 6 glasss, 2 plastics, 5 metals, 1066.9ms\n",
            "Speed: 2.2ms preprocess, 1066.9ms inference, 1.3ms postprocess per image at shape (1, 3, 384, 640)\n",
            "\n",
            "image 1/1 /content/video0/frames_rgb_0/0121.png: 384x640 3 woods, 3 glasss, 4 plastics, 5 metals, 946.2ms\n",
            "Speed: 2.1ms preprocess, 946.2ms inference, 1.2ms postprocess per image at shape (1, 3, 384, 640)\n",
            "\n",
            "image 1/1 /content/video0/frames_rgb_0/0293.png: 384x640 4 woods, 5 glasss, 4 plastics, 4 metals, 980.3ms\n",
            "Speed: 1.7ms preprocess, 980.3ms inference, 1.6ms postprocess per image at shape (1, 3, 384, 640)\n",
            "\n",
            "image 1/1 /content/video0/frames_rgb_0/0089.png: 384x640 5 woods, 3 glasss, 7 plastics, 2 metals, 985.6ms\n",
            "Speed: 1.9ms preprocess, 985.6ms inference, 1.2ms postprocess per image at shape (1, 3, 384, 640)\n",
            "\n",
            "image 1/1 /content/video0/frames_rgb_0/0092.png: 384x640 5 woods, 5 glasss, 5 plastics, 2 metals, 978.3ms\n",
            "Speed: 1.8ms preprocess, 978.3ms inference, 1.3ms postprocess per image at shape (1, 3, 384, 640)\n",
            "\n",
            "image 1/1 /content/video0/frames_rgb_0/0008.png: 384x640 7 woods, 7 glasss, 9 plastics, 5 metals, 1025.1ms\n",
            "Speed: 1.9ms preprocess, 1025.1ms inference, 1.4ms postprocess per image at shape (1, 3, 384, 640)\n",
            "\n",
            "image 1/1 /content/video0/frames_rgb_0/0225.png: 384x640 5 woods, 3 glasss, 2 plastics, 5 metals, 995.6ms\n",
            "Speed: 2.1ms preprocess, 995.6ms inference, 1.2ms postprocess per image at shape (1, 3, 384, 640)\n",
            "\n",
            "image 1/1 /content/video0/frames_rgb_0/0190.png: 384x640 11 woods, 3 glasss, 5 plastics, 2 metals, 949.0ms\n",
            "Speed: 1.8ms preprocess, 949.0ms inference, 1.1ms postprocess per image at shape (1, 3, 384, 640)\n",
            "\n",
            "image 1/1 /content/video0/frames_rgb_0/0313.png: 384x640 3 woods, 6 glasss, 3 plastics, 6 metals, 967.3ms\n",
            "Speed: 1.7ms preprocess, 967.3ms inference, 1.1ms postprocess per image at shape (1, 3, 384, 640)\n",
            "\n",
            "image 1/1 /content/video0/frames_rgb_0/0164.png: 384x640 3 woods, 2 glasss, 2 plastics, 3 metals, 965.0ms\n",
            "Speed: 1.8ms preprocess, 965.0ms inference, 1.1ms postprocess per image at shape (1, 3, 384, 640)\n",
            "\n",
            "image 1/1 /content/video0/frames_rgb_0/0186.png: 384x640 9 woods, 3 glasss, 10 plastics, 2 metals, 1573.8ms\n",
            "Speed: 1.7ms preprocess, 1573.8ms inference, 1.6ms postprocess per image at shape (1, 3, 384, 640)\n",
            "\n",
            "image 1/1 /content/video0/frames_rgb_0/0086.png: 384x640 5 woods, 3 glasss, 5 plastics, 2 metals, 1521.3ms\n",
            "Speed: 2.3ms preprocess, 1521.3ms inference, 1.2ms postprocess per image at shape (1, 3, 384, 640)\n",
            "\n",
            "image 1/1 /content/video0/frames_rgb_0/0206.png: 384x640 3 woods, 3 glasss, 4 plastics, 6 metals, 975.1ms\n",
            "Speed: 1.5ms preprocess, 975.1ms inference, 1.3ms postprocess per image at shape (1, 3, 384, 640)\n",
            "\n",
            "image 1/1 /content/video0/frames_rgb_0/0294.png: 384x640 4 woods, 6 glasss, 4 plastics, 5 metals, 1017.5ms\n",
            "Speed: 2.2ms preprocess, 1017.5ms inference, 1.3ms postprocess per image at shape (1, 3, 384, 640)\n",
            "\n",
            "image 1/1 /content/video0/frames_rgb_0/0026.png: 384x640 6 woods, 6 glasss, 6 plastics, 3 metals, 1035.6ms\n",
            "Speed: 2.1ms preprocess, 1035.6ms inference, 1.4ms postprocess per image at shape (1, 3, 384, 640)\n",
            "\n",
            "image 1/1 /content/video0/frames_rgb_0/0102.png: 384x640 3 woods, 7 glasss, 4 plastics, 2 metals, 1045.0ms\n",
            "Speed: 2.5ms preprocess, 1045.0ms inference, 1.2ms postprocess per image at shape (1, 3, 384, 640)\n",
            "\n",
            "image 1/1 /content/video0/frames_rgb_0/0212.png: 384x640 4 woods, 2 glasss, 2 plastics, 5 metals, 988.5ms\n",
            "Speed: 1.7ms preprocess, 988.5ms inference, 1.3ms postprocess per image at shape (1, 3, 384, 640)\n",
            "\n",
            "image 1/1 /content/video0/frames_rgb_0/0116.png: 384x640 4 woods, 4 glasss, 3 plastics, 3 metals, 1021.5ms\n",
            "Speed: 2.8ms preprocess, 1021.5ms inference, 1.3ms postprocess per image at shape (1, 3, 384, 640)\n",
            "\n",
            "image 1/1 /content/video0/frames_rgb_0/0334.png: 384x640 6 woods, 1 glass, 2 plastics, 8 metals, 994.4ms\n",
            "Speed: 2.0ms preprocess, 994.4ms inference, 1.2ms postprocess per image at shape (1, 3, 384, 640)\n",
            "\n",
            "image 1/1 /content/video0/frames_rgb_0/0101.png: 384x640 4 woods, 8 glasss, 3 plastics, 2 metals, 943.7ms\n",
            "Speed: 1.7ms preprocess, 943.7ms inference, 1.0ms postprocess per image at shape (1, 3, 384, 640)\n",
            "\n",
            "image 1/1 /content/video0/frames_rgb_0/0238.png: 384x640 4 woods, 5 glasss, 3 metals, 973.4ms\n",
            "Speed: 1.5ms preprocess, 973.4ms inference, 1.3ms postprocess per image at shape (1, 3, 384, 640)\n",
            "\n",
            "image 1/1 /content/video0/frames_rgb_0/0289.png: 384x640 4 woods, 4 glasss, 6 plastics, 3 metals, 1211.2ms\n",
            "Speed: 2.6ms preprocess, 1211.2ms inference, 1.5ms postprocess per image at shape (1, 3, 384, 640)\n",
            "\n",
            "image 1/1 /content/video0/frames_rgb_0/0106.png: 384x640 3 woods, 4 glasss, 4 plastics, 3 metals, 1582.3ms\n",
            "Speed: 2.3ms preprocess, 1582.3ms inference, 1.8ms postprocess per image at shape (1, 3, 384, 640)\n",
            "\n",
            "image 1/1 /content/video0/frames_rgb_0/0306.png: 384x640 2 woods, 7 glasss, 2 plastics, 6 metals, 1360.6ms\n",
            "Speed: 2.2ms preprocess, 1360.6ms inference, 1.2ms postprocess per image at shape (1, 3, 384, 640)\n",
            "\n",
            "image 1/1 /content/video0/frames_rgb_0/0317.png: 384x640 5 woods, 5 glasss, 2 plastics, 5 metals, 966.8ms\n",
            "Speed: 2.1ms preprocess, 966.8ms inference, 1.2ms postprocess per image at shape (1, 3, 384, 640)\n",
            "\n",
            "image 1/1 /content/video0/frames_rgb_0/0123.png: 384x640 3 woods, 3 glasss, 3 plastics, 5 metals, 950.2ms\n",
            "Speed: 1.6ms preprocess, 950.2ms inference, 1.2ms postprocess per image at shape (1, 3, 384, 640)\n",
            "\n",
            "image 1/1 /content/video0/frames_rgb_0/0309.png: 384x640 2 woods, 7 glasss, 2 plastics, 6 metals, 1013.5ms\n",
            "Speed: 2.3ms preprocess, 1013.5ms inference, 1.3ms postprocess per image at shape (1, 3, 384, 640)\n",
            "\n",
            "image 1/1 /content/video0/frames_rgb_0/0069.png: 384x640 3 woods, 3 glasss, 6 plastics, 1 metal, 1045.1ms\n",
            "Speed: 2.2ms preprocess, 1045.1ms inference, 1.4ms postprocess per image at shape (1, 3, 384, 640)\n",
            "\n",
            "image 1/1 /content/video0/frames_rgb_0/0113.png: 384x640 4 woods, 4 glasss, 3 plastics, 4 metals, 990.5ms\n",
            "Speed: 1.9ms preprocess, 990.5ms inference, 1.1ms postprocess per image at shape (1, 3, 384, 640)\n",
            "\n",
            "image 1/1 /content/video0/frames_rgb_0/0025.png: 384x640 6 woods, 7 glasss, 6 plastics, 2 metals, 963.9ms\n",
            "Speed: 1.7ms preprocess, 963.9ms inference, 1.3ms postprocess per image at shape (1, 3, 384, 640)\n",
            "\n",
            "image 1/1 /content/video0/frames_rgb_0/0183.png: 384x640 11 woods, 2 glasss, 8 plastics, 1 metal, 985.5ms\n",
            "Speed: 2.0ms preprocess, 985.5ms inference, 1.1ms postprocess per image at shape (1, 3, 384, 640)\n",
            "\n",
            "image 1/1 /content/video0/frames_rgb_0/0254.png: 384x640 2 woods, 3 glasss, 4 plastics, 936.1ms\n",
            "Speed: 2.0ms preprocess, 936.1ms inference, 1.1ms postprocess per image at shape (1, 3, 384, 640)\n",
            "\n",
            "image 1/1 /content/video0/frames_rgb_0/0298.png: 384x640 3 woods, 7 glasss, 4 plastics, 4 metals, 956.8ms\n",
            "Speed: 1.8ms preprocess, 956.8ms inference, 1.2ms postprocess per image at shape (1, 3, 384, 640)\n",
            "\n",
            "image 1/1 /content/video0/frames_rgb_0/0132.png: 384x640 3 woods, 2 glasss, 3 plastics, 4 metals, 1258.5ms\n",
            "Speed: 1.6ms preprocess, 1258.5ms inference, 1.8ms postprocess per image at shape (1, 3, 384, 640)\n",
            "\n",
            "image 1/1 /content/video0/frames_rgb_0/0246.png: 384x640 1 wood, 5 glasss, 4 plastics, 2 metals, 1591.1ms\n",
            "Speed: 6.4ms preprocess, 1591.1ms inference, 1.5ms postprocess per image at shape (1, 3, 384, 640)\n",
            "\n",
            "image 1/1 /content/video0/frames_rgb_0/0114.png: 384x640 4 woods, 4 glasss, 3 plastics, 4 metals, 1231.8ms\n",
            "Speed: 2.1ms preprocess, 1231.8ms inference, 1.1ms postprocess per image at shape (1, 3, 384, 640)\n",
            "\n",
            "image 1/1 /content/video0/frames_rgb_0/0304.png: 384x640 2 woods, 8 glasss, 2 plastics, 5 metals, 971.8ms\n",
            "Speed: 1.5ms preprocess, 971.8ms inference, 1.5ms postprocess per image at shape (1, 3, 384, 640)\n",
            "\n",
            "image 1/1 /content/video0/frames_rgb_0/0276.png: 384x640 6 woods, 3 glasss, 4 plastics, 3 metals, 999.8ms\n",
            "Speed: 2.4ms preprocess, 999.8ms inference, 1.2ms postprocess per image at shape (1, 3, 384, 640)\n",
            "\n",
            "image 1/1 /content/video0/frames_rgb_0/0127.png: 384x640 3 woods, 2 glasss, 3 plastics, 5 metals, 999.5ms\n",
            "Speed: 2.6ms preprocess, 999.5ms inference, 1.6ms postprocess per image at shape (1, 3, 384, 640)\n",
            "\n",
            "image 1/1 /content/video0/frames_rgb_0/0182.png: 384x640 9 woods, 3 glasss, 8 plastics, 1 metal, 1655.1ms\n",
            "Speed: 2.0ms preprocess, 1655.1ms inference, 1.5ms postprocess per image at shape (1, 3, 384, 640)\n",
            "\n",
            "image 1/1 /content/video0/frames_rgb_0/0090.png: 384x640 5 woods, 3 glasss, 8 plastics, 3 metals, 1521.3ms\n",
            "Speed: 1.9ms preprocess, 1521.3ms inference, 1.2ms postprocess per image at shape (1, 3, 384, 640)\n",
            "\n",
            "image 1/1 /content/video0/frames_rgb_0/0045.png: 384x640 3 woods, 5 glasss, 3 plastics, 2 metals, 942.5ms\n",
            "Speed: 1.9ms preprocess, 942.5ms inference, 1.1ms postprocess per image at shape (1, 3, 384, 640)\n",
            "\n",
            "image 1/1 /content/video0/frames_rgb_0/0299.png: 384x640 3 woods, 6 glasss, 4 plastics, 6 metals, 947.8ms\n",
            "Speed: 1.6ms preprocess, 947.8ms inference, 1.0ms postprocess per image at shape (1, 3, 384, 640)\n",
            "\n",
            "image 1/1 /content/video0/frames_rgb_0/0191.png: 384x640 10 woods, 3 glasss, 5 plastics, 2 metals, 988.7ms\n",
            "Speed: 1.6ms preprocess, 988.7ms inference, 1.4ms postprocess per image at shape (1, 3, 384, 640)\n",
            "\n",
            "image 1/1 /content/video0/frames_rgb_0/0104.png: 384x640 3 woods, 4 glasss, 3 plastics, 1 metal, 1516.8ms\n",
            "Speed: 2.0ms preprocess, 1516.8ms inference, 1.6ms postprocess per image at shape (1, 3, 384, 640)\n",
            "\n",
            "image 1/1 /content/video0/frames_rgb_0/0241.png: 384x640 2 woods, 5 glasss, 1 plastic, 3 metals, 1612.5ms\n",
            "Speed: 2.4ms preprocess, 1612.5ms inference, 1.6ms postprocess per image at shape (1, 3, 384, 640)\n",
            "\n",
            "image 1/1 /content/video0/frames_rgb_0/0084.png: 384x640 6 woods, 3 glasss, 5 plastics, 2 metals, 1044.0ms\n",
            "Speed: 2.2ms preprocess, 1044.0ms inference, 1.2ms postprocess per image at shape (1, 3, 384, 640)\n",
            "\n",
            "image 1/1 /content/video0/frames_rgb_0/0050.png: 384x640 4 woods, 4 glasss, 2 plastics, 2 metals, 975.8ms\n",
            "Speed: 2.0ms preprocess, 975.8ms inference, 1.1ms postprocess per image at shape (1, 3, 384, 640)\n",
            "\n",
            "image 1/1 /content/video0/frames_rgb_0/0188.png: 384x640 12 woods, 3 glasss, 9 plastics, 2 metals, 984.6ms\n",
            "Speed: 1.7ms preprocess, 984.6ms inference, 1.3ms postprocess per image at shape (1, 3, 384, 640)\n",
            "\n",
            "image 1/1 /content/video0/frames_rgb_0/0331.png: 384x640 7 woods, 1 glass, 2 plastics, 6 metals, 985.6ms\n",
            "Speed: 1.9ms preprocess, 985.6ms inference, 1.1ms postprocess per image at shape (1, 3, 384, 640)\n",
            "\n",
            "image 1/1 /content/video0/frames_rgb_0/0094.png: 384x640 4 woods, 6 glasss, 5 plastics, 2 metals, 996.0ms\n",
            "Speed: 1.9ms preprocess, 996.0ms inference, 1.3ms postprocess per image at shape (1, 3, 384, 640)\n",
            "\n",
            "image 1/1 /content/video0/frames_rgb_0/0255.png: 384x640 2 woods, 3 glasss, 7 plastics, 1009.4ms\n",
            "Speed: 1.9ms preprocess, 1009.4ms inference, 1.3ms postprocess per image at shape (1, 3, 384, 640)\n",
            "\n",
            "image 1/1 /content/video0/frames_rgb_0/0321.png: 384x640 5 woods, 3 glasss, 1 plastic, 5 metals, 995.6ms\n",
            "Speed: 2.2ms preprocess, 995.6ms inference, 1.1ms postprocess per image at shape (1, 3, 384, 640)\n",
            "\n",
            "image 1/1 /content/video0/frames_rgb_0/0285.png: 384x640 6 woods, 3 glasss, 3 plastics, 5 metals, 945.3ms\n",
            "Speed: 2.4ms preprocess, 945.3ms inference, 1.1ms postprocess per image at shape (1, 3, 384, 640)\n",
            "\n",
            "image 1/1 /content/video0/frames_rgb_0/0043.png: 384x640 4 woods, 6 glasss, 4 plastics, 2 metals, 1008.0ms\n",
            "Speed: 1.8ms preprocess, 1008.0ms inference, 1.3ms postprocess per image at shape (1, 3, 384, 640)\n",
            "\n",
            "image 1/1 /content/video0/frames_rgb_0/0295.png: 384x640 3 woods, 6 glasss, 4 plastics, 3 metals, 960.5ms\n",
            "Speed: 2.2ms preprocess, 960.5ms inference, 1.2ms postprocess per image at shape (1, 3, 384, 640)\n",
            "\n",
            "image 1/1 /content/video0/frames_rgb_0/0325.png: 384x640 8 woods, 2 glasss, 1 plastic, 5 metals, 1615.9ms\n",
            "Speed: 2.0ms preprocess, 1615.9ms inference, 1.7ms postprocess per image at shape (1, 3, 384, 640)\n",
            "\n",
            "image 1/1 /content/video0/frames_rgb_0/0189.png: 384x640 10 woods, 4 glasss, 8 plastics, 3 metals, 1536.9ms\n",
            "Speed: 2.4ms preprocess, 1536.9ms inference, 1.3ms postprocess per image at shape (1, 3, 384, 640)\n",
            "\n",
            "image 1/1 /content/video0/frames_rgb_0/0019.png: 384x640 9 woods, 7 glasss, 9 plastics, 2 metals, 1000.3ms\n",
            "Speed: 2.5ms preprocess, 1000.3ms inference, 1.3ms postprocess per image at shape (1, 3, 384, 640)\n",
            "\n",
            "image 1/1 /content/video0/frames_rgb_0/0269.png: 384x640 6 woods, 4 glasss, 7 plastics, 3 metals, 974.2ms\n",
            "Speed: 2.0ms preprocess, 974.2ms inference, 1.1ms postprocess per image at shape (1, 3, 384, 640)\n",
            "\n",
            "image 1/1 /content/video0/frames_rgb_0/0327.png: 384x640 7 woods, 2 glasss, 1 plastic, 5 metals, 947.1ms\n",
            "Speed: 1.8ms preprocess, 947.1ms inference, 1.0ms postprocess per image at shape (1, 3, 384, 640)\n",
            "\n",
            "image 1/1 /content/video0/frames_rgb_0/0115.png: 384x640 4 woods, 5 glasss, 3 plastics, 4 metals, 977.8ms\n",
            "Speed: 1.5ms preprocess, 977.8ms inference, 1.1ms postprocess per image at shape (1, 3, 384, 640)\n",
            "\n",
            "image 1/1 /content/video0/frames_rgb_0/0034.png: 384x640 5 woods, 6 glasss, 6 plastics, 2 metals, 988.1ms\n",
            "Speed: 1.5ms preprocess, 988.1ms inference, 1.4ms postprocess per image at shape (1, 3, 384, 640)\n",
            "\n",
            "image 1/1 /content/video0/frames_rgb_0/0312.png: 384x640 3 woods, 6 glasss, 2 plastics, 5 metals, 1017.0ms\n",
            "Speed: 2.0ms preprocess, 1017.0ms inference, 1.2ms postprocess per image at shape (1, 3, 384, 640)\n",
            "\n",
            "image 1/1 /content/video0/frames_rgb_0/0193.png: 384x640 8 woods, 3 glasss, 5 plastics, 2 metals, 1011.9ms\n",
            "Speed: 2.1ms preprocess, 1011.9ms inference, 1.3ms postprocess per image at shape (1, 3, 384, 640)\n",
            "\n",
            "image 1/1 /content/video0/frames_rgb_0/0201.png: 384x640 5 woods, 4 glasss, 3 plastics, 4 metals, 1025.5ms\n",
            "Speed: 2.0ms preprocess, 1025.5ms inference, 1.6ms postprocess per image at shape (1, 3, 384, 640)\n",
            "\n",
            "image 1/1 /content/video0/frames_rgb_0/0144.png: 384x640 5 woods, 5 glasss, 1 plastic, 4 metals, 1018.2ms\n",
            "Speed: 2.1ms preprocess, 1018.2ms inference, 1.3ms postprocess per image at shape (1, 3, 384, 640)\n",
            "\n",
            "image 1/1 /content/video0/frames_rgb_0/0071.png: 384x640 5 woods, 4 glasss, 7 plastics, 2 metals, 1281.7ms\n",
            "Speed: 2.4ms preprocess, 1281.7ms inference, 1.7ms postprocess per image at shape (1, 3, 384, 640)\n",
            "\n",
            "image 1/1 /content/video0/frames_rgb_0/0161.png: 384x640 2 woods, 3 glasss, 2 plastics, 2 metals, 1654.2ms\n",
            "Speed: 2.2ms preprocess, 1654.2ms inference, 1.6ms postprocess per image at shape (1, 3, 384, 640)\n",
            "\n",
            "image 1/1 /content/video0/frames_rgb_0/0268.png: 384x640 6 woods, 4 glasss, 6 plastics, 2 metals, 1396.9ms\n",
            "Speed: 9.7ms preprocess, 1396.9ms inference, 1.2ms postprocess per image at shape (1, 3, 384, 640)\n",
            "\n",
            "image 1/1 /content/video0/frames_rgb_0/0142.png: 384x640 4 woods, 6 glasss, 1 plastic, 4 metals, 964.1ms\n",
            "Speed: 2.3ms preprocess, 964.1ms inference, 1.3ms postprocess per image at shape (1, 3, 384, 640)\n",
            "\n",
            "image 1/1 /content/video0/frames_rgb_0/0107.png: 384x640 4 woods, 4 glasss, 3 plastics, 2 metals, 1019.4ms\n",
            "Speed: 2.2ms preprocess, 1019.4ms inference, 1.1ms postprocess per image at shape (1, 3, 384, 640)\n",
            "\n",
            "image 1/1 /content/video0/frames_rgb_0/0088.png: 384x640 5 woods, 3 glasss, 5 plastics, 2 metals, 942.0ms\n",
            "Speed: 2.0ms preprocess, 942.0ms inference, 1.1ms postprocess per image at shape (1, 3, 384, 640)\n",
            "\n",
            "image 1/1 /content/video0/frames_rgb_0/0070.png: 384x640 5 woods, 3 glasss, 6 plastics, 2 metals, 939.9ms\n",
            "Speed: 1.8ms preprocess, 939.9ms inference, 1.4ms postprocess per image at shape (1, 3, 384, 640)\n",
            "\n",
            "image 1/1 /content/video0/frames_rgb_0/0151.png: 384x640 5 woods, 5 glasss, 3 plastics, 5 metals, 1015.6ms\n",
            "Speed: 2.5ms preprocess, 1015.6ms inference, 1.2ms postprocess per image at shape (1, 3, 384, 640)\n",
            "\n",
            "image 1/1 /content/video0/frames_rgb_0/0060.png: 384x640 4 woods, 3 glasss, 3 plastics, 1 metal, 937.6ms\n",
            "Speed: 2.5ms preprocess, 937.6ms inference, 1.0ms postprocess per image at shape (1, 3, 384, 640)\n",
            "\n",
            "image 1/1 /content/video0/frames_rgb_0/0316.png: 384x640 3 woods, 5 glasss, 2 plastics, 4 metals, 957.3ms\n",
            "Speed: 1.8ms preprocess, 957.3ms inference, 1.0ms postprocess per image at shape (1, 3, 384, 640)\n",
            "\n",
            "image 1/1 /content/video0/frames_rgb_0/0263.png: 384x640 4 woods, 4 glasss, 9 plastics, 1002.6ms\n",
            "Speed: 1.5ms preprocess, 1002.6ms inference, 1.4ms postprocess per image at shape (1, 3, 384, 640)\n",
            "\n",
            "image 1/1 /content/video0/frames_rgb_0/0220.png: 384x640 5 woods, 1 glass, 2 plastics, 5 metals, 1007.0ms\n",
            "Speed: 2.1ms preprocess, 1007.0ms inference, 1.2ms postprocess per image at shape (1, 3, 384, 640)\n",
            "\n",
            "image 1/1 /content/video0/frames_rgb_0/0055.png: 384x640 5 woods, 4 glasss, 1 plastic, 2 metals, 1379.5ms\n",
            "Speed: 2.4ms preprocess, 1379.5ms inference, 1.5ms postprocess per image at shape (1, 3, 384, 640)\n",
            "\n",
            "image 1/1 /content/video0/frames_rgb_0/0180.png: 384x640 9 woods, 2 glasss, 8 plastics, 1 metal, 1574.6ms\n",
            "Speed: 3.1ms preprocess, 1574.6ms inference, 1.5ms postprocess per image at shape (1, 3, 384, 640)\n",
            "\n",
            "image 1/1 /content/video0/frames_rgb_0/0063.png: 384x640 3 woods, 3 glasss, 3 plastics, 1 metal, 1179.3ms\n",
            "Speed: 2.1ms preprocess, 1179.3ms inference, 1.1ms postprocess per image at shape (1, 3, 384, 640)\n",
            "\n",
            "image 1/1 /content/video0/frames_rgb_0/0319.png: 384x640 4 woods, 4 glasss, 1 plastic, 5 metals, 946.4ms\n",
            "Speed: 1.7ms preprocess, 946.4ms inference, 1.1ms postprocess per image at shape (1, 3, 384, 640)\n",
            "\n",
            "image 1/1 /content/video0/frames_rgb_0/0157.png: 384x640 3 woods, 6 glasss, 1 plastic, 2 metals, 935.6ms\n",
            "Speed: 2.0ms preprocess, 935.6ms inference, 1.2ms postprocess per image at shape (1, 3, 384, 640)\n",
            "\n",
            "image 1/1 /content/video0/frames_rgb_0/0117.png: 384x640 4 woods, 4 glasss, 3 plastics, 5 metals, 997.6ms\n",
            "Speed: 1.5ms preprocess, 997.6ms inference, 1.6ms postprocess per image at shape (1, 3, 384, 640)\n",
            "\n",
            "image 1/1 /content/video0/frames_rgb_0/0250.png: 384x640 1 wood, 5 glasss, 6 plastics, 1 metal, 954.1ms\n",
            "Speed: 4.3ms preprocess, 954.1ms inference, 1.4ms postprocess per image at shape (1, 3, 384, 640)\n",
            "\n",
            "image 1/1 /content/video0/frames_rgb_0/0272.png: 384x640 4 woods, 2 glasss, 5 plastics, 4 metals, 947.0ms\n",
            "Speed: 2.0ms preprocess, 947.0ms inference, 1.2ms postprocess per image at shape (1, 3, 384, 640)\n",
            "\n",
            "image 1/1 /content/video0/frames_rgb_0/0169.png: 384x640 7 woods, 3 glasss, 5 plastics, 2 metals, 1379.3ms\n",
            "Speed: 1.6ms preprocess, 1379.3ms inference, 1.5ms postprocess per image at shape (1, 3, 384, 640)\n",
            "\n",
            "image 1/1 /content/video0/frames_rgb_0/0159.png: 384x640 2 woods, 5 glasss, 1 plastic, 2 metals, 1581.8ms\n",
            "Speed: 1.7ms preprocess, 1581.8ms inference, 1.4ms postprocess per image at shape (1, 3, 384, 640)\n",
            "\n",
            "image 1/1 /content/video0/frames_rgb_0/0271.png: 384x640 5 woods, 3 glasss, 5 plastics, 4 metals, 1213.9ms\n",
            "Speed: 2.1ms preprocess, 1213.9ms inference, 1.2ms postprocess per image at shape (1, 3, 384, 640)\n",
            "\n",
            "image 1/1 /content/video0/frames_rgb_0/0062.png: 384x640 3 woods, 3 glasss, 3 plastics, 1 metal, 1548.9ms\n",
            "Speed: 1.8ms preprocess, 1548.9ms inference, 1.6ms postprocess per image at shape (1, 3, 384, 640)\n",
            "\n",
            "image 1/1 /content/video0/frames_rgb_0/0009.png: 384x640 7 woods, 6 glasss, 9 plastics, 4 metals, 1619.5ms\n",
            "Speed: 1.9ms preprocess, 1619.5ms inference, 1.7ms postprocess per image at shape (1, 3, 384, 640)\n",
            "\n",
            "image 1/1 /content/video0/frames_rgb_0/0209.png: 384x640 4 woods, 3 glasss, 2 plastics, 7 metals, 999.1ms\n",
            "Speed: 2.1ms preprocess, 999.1ms inference, 1.3ms postprocess per image at shape (1, 3, 384, 640)\n",
            "\n",
            "image 1/1 /content/video0/frames_rgb_0/0031.png: 384x640 4 woods, 6 glasss, 6 plastics, 2 metals, 1013.0ms\n",
            "Speed: 2.1ms preprocess, 1013.0ms inference, 1.3ms postprocess per image at shape (1, 3, 384, 640)\n",
            "\n",
            "image 1/1 /content/video0/frames_rgb_0/0120.png: 384x640 3 woods, 3 glasss, 4 plastics, 5 metals, 1005.5ms\n",
            "Speed: 2.1ms preprocess, 1005.5ms inference, 1.2ms postprocess per image at shape (1, 3, 384, 640)\n",
            "\n",
            "image 1/1 /content/video0/frames_rgb_0/0266.png: 384x640 4 woods, 4 glasss, 6 plastics, 2 metals, 952.9ms\n",
            "Speed: 2.0ms preprocess, 952.9ms inference, 1.3ms postprocess per image at shape (1, 3, 384, 640)\n",
            "\n",
            "image 1/1 /content/video0/frames_rgb_0/0275.png: 384x640 4 woods, 3 glasss, 4 plastics, 5 metals, 998.3ms\n",
            "Speed: 2.5ms preprocess, 998.3ms inference, 1.2ms postprocess per image at shape (1, 3, 384, 640)\n",
            "\n",
            "image 1/1 /content/video0/frames_rgb_0/0122.png: 384x640 3 woods, 3 glasss, 4 plastics, 5 metals, 941.8ms\n",
            "Speed: 1.8ms preprocess, 941.8ms inference, 1.1ms postprocess per image at shape (1, 3, 384, 640)\n",
            "\n",
            "image 1/1 /content/video0/frames_rgb_0/0302.png: 384x640 3 woods, 6 glasss, 2 plastics, 6 metals, 935.5ms\n",
            "Speed: 1.6ms preprocess, 935.5ms inference, 1.1ms postprocess per image at shape (1, 3, 384, 640)\n",
            "\n",
            "image 1/1 /content/video0/frames_rgb_0/0167.png: 384x640 4 woods, 3 glasss, 5 plastics, 3 metals, 942.8ms\n",
            "Speed: 1.5ms preprocess, 942.8ms inference, 1.0ms postprocess per image at shape (1, 3, 384, 640)\n",
            "\n",
            "image 1/1 /content/video0/frames_rgb_0/0014.png: 384x640 11 woods, 6 glasss, 9 plastics, 2 metals, 1019.5ms\n",
            "Speed: 1.9ms preprocess, 1019.5ms inference, 1.2ms postprocess per image at shape (1, 3, 384, 640)\n",
            "\n",
            "image 1/1 /content/video0/frames_rgb_0/0035.png: 384x640 5 woods, 7 glasss, 5 plastics, 2 metals, 951.0ms\n",
            "Speed: 2.0ms preprocess, 951.0ms inference, 1.0ms postprocess per image at shape (1, 3, 384, 640)\n",
            "\n",
            "image 1/1 /content/video0/frames_rgb_0/0318.png: 384x640 4 woods, 4 glasss, 2 plastics, 4 metals, 1635.2ms\n",
            "Speed: 6.7ms preprocess, 1635.2ms inference, 2.0ms postprocess per image at shape (1, 3, 384, 640)\n",
            "\n",
            "image 1/1 /content/video0/frames_rgb_0/0174.png: 384x640 7 woods, 3 glasss, 8 plastics, 2 metals, 1542.4ms\n",
            "Speed: 3.5ms preprocess, 1542.4ms inference, 1.2ms postprocess per image at shape (1, 3, 384, 640)\n",
            "\n",
            "image 1/1 /content/video0/frames_rgb_0/0168.png: 384x640 6 woods, 3 glasss, 5 plastics, 3 metals, 965.9ms\n",
            "Speed: 2.0ms preprocess, 965.9ms inference, 1.4ms postprocess per image at shape (1, 3, 384, 640)\n",
            "\n",
            "image 1/1 /content/video0/frames_rgb_0/0218.png: 384x640 5 woods, 1 glass, 4 plastics, 6 metals, 1015.5ms\n",
            "Speed: 2.1ms preprocess, 1015.5ms inference, 1.1ms postprocess per image at shape (1, 3, 384, 640)\n",
            "\n",
            "image 1/1 /content/video0/frames_rgb_0/0290.png: 384x640 4 woods, 5 glasss, 3 plastics, 5 metals, 988.5ms\n",
            "Speed: 1.7ms preprocess, 988.5ms inference, 1.1ms postprocess per image at shape (1, 3, 384, 640)\n",
            "\n",
            "image 1/1 /content/video0/frames_rgb_0/0004.png: 384x640 6 woods, 5 glasss, 9 plastics, 2 metals, 941.7ms\n",
            "Speed: 1.7ms preprocess, 941.7ms inference, 1.3ms postprocess per image at shape (1, 3, 384, 640)\n",
            "\n",
            "image 1/1 /content/video0/frames_rgb_0/0073.png: 384x640 5 woods, 3 glasss, 6 plastics, 1 metal, 1010.6ms\n",
            "Speed: 2.0ms preprocess, 1010.6ms inference, 2.2ms postprocess per image at shape (1, 3, 384, 640)\n",
            "\n",
            "image 1/1 /content/video0/frames_rgb_0/0178.png: 384x640 8 woods, 3 glasss, 7 plastics, 1 metal, 952.0ms\n",
            "Speed: 1.9ms preprocess, 952.0ms inference, 1.1ms postprocess per image at shape (1, 3, 384, 640)\n",
            "\n",
            "image 1/1 /content/video0/frames_rgb_0/0179.png: 384x640 9 woods, 2 glasss, 7 plastics, 1 metal, 944.4ms\n",
            "Speed: 1.5ms preprocess, 944.4ms inference, 1.4ms postprocess per image at shape (1, 3, 384, 640)\n",
            "\n",
            "image 1/1 /content/video0/frames_rgb_0/0192.png: 384x640 8 woods, 3 glasss, 5 plastics, 3 metals, 1024.3ms\n",
            "Speed: 3.1ms preprocess, 1024.3ms inference, 1.2ms postprocess per image at shape (1, 3, 384, 640)\n",
            "\n",
            "image 1/1 /content/video0/frames_rgb_0/0005.png: 384x640 6 woods, 5 glasss, 9 plastics, 2 metals, 963.9ms\n",
            "Speed: 1.8ms preprocess, 963.9ms inference, 1.1ms postprocess per image at shape (1, 3, 384, 640)\n",
            "\n",
            "image 1/1 /content/video0/frames_rgb_0/0109.png: 384x640 4 woods, 4 glasss, 6 plastics, 3 metals, 1130.4ms\n",
            "Speed: 2.0ms preprocess, 1130.4ms inference, 1.4ms postprocess per image at shape (1, 3, 384, 640)\n",
            "\n",
            "image 1/1 /content/video0/frames_rgb_0/0041.png: 384x640 4 woods, 6 glasss, 4 plastics, 2 metals, 1605.7ms\n",
            "Speed: 1.9ms preprocess, 1605.7ms inference, 1.4ms postprocess per image at shape (1, 3, 384, 640)\n",
            "\n",
            "image 1/1 /content/video0/frames_rgb_0/0242.png: 384x640 3 woods, 5 glasss, 1 plastic, 4 metals, 1446.6ms\n",
            "Speed: 1.8ms preprocess, 1446.6ms inference, 1.3ms postprocess per image at shape (1, 3, 384, 640)\n",
            "\n",
            "image 1/1 /content/video0/frames_rgb_0/0301.png: 384x640 3 woods, 5 glasss, 2 plastics, 7 metals, 1002.5ms\n",
            "Speed: 2.3ms preprocess, 1002.5ms inference, 1.1ms postprocess per image at shape (1, 3, 384, 640)\n",
            "\n",
            "image 1/1 /content/video0/frames_rgb_0/0245.png: 384x640 1 wood, 6 glasss, 2 plastics, 2 metals, 953.8ms\n",
            "Speed: 1.9ms preprocess, 953.8ms inference, 1.3ms postprocess per image at shape (1, 3, 384, 640)\n",
            "\n",
            "image 1/1 /content/video0/frames_rgb_0/0215.png: 384x640 8 woods, 1 glass, 4 plastics, 6 metals, 1001.4ms\n",
            "Speed: 2.1ms preprocess, 1001.4ms inference, 2.1ms postprocess per image at shape (1, 3, 384, 640)\n",
            "\n",
            "image 1/1 /content/video0/frames_rgb_0/0046.png: 384x640 3 woods, 5 glasss, 2 plastics, 3 metals, 955.6ms\n",
            "Speed: 1.7ms preprocess, 955.6ms inference, 1.3ms postprocess per image at shape (1, 3, 384, 640)\n",
            "\n",
            "image 1/1 /content/video0/frames_rgb_0/0032.png: 384x640 4 woods, 6 glasss, 6 plastics, 1 metal, 1028.0ms\n",
            "Speed: 2.8ms preprocess, 1028.0ms inference, 1.2ms postprocess per image at shape (1, 3, 384, 640)\n",
            "\n",
            "image 1/1 /content/video0/frames_rgb_0/0053.png: 384x640 5 woods, 2 glasss, 2 plastics, 2 metals, 959.4ms\n",
            "Speed: 2.3ms preprocess, 959.4ms inference, 1.1ms postprocess per image at shape (1, 3, 384, 640)\n",
            "\n",
            "image 1/1 /content/video0/frames_rgb_0/0211.png: 384x640 4 woods, 2 glasss, 2 plastics, 6 metals, 944.7ms\n",
            "Speed: 1.9ms preprocess, 944.7ms inference, 1.1ms postprocess per image at shape (1, 3, 384, 640)\n",
            "\n",
            "image 1/1 /content/video0/frames_rgb_0/0303.png: 384x640 3 woods, 6 glasss, 2 plastics, 6 metals, 989.2ms\n",
            "Speed: 2.1ms preprocess, 989.2ms inference, 1.2ms postprocess per image at shape (1, 3, 384, 640)\n",
            "\n",
            "image 1/1 /content/video0/frames_rgb_0/0205.png: 384x640 3 woods, 4 glasss, 3 plastics, 5 metals, 939.6ms\n",
            "Speed: 1.7ms preprocess, 939.6ms inference, 1.2ms postprocess per image at shape (1, 3, 384, 640)\n",
            "\n",
            "image 1/1 /content/video0/frames_rgb_0/0007.png: 384x640 7 woods, 6 glasss, 8 plastics, 3 metals, 1153.5ms\n",
            "Speed: 2.5ms preprocess, 1153.5ms inference, 1.4ms postprocess per image at shape (1, 3, 384, 640)\n",
            "\n",
            "image 1/1 /content/video0/frames_rgb_0/0163.png: 384x640 3 woods, 2 glasss, 2 plastics, 2 metals, 1604.3ms\n",
            "Speed: 1.7ms preprocess, 1604.3ms inference, 1.7ms postprocess per image at shape (1, 3, 384, 640)\n",
            "\n",
            "image 1/1 /content/video0/frames_rgb_0/0333.png: 384x640 6 woods, 2 glasss, 2 plastics, 8 metals, 1380.4ms\n",
            "Speed: 2.4ms preprocess, 1380.4ms inference, 1.3ms postprocess per image at shape (1, 3, 384, 640)\n",
            "\n",
            "image 1/1 /content/video0/frames_rgb_0/0017.png: 384x640 10 woods, 7 glasss, 8 plastics, 2 metals, 1046.3ms\n",
            "Speed: 2.3ms preprocess, 1046.3ms inference, 1.3ms postprocess per image at shape (1, 3, 384, 640)\n",
            "\n",
            "image 1/1 /content/video0/frames_rgb_0/0311.png: 384x640 3 woods, 7 glasss, 2 plastics, 6 metals, 1050.9ms\n",
            "Speed: 2.1ms preprocess, 1050.9ms inference, 1.4ms postprocess per image at shape (1, 3, 384, 640)\n",
            "\n",
            "image 1/1 /content/video0/frames_rgb_0/0082.png: 384x640 6 woods, 3 glasss, 5 plastics, 2 metals, 1020.0ms\n",
            "Speed: 2.5ms preprocess, 1020.0ms inference, 1.3ms postprocess per image at shape (1, 3, 384, 640)\n",
            "\n",
            "image 1/1 /content/video0/frames_rgb_0/0166.png: 384x640 3 woods, 3 glasss, 5 plastics, 3 metals, 1014.8ms\n",
            "Speed: 2.0ms preprocess, 1014.8ms inference, 1.2ms postprocess per image at shape (1, 3, 384, 640)\n"
          ]
        },
        {
          "output_type": "stream",
          "name": "stdout",
          "text": [
            "0.949910625570183\n",
            "Истиное количество дерева, стекла, пластика, металла:  1644 1475 1444 1374\n",
            "Расчитанное количество дерева, стекла, пластика, металла:  1590 1399 1366 1109\n"
          ]
        }
      ],
      "source": [
        "model = ultralytics.YOLO(\"yolov8m_2000epochs.pt\")\n",
        "path = \"video0/frames_rgb_0/\"\n",
        "RMSD_w, RMSD_p, RMSD_g, RMSD_m = 0, 0, 0, 0\n",
        "g_w, g_p, g_m, g_g = 0, 0, 0, 0\n",
        "l_w, l_p, l_m, l_g = 0, 0, 0, 0\n",
        "T = len(os.listdir(path))\n",
        "for file in os.listdir(path):\n",
        "  file_path = path + file\n",
        "  result = model(file_path)\n",
        "\n",
        "  # получим объект файла\n",
        "  file_ans = open(\"video0/frames_output/\" + file[:-3] + \"txt\", \"r\")\n",
        "  lines = file_ans.readlines()\n",
        "  wood = int(lines[0])\n",
        "  glass = int(lines[1])\n",
        "  plastic = int(lines[2])\n",
        "  metal = int(lines[3])\n",
        "  g_w += wood\n",
        "  g_g += glass\n",
        "  g_p += plastic\n",
        "  g_m += metal\n",
        "  file_ans.close\n",
        "\n",
        "  local_wood = 0\n",
        "  local_glass = 0\n",
        "  local_plastic = 0\n",
        "  local_metal = 0\n",
        "\n",
        "  for r in result:\n",
        "          boxes = r.boxes\n",
        "          if len(boxes) == 0:\n",
        "              print(\"Ничего не распознало\")\n",
        "          else:\n",
        "            for box in boxes:\n",
        "              x_0 = int(box.xyxy[0][0])\n",
        "              y_0 = int(box.xyxy[0][1])\n",
        "              x_1 = int(box.xyxy[0][2])\n",
        "              y_1 = int(box.xyxy[0][3])\n",
        "              name = model.names[int(box.cls)]\n",
        "              if (name == \"wood\"):\n",
        "                local_wood += 1\n",
        "              elif name == \"plastic\":\n",
        "                local_plastic += 1\n",
        "              elif name == \"metal\":\n",
        "                local_metal += 1\n",
        "              elif name == \"glass\":\n",
        "                local_glass += 1\n",
        "              # img = r.orig_img[y_0:y_1, x_0:x_1]\n",
        "              # cv2.imwrite(\"tmp.jpg\", img)\n",
        "  RMSD_w += (wood - local_wood)**2\n",
        "  RMSD_g += (glass - local_glass)**2\n",
        "  RMSD_p += (plastic - local_plastic)**2\n",
        "  RMSD_m += (metal - local_metal)**2\n",
        "\n",
        "  l_w += local_wood\n",
        "  l_g += local_glass\n",
        "  l_p += local_plastic\n",
        "  l_m += local_metal\n",
        "\n",
        "RMSD_w = math.sqrt(RMSD_w/T)\n",
        "RMSD_m = math.sqrt(RMSD_m/T)\n",
        "RMSD_g = math.sqrt(RMSD_g/T)\n",
        "RMSD_p = math.sqrt(RMSD_p/T)\n",
        "RMSD =(RMSD_w + RMSD_p + RMSD_g + RMSD_m)/4\n",
        "print(RMSD)\n",
        "print(\"Истиное количество дерева, стекла, пластика, металла: \", g_w, g_g, g_p, g_m)\n",
        "print(\"Расчитанное количество дерева, стекла, пластика, металла: \", l_w, l_g, l_p, l_m)"
      ]
    },
    {
      "cell_type": "code",
      "execution_count": 22,
      "metadata": {
        "colab": {
          "base_uri": "https://localhost:8080/"
        },
        "id": "sxdg7ocGsEg5",
        "outputId": "db67aba0-236a-4a23-87d4-9f36866fbfe4"
      },
      "outputs": [
        {
          "output_type": "stream",
          "name": "stderr",
          "text": [
            "\n",
            "image 1/1 /content/video0/frames_rgb_0/0100.png: 384x640 4 woods, 7 glasss, 4 plastics, 1 metal, 199.5ms\n",
            "Speed: 4.2ms preprocess, 199.5ms inference, 1.0ms postprocess per image at shape (1, 3, 384, 640)\n",
            "\n",
            "image 1/1 /content/video0/frames_rgb_0/0067.png: 384x640 3 woods, 3 glasss, 5 plastics, 1 metal, 130.2ms\n",
            "Speed: 1.5ms preprocess, 130.2ms inference, 0.9ms postprocess per image at shape (1, 3, 384, 640)\n",
            "\n"
          ]
        },
        {
          "output_type": "stream",
          "name": "stdout",
          "text": [
            "3 3 2 0\n",
            "3 3 3 0\n"
          ]
        },
        {
          "output_type": "stream",
          "name": "stderr",
          "text": [
            "image 1/1 /content/video0/frames_rgb_0/0111.png: 384x640 4 woods, 5 glasss, 3 plastics, 3 metals, 142.1ms\n",
            "Speed: 1.7ms preprocess, 142.1ms inference, 1.0ms postprocess per image at shape (1, 3, 384, 640)\n",
            "\n",
            "image 1/1 /content/video0/frames_rgb_0/0051.png: 384x640 4 woods, 2 glasss, 2 plastics, 2 metals, 134.8ms\n",
            "Speed: 1.6ms preprocess, 134.8ms inference, 1.0ms postprocess per image at shape (1, 3, 384, 640)\n",
            "\n"
          ]
        },
        {
          "output_type": "stream",
          "name": "stdout",
          "text": [
            "3 3 4 0\n",
            "3 3 4 0\n"
          ]
        },
        {
          "output_type": "stream",
          "name": "stderr",
          "text": [
            "image 1/1 /content/video0/frames_rgb_0/0093.png: 384x640 4 woods, 4 glasss, 4 plastics, 2 metals, 132.3ms\n",
            "Speed: 1.6ms preprocess, 132.3ms inference, 1.0ms postprocess per image at shape (1, 3, 384, 640)\n",
            "\n",
            "image 1/1 /content/video0/frames_rgb_0/0076.png: 384x640 3 woods, 4 glasss, 7 plastics, 1 metal, 132.4ms\n",
            "Speed: 1.7ms preprocess, 132.4ms inference, 1.0ms postprocess per image at shape (1, 3, 384, 640)\n",
            "\n"
          ]
        },
        {
          "output_type": "stream",
          "name": "stdout",
          "text": [
            "3 3 4 0\n",
            "3 3 4 0\n"
          ]
        },
        {
          "output_type": "stream",
          "name": "stderr",
          "text": [
            "image 1/1 /content/video0/frames_rgb_0/0253.png: 384x640 2 woods, 3 glasss, 8 plastics, 214.7ms\n",
            "Speed: 1.8ms preprocess, 214.7ms inference, 1.4ms postprocess per image at shape (1, 3, 384, 640)\n",
            "\n"
          ]
        },
        {
          "output_type": "stream",
          "name": "stdout",
          "text": [
            "3 5 4 2\n"
          ]
        },
        {
          "output_type": "stream",
          "name": "stderr",
          "text": [
            "image 1/1 /content/video0/frames_rgb_0/0323.png: 384x640 7 woods, 3 glasss, 1 plastic, 5 metals, 219.8ms\n",
            "Speed: 5.9ms preprocess, 219.8ms inference, 1.4ms postprocess per image at shape (1, 3, 384, 640)\n",
            "\n"
          ]
        },
        {
          "output_type": "stream",
          "name": "stdout",
          "text": [
            "4 5 5 2\n"
          ]
        },
        {
          "output_type": "stream",
          "name": "stderr",
          "text": [
            "image 1/1 /content/video0/frames_rgb_0/0029.png: 384x640 3 woods, 6 glasss, 8 plastics, 3 metals, 213.7ms\n",
            "Speed: 2.4ms preprocess, 213.7ms inference, 1.4ms postprocess per image at shape (1, 3, 384, 640)\n",
            "\n"
          ]
        },
        {
          "output_type": "stream",
          "name": "stdout",
          "text": [
            "4 5 5 2\n"
          ]
        },
        {
          "output_type": "stream",
          "name": "stderr",
          "text": [
            "image 1/1 /content/video0/frames_rgb_0/0296.png: 384x640 3 woods, 6 glasss, 5 plastics, 3 metals, 219.9ms\n",
            "Speed: 1.8ms preprocess, 219.9ms inference, 1.3ms postprocess per image at shape (1, 3, 384, 640)\n",
            "\n"
          ]
        },
        {
          "output_type": "stream",
          "name": "stdout",
          "text": [
            "4 5 5 2\n"
          ]
        },
        {
          "output_type": "stream",
          "name": "stderr",
          "text": [
            "image 1/1 /content/video0/frames_rgb_0/0156.png: 384x640 3 woods, 6 glasss, 1 plastic, 3 metals, 222.5ms\n",
            "Speed: 4.4ms preprocess, 222.5ms inference, 1.3ms postprocess per image at shape (1, 3, 384, 640)\n",
            "\n"
          ]
        },
        {
          "output_type": "stream",
          "name": "stdout",
          "text": [
            "5 5 6 2\n"
          ]
        },
        {
          "output_type": "stream",
          "name": "stderr",
          "text": [
            "image 1/1 /content/video0/frames_rgb_0/0096.png: 384x640 4 woods, 6 glasss, 5 plastics, 4 metals, 208.5ms\n",
            "Speed: 4.5ms preprocess, 208.5ms inference, 1.3ms postprocess per image at shape (1, 3, 384, 640)\n",
            "\n"
          ]
        },
        {
          "output_type": "stream",
          "name": "stdout",
          "text": [
            "5 5 6 3\n"
          ]
        },
        {
          "output_type": "stream",
          "name": "stderr",
          "text": [
            "image 1/1 /content/video0/frames_rgb_0/0235.png: 384x640 3 woods, 5 glasss, 1 plastic, 3 metals, 213.4ms\n",
            "Speed: 2.0ms preprocess, 213.4ms inference, 1.3ms postprocess per image at shape (1, 3, 384, 640)\n",
            "\n"
          ]
        },
        {
          "output_type": "stream",
          "name": "stdout",
          "text": [
            "5 5 8 3\n"
          ]
        },
        {
          "output_type": "stream",
          "name": "stderr",
          "text": [
            "image 1/1 /content/video0/frames_rgb_0/0065.png: 384x640 3 woods, 3 glasss, 3 plastics, 1 metal, 213.1ms\n",
            "Speed: 1.8ms preprocess, 213.1ms inference, 1.3ms postprocess per image at shape (1, 3, 384, 640)\n",
            "\n"
          ]
        },
        {
          "output_type": "stream",
          "name": "stdout",
          "text": [
            "5 5 8 3\n"
          ]
        },
        {
          "output_type": "stream",
          "name": "stderr",
          "text": [
            "image 1/1 /content/video0/frames_rgb_0/0248.png: 384x640 1 wood, 6 glasss, 5 plastics, 2 metals, 220.8ms\n",
            "Speed: 1.9ms preprocess, 220.8ms inference, 1.3ms postprocess per image at shape (1, 3, 384, 640)\n",
            "\n"
          ]
        },
        {
          "output_type": "stream",
          "name": "stdout",
          "text": [
            "5 8 9 3\n"
          ]
        },
        {
          "output_type": "stream",
          "name": "stderr",
          "text": [
            "image 1/1 /content/video0/frames_rgb_0/0252.png: 384x640 1 wood, 4 glasss, 7 plastics, 1 metal, 216.3ms\n",
            "Speed: 2.0ms preprocess, 216.3ms inference, 1.4ms postprocess per image at shape (1, 3, 384, 640)\n",
            "\n"
          ]
        },
        {
          "output_type": "stream",
          "name": "stdout",
          "text": [
            "6 8 9 3\n"
          ]
        },
        {
          "output_type": "stream",
          "name": "stderr",
          "text": [
            "image 1/1 /content/video0/frames_rgb_0/0110.png: 384x640 4 woods, 6 glasss, 3 plastics, 3 metals, 219.0ms\n",
            "Speed: 1.9ms preprocess, 219.0ms inference, 1.3ms postprocess per image at shape (1, 3, 384, 640)\n",
            "\n"
          ]
        },
        {
          "output_type": "stream",
          "name": "stdout",
          "text": [
            "7 8 9 3\n"
          ]
        },
        {
          "output_type": "stream",
          "name": "stderr",
          "text": [
            "image 1/1 /content/video0/frames_rgb_0/0052.png: 384x640 4 woods, 3 glasss, 1 plastic, 2 metals, 214.0ms\n",
            "Speed: 1.7ms preprocess, 214.0ms inference, 1.4ms postprocess per image at shape (1, 3, 384, 640)\n",
            "\n"
          ]
        },
        {
          "output_type": "stream",
          "name": "stdout",
          "text": [
            "7 8 9 3\n"
          ]
        },
        {
          "output_type": "stream",
          "name": "stderr",
          "text": [
            "image 1/1 /content/video0/frames_rgb_0/0172.png: 384x640 9 woods, 3 glasss, 7 plastics, 2 metals, 212.0ms\n",
            "Speed: 1.9ms preprocess, 212.0ms inference, 1.4ms postprocess per image at shape (1, 3, 384, 640)\n",
            "\n",
            "image 1/1 /content/video0/frames_rgb_0/0085.png: 384x640 5 woods, 3 glasss, 6 plastics, 2 metals, 146.3ms\n",
            "Speed: 1.8ms preprocess, 146.3ms inference, 1.0ms postprocess per image at shape (1, 3, 384, 640)\n",
            "\n"
          ]
        },
        {
          "output_type": "stream",
          "name": "stdout",
          "text": [
            "7 9 9 4\n",
            "7 9 11 4\n"
          ]
        },
        {
          "output_type": "stream",
          "name": "stderr",
          "text": [
            "image 1/1 /content/video0/frames_rgb_0/0133.png: 384x640 4 woods, 4 glasss, 4 plastics, 3 metals, 132.6ms\n",
            "Speed: 2.0ms preprocess, 132.6ms inference, 0.9ms postprocess per image at shape (1, 3, 384, 640)\n",
            "\n",
            "image 1/1 /content/video0/frames_rgb_0/0195.png: 384x640 7 woods, 3 glasss, 9 plastics, 3 metals, 141.3ms\n",
            "Speed: 1.6ms preprocess, 141.3ms inference, 1.0ms postprocess per image at shape (1, 3, 384, 640)\n",
            "\n"
          ]
        },
        {
          "output_type": "stream",
          "name": "stdout",
          "text": [
            "7 9 11 4\n",
            "7 9 11 5\n"
          ]
        },
        {
          "output_type": "stream",
          "name": "stderr",
          "text": [
            "image 1/1 /content/video0/frames_rgb_0/0002.png: 384x640 5 woods, 2 glasss, 10 plastics, 2 metals, 131.9ms\n",
            "Speed: 1.6ms preprocess, 131.9ms inference, 1.0ms postprocess per image at shape (1, 3, 384, 640)\n",
            "\n",
            "image 1/1 /content/video0/frames_rgb_0/0207.png: 384x640 3 woods, 3 glasss, 4 plastics, 5 metals, 129.1ms\n",
            "Speed: 1.7ms preprocess, 129.1ms inference, 0.9ms postprocess per image at shape (1, 3, 384, 640)\n",
            "\n"
          ]
        },
        {
          "output_type": "stream",
          "name": "stdout",
          "text": [
            "7 10 11 5\n",
            "7 10 12 5\n"
          ]
        },
        {
          "output_type": "stream",
          "name": "stderr",
          "text": [
            "image 1/1 /content/video0/frames_rgb_0/0010.png: 384x640 7 woods, 5 glasss, 11 plastics, 4 metals, 134.0ms\n",
            "Speed: 1.6ms preprocess, 134.0ms inference, 1.0ms postprocess per image at shape (1, 3, 384, 640)\n",
            "\n",
            "image 1/1 /content/video0/frames_rgb_0/0258.png: 384x640 2 woods, 3 glasss, 9 plastics, 127.8ms\n",
            "Speed: 1.6ms preprocess, 127.8ms inference, 0.9ms postprocess per image at shape (1, 3, 384, 640)\n",
            "\n"
          ]
        },
        {
          "output_type": "stream",
          "name": "stdout",
          "text": [
            "7 10 12 6\n",
            "8 10 13 6\n"
          ]
        },
        {
          "output_type": "stream",
          "name": "stderr",
          "text": [
            "image 1/1 /content/video0/frames_rgb_0/0081.png: 384x640 6 woods, 3 glasss, 6 plastics, 3 metals, 132.2ms\n",
            "Speed: 1.6ms preprocess, 132.2ms inference, 1.0ms postprocess per image at shape (1, 3, 384, 640)\n",
            "\n",
            "image 1/1 /content/video0/frames_rgb_0/0152.png: 384x640 6 woods, 6 glasss, 2 plastics, 4 metals, 129.9ms\n",
            "Speed: 1.7ms preprocess, 129.9ms inference, 1.0ms postprocess per image at shape (1, 3, 384, 640)\n",
            "\n"
          ]
        },
        {
          "output_type": "stream",
          "name": "stdout",
          "text": [
            "8 12 14 6\n",
            "8 12 14 6\n"
          ]
        },
        {
          "output_type": "stream",
          "name": "stderr",
          "text": [
            "image 1/1 /content/video0/frames_rgb_0/0233.png: 384x640 4 woods, 5 glasss, 1 plastic, 4 metals, 145.6ms\n",
            "Speed: 1.6ms preprocess, 145.6ms inference, 1.1ms postprocess per image at shape (1, 3, 384, 640)\n",
            "\n",
            "image 1/1 /content/video0/frames_rgb_0/0057.png: 384x640 4 woods, 3 glasss, 2 plastics, 1 metal, 135.0ms\n",
            "Speed: 2.3ms preprocess, 135.0ms inference, 0.9ms postprocess per image at shape (1, 3, 384, 640)\n",
            "\n"
          ]
        },
        {
          "output_type": "stream",
          "name": "stdout",
          "text": [
            "9 12 16 6\n",
            "9 12 16 6\n"
          ]
        },
        {
          "output_type": "stream",
          "name": "stderr",
          "text": [
            "image 1/1 /content/video0/frames_rgb_0/0023.png: 384x640 8 woods, 7 glasss, 7 plastics, 4 metals, 128.2ms\n",
            "Speed: 1.6ms preprocess, 128.2ms inference, 1.0ms postprocess per image at shape (1, 3, 384, 640)\n",
            "\n",
            "image 1/1 /content/video0/frames_rgb_0/0239.png: 384x640 4 woods, 5 glasss, 2 metals, 131.5ms\n",
            "Speed: 1.6ms preprocess, 131.5ms inference, 1.0ms postprocess per image at shape (1, 3, 384, 640)\n",
            "\n"
          ]
        },
        {
          "output_type": "stream",
          "name": "stdout",
          "text": [
            "9 13 16 6\n",
            "9 13 18 6\n"
          ]
        },
        {
          "output_type": "stream",
          "name": "stderr",
          "text": [
            "image 1/1 /content/video0/frames_rgb_0/0118.png: 384x640 4 woods, 3 glasss, 6 plastics, 5 metals, 138.0ms\n",
            "Speed: 1.6ms preprocess, 138.0ms inference, 1.0ms postprocess per image at shape (1, 3, 384, 640)\n",
            "\n",
            "image 1/1 /content/video0/frames_rgb_0/0097.png: 384x640 4 woods, 6 glasss, 4 plastics, 3 metals, 127.2ms\n",
            "Speed: 1.6ms preprocess, 127.2ms inference, 1.0ms postprocess per image at shape (1, 3, 384, 640)\n",
            "\n"
          ]
        },
        {
          "output_type": "stream",
          "name": "stdout",
          "text": [
            "9 14 18 6\n",
            "10 14 18 7\n"
          ]
        },
        {
          "output_type": "stream",
          "name": "stderr",
          "text": [
            "image 1/1 /content/video0/frames_rgb_0/0140.png: 384x640 4 woods, 7 glasss, 2 plastics, 4 metals, 140.9ms\n",
            "Speed: 1.9ms preprocess, 140.9ms inference, 1.0ms postprocess per image at shape (1, 3, 384, 640)\n",
            "\n",
            "image 1/1 /content/video0/frames_rgb_0/0148.png: 384x640 6 woods, 6 glasss, 1 plastic, 4 metals, 131.5ms\n",
            "Speed: 1.6ms preprocess, 131.5ms inference, 1.0ms postprocess per image at shape (1, 3, 384, 640)\n",
            "\n"
          ]
        },
        {
          "output_type": "stream",
          "name": "stdout",
          "text": [
            "10 14 20 7\n",
            "12 14 20 7\n"
          ]
        },
        {
          "output_type": "stream",
          "name": "stderr",
          "text": [
            "image 1/1 /content/video0/frames_rgb_0/0047.png: 384x640 3 woods, 3 glasss, 2 plastics, 2 metals, 131.7ms\n",
            "Speed: 1.7ms preprocess, 131.7ms inference, 1.0ms postprocess per image at shape (1, 3, 384, 640)\n",
            "\n",
            "image 1/1 /content/video0/frames_rgb_0/0287.png: 384x640 4 woods, 3 glasss, 4 plastics, 3 metals, 128.9ms\n",
            "Speed: 1.6ms preprocess, 128.9ms inference, 1.0ms postprocess per image at shape (1, 3, 384, 640)\n",
            "\n"
          ]
        },
        {
          "output_type": "stream",
          "name": "stdout",
          "text": [
            "12 16 20 7\n",
            "12 16 20 7\n"
          ]
        },
        {
          "output_type": "stream",
          "name": "stderr",
          "text": [
            "image 1/1 /content/video0/frames_rgb_0/0170.png: 384x640 7 woods, 3 glasss, 6 plastics, 2 metals, 137.5ms\n",
            "Speed: 1.6ms preprocess, 137.5ms inference, 1.0ms postprocess per image at shape (1, 3, 384, 640)\n",
            "\n",
            "image 1/1 /content/video0/frames_rgb_0/0229.png: 384x640 5 woods, 5 glasss, 2 plastics, 4 metals, 127.1ms\n",
            "Speed: 1.7ms preprocess, 127.1ms inference, 1.0ms postprocess per image at shape (1, 3, 384, 640)\n",
            "\n"
          ]
        },
        {
          "output_type": "stream",
          "name": "stdout",
          "text": [
            "13 16 22 7\n",
            "13 17 22 7\n"
          ]
        },
        {
          "output_type": "stream",
          "name": "stderr",
          "text": [
            "image 1/1 /content/video0/frames_rgb_0/0143.png: 384x640 5 woods, 7 glasss, 2 plastics, 4 metals, 142.2ms\n",
            "Speed: 1.6ms preprocess, 142.2ms inference, 1.0ms postprocess per image at shape (1, 3, 384, 640)\n",
            "\n",
            "image 1/1 /content/video0/frames_rgb_0/0198.png: 384x640 5 woods, 4 glasss, 6 plastics, 4 metals, 140.2ms\n",
            "Speed: 1.7ms preprocess, 140.2ms inference, 1.1ms postprocess per image at shape (1, 3, 384, 640)\n",
            "\n"
          ]
        },
        {
          "output_type": "stream",
          "name": "stdout",
          "text": [
            "14 17 22 7\n",
            "15 18 22 7\n"
          ]
        },
        {
          "output_type": "stream",
          "name": "stderr",
          "text": [
            "image 1/1 /content/video0/frames_rgb_0/0145.png: 384x640 5 woods, 6 glasss, 4 metals, 134.8ms\n",
            "Speed: 1.6ms preprocess, 134.8ms inference, 1.0ms postprocess per image at shape (1, 3, 384, 640)\n",
            "\n",
            "image 1/1 /content/video0/frames_rgb_0/0227.png: 384x640 5 woods, 6 glasss, 2 plastics, 5 metals, 135.4ms\n",
            "Speed: 1.7ms preprocess, 135.4ms inference, 1.0ms postprocess per image at shape (1, 3, 384, 640)\n",
            "\n"
          ]
        },
        {
          "output_type": "stream",
          "name": "stdout",
          "text": [
            "16 18 22 8\n",
            "16 20 22 8\n"
          ]
        },
        {
          "output_type": "stream",
          "name": "stderr",
          "text": [
            "image 1/1 /content/video0/frames_rgb_0/0022.png: 384x640 8 woods, 6 glasss, 8 plastics, 3 metals, 134.4ms\n",
            "Speed: 1.7ms preprocess, 134.4ms inference, 1.0ms postprocess per image at shape (1, 3, 384, 640)\n",
            "\n",
            "image 1/1 /content/video0/frames_rgb_0/0274.png: 384x640 4 woods, 3 glasss, 6 plastics, 3 metals, 132.1ms\n",
            "Speed: 1.5ms preprocess, 132.1ms inference, 1.0ms postprocess per image at shape (1, 3, 384, 640)\n",
            "\n"
          ]
        },
        {
          "output_type": "stream",
          "name": "stdout",
          "text": [
            "18 20 22 8\n",
            "18 20 24 8\n"
          ]
        },
        {
          "output_type": "stream",
          "name": "stderr",
          "text": [
            "image 1/1 /content/video0/frames_rgb_0/0286.png: 384x640 5 woods, 3 glasss, 7 plastics, 4 metals, 138.2ms\n",
            "Speed: 1.9ms preprocess, 138.2ms inference, 1.0ms postprocess per image at shape (1, 3, 384, 640)\n",
            "\n",
            "image 1/1 /content/video0/frames_rgb_0/0197.png: 384x640 5 woods, 3 glasss, 6 plastics, 4 metals, 136.2ms\n",
            "Speed: 1.8ms preprocess, 136.2ms inference, 1.0ms postprocess per image at shape (1, 3, 384, 640)\n",
            "\n"
          ]
        },
        {
          "output_type": "stream",
          "name": "stdout",
          "text": [
            "18 20 25 9\n",
            "19 21 28 9\n"
          ]
        },
        {
          "output_type": "stream",
          "name": "stderr",
          "text": [
            "image 1/1 /content/video0/frames_rgb_0/0149.png: 384x640 5 woods, 6 glasss, 1 plastic, 7 metals, 134.3ms\n",
            "Speed: 1.7ms preprocess, 134.3ms inference, 1.0ms postprocess per image at shape (1, 3, 384, 640)\n",
            "\n",
            "image 1/1 /content/video0/frames_rgb_0/0103.png: 384x640 3 woods, 5 glasss, 4 plastics, 2 metals, 132.4ms\n",
            "Speed: 1.6ms preprocess, 132.4ms inference, 1.0ms postprocess per image at shape (1, 3, 384, 640)\n",
            "\n"
          ]
        },
        {
          "output_type": "stream",
          "name": "stdout",
          "text": [
            "19 21 28 10\n",
            "19 21 28 10\n"
          ]
        },
        {
          "output_type": "stream",
          "name": "stderr",
          "text": [
            "image 1/1 /content/video0/frames_rgb_0/0056.png: 384x640 5 woods, 3 glasss, 2 plastics, 2 metals, 134.9ms\n",
            "Speed: 1.6ms preprocess, 134.9ms inference, 1.0ms postprocess per image at shape (1, 3, 384, 640)\n",
            "\n",
            "image 1/1 /content/video0/frames_rgb_0/0105.png: 384x640 3 woods, 5 glasss, 3 plastics, 1 metal, 135.2ms\n",
            "Speed: 2.0ms preprocess, 135.2ms inference, 0.9ms postprocess per image at shape (1, 3, 384, 640)\n",
            "\n"
          ]
        },
        {
          "output_type": "stream",
          "name": "stdout",
          "text": [
            "19 21 28 10\n",
            "19 21 28 10\n"
          ]
        },
        {
          "output_type": "stream",
          "name": "stderr",
          "text": [
            "image 1/1 /content/video0/frames_rgb_0/0095.png: 384x640 4 woods, 6 glasss, 4 plastics, 2 metals, 132.9ms\n",
            "Speed: 1.6ms preprocess, 132.9ms inference, 1.0ms postprocess per image at shape (1, 3, 384, 640)\n",
            "\n",
            "image 1/1 /content/video0/frames_rgb_0/0217.png: 384x640 6 woods, 1 glass, 4 plastics, 6 metals, 134.3ms\n",
            "Speed: 1.6ms preprocess, 134.3ms inference, 1.3ms postprocess per image at shape (1, 3, 384, 640)\n",
            "\n"
          ]
        },
        {
          "output_type": "stream",
          "name": "stdout",
          "text": [
            "19 23 28 10\n",
            "19 23 28 10\n"
          ]
        },
        {
          "output_type": "stream",
          "name": "stderr",
          "text": [
            "image 1/1 /content/video0/frames_rgb_0/0196.png: 384x640 6 woods, 3 glasss, 6 plastics, 6 metals, 160.4ms\n",
            "Speed: 2.4ms preprocess, 160.4ms inference, 1.1ms postprocess per image at shape (1, 3, 384, 640)\n",
            "\n",
            "image 1/1 /content/video0/frames_rgb_0/0177.png: 384x640 8 woods, 3 glasss, 8 plastics, 1 metal, 139.6ms\n",
            "Speed: 3.0ms preprocess, 139.6ms inference, 1.1ms postprocess per image at shape (1, 3, 384, 640)\n",
            "\n"
          ]
        },
        {
          "output_type": "stream",
          "name": "stdout",
          "text": [
            "19 23 30 10\n",
            "19 23 30 10\n"
          ]
        },
        {
          "output_type": "stream",
          "name": "stderr",
          "text": [
            "image 1/1 /content/video0/frames_rgb_0/0139.png: 384x640 4 woods, 8 glasss, 3 plastics, 5 metals, 147.2ms\n",
            "Speed: 2.2ms preprocess, 147.2ms inference, 1.1ms postprocess per image at shape (1, 3, 384, 640)\n",
            "\n",
            "image 1/1 /content/video0/frames_rgb_0/0155.png: 384x640 3 woods, 6 glasss, 1 plastic, 3 metals, 140.4ms\n",
            "Speed: 2.4ms preprocess, 140.4ms inference, 1.2ms postprocess per image at shape (1, 3, 384, 640)\n",
            "\n"
          ]
        },
        {
          "output_type": "stream",
          "name": "stdout",
          "text": [
            "19 24 33 10\n",
            "19 24 33 10\n"
          ]
        },
        {
          "output_type": "stream",
          "name": "stderr",
          "text": [
            "image 1/1 /content/video0/frames_rgb_0/0320.png: 384x640 5 woods, 3 glasss, 1 plastic, 5 metals, 142.3ms\n",
            "Speed: 2.1ms preprocess, 142.3ms inference, 1.1ms postprocess per image at shape (1, 3, 384, 640)\n",
            "\n",
            "image 1/1 /content/video0/frames_rgb_0/0128.png: 384x640 4 woods, 2 glasss, 4 plastics, 3 metals, 145.3ms\n",
            "Speed: 2.2ms preprocess, 145.3ms inference, 1.5ms postprocess per image at shape (1, 3, 384, 640)\n",
            "\n"
          ]
        },
        {
          "output_type": "stream",
          "name": "stdout",
          "text": [
            "19 24 33 10\n",
            "20 24 33 10\n"
          ]
        },
        {
          "output_type": "stream",
          "name": "stderr",
          "text": [
            "image 1/1 /content/video0/frames_rgb_0/0204.png: 384x640 3 woods, 4 glasss, 3 plastics, 5 metals, 144.8ms\n",
            "Speed: 2.4ms preprocess, 144.8ms inference, 1.1ms postprocess per image at shape (1, 3, 384, 640)\n",
            "\n",
            "image 1/1 /content/video0/frames_rgb_0/0270.png: 384x640 5 woods, 4 glasss, 4 plastics, 2 metals, 141.7ms\n",
            "Speed: 2.0ms preprocess, 141.7ms inference, 1.3ms postprocess per image at shape (1, 3, 384, 640)\n",
            "\n"
          ]
        },
        {
          "output_type": "stream",
          "name": "stdout",
          "text": [
            "20 24 33 10\n",
            "20 24 34 11\n"
          ]
        },
        {
          "output_type": "stream",
          "name": "stderr",
          "text": [
            "image 1/1 /content/video0/frames_rgb_0/0165.png: 384x640 3 woods, 4 glasss, 4 plastics, 3 metals, 147.1ms\n",
            "Speed: 2.3ms preprocess, 147.1ms inference, 1.1ms postprocess per image at shape (1, 3, 384, 640)\n",
            "\n",
            "image 1/1 /content/video0/frames_rgb_0/0108.png: 384x640 4 woods, 5 glasss, 4 plastics, 2 metals, 143.7ms\n",
            "Speed: 2.0ms preprocess, 143.7ms inference, 1.1ms postprocess per image at shape (1, 3, 384, 640)\n",
            "\n"
          ]
        },
        {
          "output_type": "stream",
          "name": "stdout",
          "text": [
            "20 24 35 11\n",
            "20 25 35 11\n"
          ]
        },
        {
          "output_type": "stream",
          "name": "stderr",
          "text": [
            "image 1/1 /content/video0/frames_rgb_0/0072.png: 384x640 5 woods, 3 glasss, 6 plastics, 1 metal, 147.1ms\n",
            "Speed: 2.3ms preprocess, 147.1ms inference, 1.4ms postprocess per image at shape (1, 3, 384, 640)\n",
            "\n",
            "image 1/1 /content/video0/frames_rgb_0/0049.png: 384x640 3 woods, 3 glasss, 2 plastics, 1 metal, 143.5ms\n",
            "Speed: 2.1ms preprocess, 143.5ms inference, 1.1ms postprocess per image at shape (1, 3, 384, 640)\n",
            "\n"
          ]
        },
        {
          "output_type": "stream",
          "name": "stdout",
          "text": [
            "20 25 36 11\n",
            "20 25 36 11\n"
          ]
        },
        {
          "output_type": "stream",
          "name": "stderr",
          "text": [
            "image 1/1 /content/video0/frames_rgb_0/0265.png: 384x640 4 woods, 4 glasss, 11 plastics, 1 metal, 149.5ms\n",
            "Speed: 2.3ms preprocess, 149.5ms inference, 1.1ms postprocess per image at shape (1, 3, 384, 640)\n",
            "\n",
            "image 1/1 /content/video0/frames_rgb_0/0210.png: 384x640 4 woods, 2 glasss, 5 plastics, 5 metals, 141.3ms\n",
            "Speed: 2.6ms preprocess, 141.3ms inference, 1.1ms postprocess per image at shape (1, 3, 384, 640)\n",
            "\n"
          ]
        },
        {
          "output_type": "stream",
          "name": "stdout",
          "text": [
            "21 25 36 11\n",
            "21 25 38 11\n"
          ]
        },
        {
          "output_type": "stream",
          "name": "stderr",
          "text": [
            "image 1/1 /content/video0/frames_rgb_0/0131.png: 384x640 3 woods, 2 glasss, 5 plastics, 4 metals, 152.9ms\n",
            "Speed: 2.2ms preprocess, 152.9ms inference, 1.1ms postprocess per image at shape (1, 3, 384, 640)\n",
            "\n",
            "image 1/1 /content/video0/frames_rgb_0/0024.png: 384x640 8 woods, 7 glasss, 6 plastics, 4 metals, 135.8ms\n",
            "Speed: 2.3ms preprocess, 135.8ms inference, 1.1ms postprocess per image at shape (1, 3, 384, 640)\n",
            "\n"
          ]
        },
        {
          "output_type": "stream",
          "name": "stdout",
          "text": [
            "21 25 38 11\n",
            "21 26 40 11\n"
          ]
        },
        {
          "output_type": "stream",
          "name": "stderr",
          "text": [
            "image 1/1 /content/video0/frames_rgb_0/0119.png: 384x640 4 woods, 4 glasss, 4 plastics, 4 metals, 145.8ms\n",
            "Speed: 2.0ms preprocess, 145.8ms inference, 1.2ms postprocess per image at shape (1, 3, 384, 640)\n",
            "\n",
            "image 1/1 /content/video0/frames_rgb_0/0278.png: 384x640 5 woods, 3 glasss, 8 plastics, 3 metals, 137.3ms\n",
            "Speed: 2.1ms preprocess, 137.3ms inference, 2.3ms postprocess per image at shape (1, 3, 384, 640)\n",
            "\n"
          ]
        },
        {
          "output_type": "stream",
          "name": "stdout",
          "text": [
            "22 26 40 11\n",
            "22 26 41 12\n"
          ]
        },
        {
          "output_type": "stream",
          "name": "stderr",
          "text": [
            "image 1/1 /content/video0/frames_rgb_0/0240.png: 384x640 4 woods, 5 glasss, 2 metals, 150.1ms\n",
            "Speed: 2.0ms preprocess, 150.1ms inference, 1.1ms postprocess per image at shape (1, 3, 384, 640)\n",
            "\n",
            "image 1/1 /content/video0/frames_rgb_0/0033.png: 384x640 5 woods, 6 glasss, 6 plastics, 1 metal, 141.7ms\n",
            "Speed: 2.1ms preprocess, 141.7ms inference, 1.1ms postprocess per image at shape (1, 3, 384, 640)\n",
            "\n"
          ]
        },
        {
          "output_type": "stream",
          "name": "stdout",
          "text": [
            "23 26 41 12\n",
            "23 26 41 13\n"
          ]
        },
        {
          "output_type": "stream",
          "name": "stderr",
          "text": [
            "image 1/1 /content/video0/frames_rgb_0/0226.png: 384x640 5 woods, 4 glasss, 3 plastics, 5 metals, 146.2ms\n",
            "Speed: 2.0ms preprocess, 146.2ms inference, 1.1ms postprocess per image at shape (1, 3, 384, 640)\n",
            "\n",
            "image 1/1 /content/video0/frames_rgb_0/0138.png: 384x640 4 woods, 7 glasss, 3 plastics, 5 metals, 141.0ms\n",
            "Speed: 2.0ms preprocess, 141.0ms inference, 1.2ms postprocess per image at shape (1, 3, 384, 640)\n",
            "\n"
          ]
        },
        {
          "output_type": "stream",
          "name": "stdout",
          "text": [
            "23 27 41 13\n",
            "24 27 42 14\n"
          ]
        },
        {
          "output_type": "stream",
          "name": "stderr",
          "text": [
            "image 1/1 /content/video0/frames_rgb_0/0187.png: 384x640 10 woods, 3 glasss, 11 plastics, 3 metals, 146.0ms\n",
            "Speed: 2.1ms preprocess, 146.0ms inference, 1.2ms postprocess per image at shape (1, 3, 384, 640)\n",
            "\n",
            "image 1/1 /content/video0/frames_rgb_0/0054.png: 384x640 5 woods, 1 glass, 2 plastics, 2 metals, 143.4ms\n",
            "Speed: 2.1ms preprocess, 143.4ms inference, 1.0ms postprocess per image at shape (1, 3, 384, 640)\n",
            "\n"
          ]
        },
        {
          "output_type": "stream",
          "name": "stdout",
          "text": [
            "25 27 42 15\n",
            "25 27 42 15\n"
          ]
        },
        {
          "output_type": "stream",
          "name": "stderr",
          "text": [
            "image 1/1 /content/video0/frames_rgb_0/0324.png: 384x640 8 woods, 2 glasss, 1 plastic, 5 metals, 145.8ms\n",
            "Speed: 1.7ms preprocess, 145.8ms inference, 1.1ms postprocess per image at shape (1, 3, 384, 640)\n",
            "\n",
            "image 1/1 /content/video0/frames_rgb_0/0249.png: 384x640 2 woods, 6 glasss, 6 plastics, 1 metal, 127.9ms\n",
            "Speed: 1.6ms preprocess, 127.9ms inference, 1.0ms postprocess per image at shape (1, 3, 384, 640)\n",
            "\n"
          ]
        },
        {
          "output_type": "stream",
          "name": "stdout",
          "text": [
            "25 27 46 15\n",
            "26 27 47 15\n"
          ]
        },
        {
          "output_type": "stream",
          "name": "stderr",
          "text": [
            "image 1/1 /content/video0/frames_rgb_0/0232.png: 384x640 4 woods, 5 glasss, 1 plastic, 4 metals, 189.7ms\n",
            "Speed: 1.7ms preprocess, 189.7ms inference, 1.5ms postprocess per image at shape (1, 3, 384, 640)\n",
            "\n"
          ]
        },
        {
          "output_type": "stream",
          "name": "stdout",
          "text": [
            "27 27 47 15\n"
          ]
        },
        {
          "output_type": "stream",
          "name": "stderr",
          "text": [
            "image 1/1 /content/video0/frames_rgb_0/0171.png: 384x640 9 woods, 3 glasss, 7 plastics, 2 metals, 209.1ms\n",
            "Speed: 1.7ms preprocess, 209.1ms inference, 1.3ms postprocess per image at shape (1, 3, 384, 640)\n",
            "\n"
          ]
        },
        {
          "output_type": "stream",
          "name": "stdout",
          "text": [
            "27 28 47 15\n"
          ]
        },
        {
          "output_type": "stream",
          "name": "stderr",
          "text": [
            "image 1/1 /content/video0/frames_rgb_0/0300.png: 384x640 5 woods, 5 glasss, 3 plastics, 4 metals, 213.2ms\n",
            "Speed: 1.9ms preprocess, 213.2ms inference, 1.7ms postprocess per image at shape (1, 3, 384, 640)\n",
            "\n"
          ]
        },
        {
          "output_type": "stream",
          "name": "stdout",
          "text": [
            "27 28 49 15\n"
          ]
        },
        {
          "output_type": "stream",
          "name": "stderr",
          "text": [
            "image 1/1 /content/video0/frames_rgb_0/0273.png: 384x640 3 woods, 1 glass, 9 plastics, 3 metals, 236.9ms\n",
            "Speed: 2.0ms preprocess, 236.9ms inference, 1.3ms postprocess per image at shape (1, 3, 384, 640)\n",
            "\n"
          ]
        },
        {
          "output_type": "stream",
          "name": "stdout",
          "text": [
            "27 29 50 15\n"
          ]
        },
        {
          "output_type": "stream",
          "name": "stderr",
          "text": [
            "image 1/1 /content/video0/frames_rgb_0/0075.png: 384x640 5 woods, 3 glasss, 6 plastics, 2 metals, 218.1ms\n",
            "Speed: 1.9ms preprocess, 218.1ms inference, 1.3ms postprocess per image at shape (1, 3, 384, 640)\n",
            "\n"
          ]
        },
        {
          "output_type": "stream",
          "name": "stdout",
          "text": [
            "27 29 50 15\n"
          ]
        },
        {
          "output_type": "stream",
          "name": "stderr",
          "text": [
            "image 1/1 /content/video0/frames_rgb_0/0153.png: 384x640 6 woods, 6 glasss, 1 plastic, 4 metals, 208.3ms\n",
            "Speed: 1.7ms preprocess, 208.3ms inference, 1.2ms postprocess per image at shape (1, 3, 384, 640)\n",
            "\n"
          ]
        },
        {
          "output_type": "stream",
          "name": "stdout",
          "text": [
            "27 29 50 15\n"
          ]
        },
        {
          "output_type": "stream",
          "name": "stderr",
          "text": [
            "image 1/1 /content/video0/frames_rgb_0/0074.png: 384x640 5 woods, 3 glasss, 6 plastics, 1 metal, 211.9ms\n",
            "Speed: 2.1ms preprocess, 211.9ms inference, 1.3ms postprocess per image at shape (1, 3, 384, 640)\n",
            "\n"
          ]
        },
        {
          "output_type": "stream",
          "name": "stdout",
          "text": [
            "27 29 50 15\n"
          ]
        },
        {
          "output_type": "stream",
          "name": "stderr",
          "text": [
            "image 1/1 /content/video0/frames_rgb_0/0228.png: 384x640 5 woods, 5 glasss, 2 plastics, 4 metals, 223.5ms\n",
            "Speed: 1.9ms preprocess, 223.5ms inference, 1.2ms postprocess per image at shape (1, 3, 384, 640)\n",
            "\n"
          ]
        },
        {
          "output_type": "stream",
          "name": "stdout",
          "text": [
            "27 29 51 15\n"
          ]
        },
        {
          "output_type": "stream",
          "name": "stderr",
          "text": [
            "image 1/1 /content/video0/frames_rgb_0/0038.png: 384x640 6 woods, 6 glasss, 4 plastics, 3 metals, 215.9ms\n",
            "Speed: 1.8ms preprocess, 215.9ms inference, 1.4ms postprocess per image at shape (1, 3, 384, 640)\n",
            "\n"
          ]
        },
        {
          "output_type": "stream",
          "name": "stdout",
          "text": [
            "29 29 51 15\n"
          ]
        },
        {
          "output_type": "stream",
          "name": "stderr",
          "text": [
            "image 1/1 /content/video0/frames_rgb_0/0259.png: 384x640 2 woods, 3 glasss, 10 plastics, 213.6ms\n",
            "Speed: 1.9ms preprocess, 213.6ms inference, 1.2ms postprocess per image at shape (1, 3, 384, 640)\n",
            "\n"
          ]
        },
        {
          "output_type": "stream",
          "name": "stdout",
          "text": [
            "29 30 53 15\n"
          ]
        },
        {
          "output_type": "stream",
          "name": "stderr",
          "text": [
            "image 1/1 /content/video0/frames_rgb_0/0112.png: 384x640 4 woods, 5 glasss, 3 plastics, 3 metals, 212.0ms\n",
            "Speed: 1.8ms preprocess, 212.0ms inference, 1.3ms postprocess per image at shape (1, 3, 384, 640)\n",
            "\n"
          ]
        },
        {
          "output_type": "stream",
          "name": "stdout",
          "text": [
            "29 31 54 15\n"
          ]
        },
        {
          "output_type": "stream",
          "name": "stderr",
          "text": [
            "image 1/1 /content/video0/frames_rgb_0/0124.png: 384x640 4 woods, 5 glasss, 3 plastics, 2 metals, 206.3ms\n",
            "Speed: 1.8ms preprocess, 206.3ms inference, 1.4ms postprocess per image at shape (1, 3, 384, 640)\n",
            "\n"
          ]
        },
        {
          "output_type": "stream",
          "name": "stdout",
          "text": [
            "29 32 54 15\n"
          ]
        },
        {
          "output_type": "stream",
          "name": "stderr",
          "text": [
            "image 1/1 /content/video0/frames_rgb_0/0281.png: 384x640 5 woods, 4 glasss, 7 plastics, 4 metals, 209.7ms\n",
            "Speed: 1.9ms preprocess, 209.7ms inference, 1.6ms postprocess per image at shape (1, 3, 384, 640)\n",
            "\n"
          ]
        },
        {
          "output_type": "stream",
          "name": "stdout",
          "text": [
            "29 32 55 15\n"
          ]
        },
        {
          "output_type": "stream",
          "name": "stderr",
          "text": [
            "image 1/1 /content/video0/frames_rgb_0/0267.png: 384x640 4 woods, 4 glasss, 8 plastics, 3 metals, 209.6ms\n",
            "Speed: 1.9ms preprocess, 209.6ms inference, 1.4ms postprocess per image at shape (1, 3, 384, 640)\n",
            "\n",
            "image 1/1 /content/video0/frames_rgb_0/0066.png: 384x640 3 woods, 3 glasss, 3 plastics, 1 metal, 126.7ms\n",
            "Speed: 1.7ms preprocess, 126.7ms inference, 1.0ms postprocess per image at shape (1, 3, 384, 640)\n",
            "\n"
          ]
        },
        {
          "output_type": "stream",
          "name": "stdout",
          "text": [
            "30 32 55 16\n",
            "31 32 56 16\n"
          ]
        },
        {
          "output_type": "stream",
          "name": "stderr",
          "text": [
            "image 1/1 /content/video0/frames_rgb_0/0039.png: 384x640 5 woods, 5 glasss, 4 plastics, 4 metals, 136.0ms\n",
            "Speed: 1.6ms preprocess, 136.0ms inference, 1.1ms postprocess per image at shape (1, 3, 384, 640)\n",
            "\n",
            "image 1/1 /content/video0/frames_rgb_0/0058.png: 384x640 3 woods, 3 glasss, 2 plastics, 1 metal, 140.2ms\n",
            "Speed: 2.2ms preprocess, 140.2ms inference, 1.5ms postprocess per image at shape (1, 3, 384, 640)\n",
            "\n"
          ]
        },
        {
          "output_type": "stream",
          "name": "stdout",
          "text": [
            "31 34 56 16\n",
            "31 34 56 16\n"
          ]
        },
        {
          "output_type": "stream",
          "name": "stderr",
          "text": [
            "image 1/1 /content/video0/frames_rgb_0/0202.png: 384x640 4 woods, 4 glasss, 3 plastics, 4 metals, 160.8ms\n",
            "Speed: 2.1ms preprocess, 160.8ms inference, 1.1ms postprocess per image at shape (1, 3, 384, 640)\n",
            "\n",
            "image 1/1 /content/video0/frames_rgb_0/0332.png: 384x640 8 woods, 1 glass, 3 plastics, 6 metals, 152.6ms\n",
            "Speed: 2.1ms preprocess, 152.6ms inference, 1.1ms postprocess per image at shape (1, 3, 384, 640)\n",
            "\n"
          ]
        },
        {
          "output_type": "stream",
          "name": "stdout",
          "text": [
            "31 36 58 16\n",
            "31 37 58 16\n"
          ]
        },
        {
          "output_type": "stream",
          "name": "stderr",
          "text": [
            "image 1/1 /content/video0/frames_rgb_0/0158.png: 384x640 2 woods, 6 glasss, 1 plastic, 2 metals, 143.4ms\n",
            "Speed: 7.7ms preprocess, 143.4ms inference, 1.1ms postprocess per image at shape (1, 3, 384, 640)\n",
            "\n",
            "image 1/1 /content/video0/frames_rgb_0/0213.png: 384x640 4 woods, 2 glasss, 4 plastics, 4 metals, 144.3ms\n",
            "Speed: 2.2ms preprocess, 144.3ms inference, 1.6ms postprocess per image at shape (1, 3, 384, 640)\n",
            "\n"
          ]
        },
        {
          "output_type": "stream",
          "name": "stdout",
          "text": [
            "33 37 58 16\n",
            "34 37 58 16\n"
          ]
        },
        {
          "output_type": "stream",
          "name": "stderr",
          "text": [
            "image 1/1 /content/video0/frames_rgb_0/0021.png: 384x640 9 woods, 6 glasss, 10 plastics, 2 metals, 143.8ms\n",
            "Speed: 2.4ms preprocess, 143.8ms inference, 1.0ms postprocess per image at shape (1, 3, 384, 640)\n",
            "\n",
            "image 1/1 /content/video0/frames_rgb_0/0326.png: 384x640 8 woods, 2 glasss, 1 plastic, 5 metals, 137.1ms\n",
            "Speed: 1.7ms preprocess, 137.1ms inference, 1.0ms postprocess per image at shape (1, 3, 384, 640)\n",
            "\n"
          ]
        },
        {
          "output_type": "stream",
          "name": "stdout",
          "text": [
            "34 37 58 16\n",
            "34 37 60 16\n"
          ]
        },
        {
          "output_type": "stream",
          "name": "stderr",
          "text": [
            "image 1/1 /content/video0/frames_rgb_0/0279.png: 384x640 6 woods, 3 glasss, 5 plastics, 4 metals, 146.9ms\n",
            "Speed: 1.6ms preprocess, 146.9ms inference, 0.9ms postprocess per image at shape (1, 3, 384, 640)\n",
            "\n",
            "image 1/1 /content/video0/frames_rgb_0/0030.png: 384x640 4 woods, 7 glasss, 6 plastics, 3 metals, 128.8ms\n",
            "Speed: 1.7ms preprocess, 128.8ms inference, 1.0ms postprocess per image at shape (1, 3, 384, 640)\n",
            "\n"
          ]
        },
        {
          "output_type": "stream",
          "name": "stdout",
          "text": [
            "34 37 60 17\n",
            "35 37 60 17\n"
          ]
        },
        {
          "output_type": "stream",
          "name": "stderr",
          "text": [
            "image 1/1 /content/video0/frames_rgb_0/0264.png: 384x640 3 woods, 4 glasss, 10 plastics, 1 metal, 131.3ms\n",
            "Speed: 2.7ms preprocess, 131.3ms inference, 1.0ms postprocess per image at shape (1, 3, 384, 640)\n",
            "\n",
            "image 1/1 /content/video0/frames_rgb_0/0135.png: 384x640 4 woods, 4 glasss, 6 plastics, 5 metals, 133.1ms\n",
            "Speed: 1.8ms preprocess, 133.1ms inference, 1.0ms postprocess per image at shape (1, 3, 384, 640)\n",
            "\n"
          ]
        },
        {
          "output_type": "stream",
          "name": "stdout",
          "text": [
            "36 37 61 17\n",
            "36 37 63 17\n"
          ]
        },
        {
          "output_type": "stream",
          "name": "stderr",
          "text": [
            "image 1/1 /content/video0/frames_rgb_0/0280.png: 384x640 7 woods, 3 glasss, 7 plastics, 5 metals, 144.6ms\n",
            "Speed: 2.2ms preprocess, 144.6ms inference, 1.0ms postprocess per image at shape (1, 3, 384, 640)\n",
            "\n",
            "image 1/1 /content/video0/frames_rgb_0/0134.png: 384x640 4 woods, 4 glasss, 3 plastics, 5 metals, 131.6ms\n",
            "Speed: 1.6ms preprocess, 131.6ms inference, 1.0ms postprocess per image at shape (1, 3, 384, 640)\n",
            "\n"
          ]
        },
        {
          "output_type": "stream",
          "name": "stdout",
          "text": [
            "36 37 63 17\n",
            "36 37 63 17\n"
          ]
        },
        {
          "output_type": "stream",
          "name": "stderr",
          "text": [
            "image 1/1 /content/video0/frames_rgb_0/0064.png: 384x640 3 woods, 3 glasss, 3 plastics, 1 metal, 143.9ms\n",
            "Speed: 1.7ms preprocess, 143.9ms inference, 0.9ms postprocess per image at shape (1, 3, 384, 640)\n",
            "\n",
            "image 1/1 /content/video0/frames_rgb_0/0288.png: 384x640 4 woods, 4 glasss, 4 plastics, 3 metals, 132.5ms\n",
            "Speed: 1.7ms preprocess, 132.5ms inference, 0.9ms postprocess per image at shape (1, 3, 384, 640)\n",
            "\n"
          ]
        },
        {
          "output_type": "stream",
          "name": "stdout",
          "text": [
            "37 37 63 17\n",
            "37 38 64 17\n"
          ]
        },
        {
          "output_type": "stream",
          "name": "stderr",
          "text": [
            "image 1/1 /content/video0/frames_rgb_0/0262.png: 384x640 3 woods, 4 glasss, 11 plastics, 136.4ms\n",
            "Speed: 2.2ms preprocess, 136.4ms inference, 1.0ms postprocess per image at shape (1, 3, 384, 640)\n",
            "\n",
            "image 1/1 /content/video0/frames_rgb_0/0208.png: 384x640 4 woods, 3 glasss, 2 plastics, 6 metals, 132.4ms\n",
            "Speed: 2.0ms preprocess, 132.4ms inference, 1.0ms postprocess per image at shape (1, 3, 384, 640)\n",
            "\n"
          ]
        },
        {
          "output_type": "stream",
          "name": "stdout",
          "text": [
            "38 38 64 17\n",
            "38 38 64 17\n"
          ]
        },
        {
          "output_type": "stream",
          "name": "stderr",
          "text": [
            "image 1/1 /content/video0/frames_rgb_0/0277.png: 384x640 5 woods, 3 glasss, 8 plastics, 3 metals, 138.5ms\n",
            "Speed: 1.6ms preprocess, 138.5ms inference, 1.0ms postprocess per image at shape (1, 3, 384, 640)\n",
            "\n",
            "image 1/1 /content/video0/frames_rgb_0/0098.png: 384x640 4 woods, 7 glasss, 5 plastics, 2 metals, 141.2ms\n",
            "Speed: 1.7ms preprocess, 141.2ms inference, 1.1ms postprocess per image at shape (1, 3, 384, 640)\n",
            "\n"
          ]
        },
        {
          "output_type": "stream",
          "name": "stdout",
          "text": [
            "38 38 65 17\n",
            "39 38 65 18\n"
          ]
        },
        {
          "output_type": "stream",
          "name": "stderr",
          "text": [
            "image 1/1 /content/video0/frames_rgb_0/0150.png: 384x640 5 woods, 6 glasss, 1 plastic, 3 metals, 138.8ms\n",
            "Speed: 2.1ms preprocess, 138.8ms inference, 1.1ms postprocess per image at shape (1, 3, 384, 640)\n",
            "\n",
            "image 1/1 /content/video0/frames_rgb_0/0015.png: 384x640 9 woods, 6 glasss, 11 plastics, 2 metals, 149.6ms\n",
            "Speed: 2.8ms preprocess, 149.6ms inference, 1.1ms postprocess per image at shape (1, 3, 384, 640)\n",
            "\n"
          ]
        },
        {
          "output_type": "stream",
          "name": "stdout",
          "text": [
            "39 38 66 18\n",
            "39 39 66 18\n"
          ]
        },
        {
          "output_type": "stream",
          "name": "stderr",
          "text": [
            "image 1/1 /content/video0/frames_rgb_0/0087.png: 384x640 5 woods, 3 glasss, 6 plastics, 2 metals, 142.8ms\n",
            "Speed: 3.1ms preprocess, 142.8ms inference, 1.1ms postprocess per image at shape (1, 3, 384, 640)\n",
            "\n",
            "image 1/1 /content/video0/frames_rgb_0/0203.png: 384x640 4 woods, 4 glasss, 4 plastics, 5 metals, 140.7ms\n",
            "Speed: 2.3ms preprocess, 140.7ms inference, 1.1ms postprocess per image at shape (1, 3, 384, 640)\n",
            "\n"
          ]
        },
        {
          "output_type": "stream",
          "name": "stdout",
          "text": [
            "41 40 67 18\n",
            "41 40 68 19\n"
          ]
        },
        {
          "output_type": "stream",
          "name": "stderr",
          "text": [
            "image 1/1 /content/video0/frames_rgb_0/0297.png: 384x640 3 woods, 7 glasss, 8 plastics, 3 metals, 144.5ms\n",
            "Speed: 2.1ms preprocess, 144.5ms inference, 1.1ms postprocess per image at shape (1, 3, 384, 640)\n",
            "\n",
            "image 1/1 /content/video0/frames_rgb_0/0291.png: 384x640 4 woods, 5 glasss, 6 plastics, 4 metals, 143.1ms\n",
            "Speed: 1.9ms preprocess, 143.1ms inference, 1.0ms postprocess per image at shape (1, 3, 384, 640)\n",
            "\n"
          ]
        },
        {
          "output_type": "stream",
          "name": "stdout",
          "text": [
            "41 40 68 19\n",
            "41 40 68 19\n"
          ]
        },
        {
          "output_type": "stream",
          "name": "stderr",
          "text": [
            "image 1/1 /content/video0/frames_rgb_0/0175.png: 384x640 8 woods, 3 glasss, 9 plastics, 1 metal, 135.0ms\n",
            "Speed: 1.7ms preprocess, 135.0ms inference, 1.0ms postprocess per image at shape (1, 3, 384, 640)\n",
            "\n",
            "image 1/1 /content/video0/frames_rgb_0/0243.png: 384x640 1 wood, 5 glasss, 1 plastic, 1 metal, 142.9ms\n",
            "Speed: 1.7ms preprocess, 142.9ms inference, 1.0ms postprocess per image at shape (1, 3, 384, 640)\n",
            "\n"
          ]
        },
        {
          "output_type": "stream",
          "name": "stdout",
          "text": [
            "42 41 68 19\n",
            "42 41 68 19\n"
          ]
        },
        {
          "output_type": "stream",
          "name": "stderr",
          "text": [
            "image 1/1 /content/video0/frames_rgb_0/0214.png: 384x640 4 woods, 2 glasss, 5 plastics, 4 metals, 131.9ms\n",
            "Speed: 1.9ms preprocess, 131.9ms inference, 1.1ms postprocess per image at shape (1, 3, 384, 640)\n",
            "\n",
            "image 1/1 /content/video0/frames_rgb_0/0006.png: 384x640 8 woods, 4 glasss, 10 plastics, 2 metals, 136.2ms\n",
            "Speed: 1.6ms preprocess, 136.2ms inference, 1.0ms postprocess per image at shape (1, 3, 384, 640)\n",
            "\n"
          ]
        },
        {
          "output_type": "stream",
          "name": "stdout",
          "text": [
            "44 41 70 20\n",
            "44 41 71 20\n"
          ]
        },
        {
          "output_type": "stream",
          "name": "stderr",
          "text": [
            "image 1/1 /content/video0/frames_rgb_0/0099.png: 384x640 4 woods, 7 glasss, 5 plastics, 1 metal, 134.9ms\n",
            "Speed: 1.6ms preprocess, 134.9ms inference, 1.0ms postprocess per image at shape (1, 3, 384, 640)\n",
            "\n",
            "image 1/1 /content/video0/frames_rgb_0/0011.png: 384x640 10 woods, 5 glasss, 12 plastics, 4 metals, 136.2ms\n",
            "Speed: 2.5ms preprocess, 136.2ms inference, 1.2ms postprocess per image at shape (1, 3, 384, 640)\n",
            "\n"
          ]
        },
        {
          "output_type": "stream",
          "name": "stdout",
          "text": [
            "46 42 71 20\n",
            "46 42 72 20\n"
          ]
        },
        {
          "output_type": "stream",
          "name": "stderr",
          "text": [
            "image 1/1 /content/video0/frames_rgb_0/0016.png: 384x640 9 woods, 6 glasss, 10 plastics, 2 metals, 147.5ms\n",
            "Speed: 2.0ms preprocess, 147.5ms inference, 1.1ms postprocess per image at shape (1, 3, 384, 640)\n",
            "\n",
            "image 1/1 /content/video0/frames_rgb_0/0146.png: 384x640 6 woods, 6 glasss, 5 metals, 149.5ms\n",
            "Speed: 2.4ms preprocess, 149.5ms inference, 1.1ms postprocess per image at shape (1, 3, 384, 640)\n",
            "\n"
          ]
        },
        {
          "output_type": "stream",
          "name": "stdout",
          "text": [
            "46 43 72 20\n",
            "47 43 74 20\n"
          ]
        },
        {
          "output_type": "stream",
          "name": "stderr",
          "text": [
            "image 1/1 /content/video0/frames_rgb_0/0310.png: 384x640 2 woods, 7 glasss, 2 plastics, 5 metals, 145.2ms\n",
            "Speed: 2.4ms preprocess, 145.2ms inference, 1.1ms postprocess per image at shape (1, 3, 384, 640)\n",
            "\n",
            "image 1/1 /content/video0/frames_rgb_0/0044.png: 384x640 3 woods, 8 glasss, 3 plastics, 2 metals, 141.5ms\n",
            "Speed: 2.2ms preprocess, 141.5ms inference, 1.2ms postprocess per image at shape (1, 3, 384, 640)\n",
            "\n"
          ]
        },
        {
          "output_type": "stream",
          "name": "stdout",
          "text": [
            "47 43 74 20\n",
            "47 44 74 21\n"
          ]
        },
        {
          "output_type": "stream",
          "name": "stderr",
          "text": [
            "image 1/1 /content/video0/frames_rgb_0/0083.png: 384x640 6 woods, 3 glasss, 6 plastics, 2 metals, 152.1ms\n",
            "Speed: 2.1ms preprocess, 152.1ms inference, 1.3ms postprocess per image at shape (1, 3, 384, 640)\n",
            "\n",
            "image 1/1 /content/video0/frames_rgb_0/0223.png: 384x640 5 woods, 2 glasss, 4 plastics, 5 metals, 145.0ms\n",
            "Speed: 2.2ms preprocess, 145.0ms inference, 1.2ms postprocess per image at shape (1, 3, 384, 640)\n",
            "\n"
          ]
        },
        {
          "output_type": "stream",
          "name": "stdout",
          "text": [
            "48 45 74 22\n",
            "49 45 74 22\n"
          ]
        },
        {
          "output_type": "stream",
          "name": "stderr",
          "text": [
            "image 1/1 /content/video0/frames_rgb_0/0176.png: 384x640 9 woods, 3 glasss, 8 plastics, 1 metal, 161.1ms\n",
            "Speed: 2.5ms preprocess, 161.1ms inference, 1.2ms postprocess per image at shape (1, 3, 384, 640)\n",
            "\n",
            "image 1/1 /content/video0/frames_rgb_0/0018.png: 384x640 10 woods, 7 glasss, 9 plastics, 2 metals, 152.4ms\n",
            "Speed: 2.3ms preprocess, 152.4ms inference, 1.2ms postprocess per image at shape (1, 3, 384, 640)\n",
            "\n"
          ]
        },
        {
          "output_type": "stream",
          "name": "stdout",
          "text": [
            "49 45 75 22\n",
            "52 45 77 22\n"
          ]
        },
        {
          "output_type": "stream",
          "name": "stderr",
          "text": [
            "image 1/1 /content/video0/frames_rgb_0/0236.png: 384x640 4 woods, 5 glasss, 1 plastic, 3 metals, 140.8ms\n",
            "Speed: 2.0ms preprocess, 140.8ms inference, 1.2ms postprocess per image at shape (1, 3, 384, 640)\n",
            "\n",
            "image 1/1 /content/video0/frames_rgb_0/0184.png: 384x640 10 woods, 2 glasss, 10 plastics, 2 metals, 144.5ms\n",
            "Speed: 2.2ms preprocess, 144.5ms inference, 1.2ms postprocess per image at shape (1, 3, 384, 640)\n",
            "\n"
          ]
        },
        {
          "output_type": "stream",
          "name": "stdout",
          "text": [
            "52 45 78 23\n",
            "52 47 78 23\n"
          ]
        },
        {
          "output_type": "stream",
          "name": "stderr",
          "text": [
            "image 1/1 /content/video0/frames_rgb_0/0307.png: 384x640 1 wood, 7 glasss, 3 plastics, 5 metals, 146.2ms\n",
            "Speed: 2.2ms preprocess, 146.2ms inference, 1.1ms postprocess per image at shape (1, 3, 384, 640)\n",
            "\n",
            "image 1/1 /content/video0/frames_rgb_0/0200.png: 384x640 5 woods, 4 glasss, 4 plastics, 5 metals, 145.5ms\n",
            "Speed: 2.4ms preprocess, 145.5ms inference, 1.1ms postprocess per image at shape (1, 3, 384, 640)\n",
            "\n"
          ]
        },
        {
          "output_type": "stream",
          "name": "stdout",
          "text": [
            "53 47 79 23\n",
            "53 48 80 24\n"
          ]
        },
        {
          "output_type": "stream",
          "name": "stderr",
          "text": [
            "image 1/1 /content/video0/frames_rgb_0/0077.png: 384x640 4 woods, 4 glasss, 7 plastics, 2 metals, 147.8ms\n",
            "Speed: 2.4ms preprocess, 147.8ms inference, 1.1ms postprocess per image at shape (1, 3, 384, 640)\n",
            "\n",
            "image 1/1 /content/video0/frames_rgb_0/0283.png: 384x640 6 woods, 4 glasss, 6 plastics, 7 metals, 149.9ms\n",
            "Speed: 1.9ms preprocess, 149.9ms inference, 1.1ms postprocess per image at shape (1, 3, 384, 640)\n",
            "\n"
          ]
        },
        {
          "output_type": "stream",
          "name": "stdout",
          "text": [
            "54 48 80 24\n",
            "54 48 80 24\n"
          ]
        },
        {
          "output_type": "stream",
          "name": "stderr",
          "text": [
            "image 1/1 /content/video0/frames_rgb_0/0292.png: 384x640 5 woods, 4 glasss, 7 plastics, 4 metals, 146.5ms\n",
            "Speed: 2.0ms preprocess, 146.5ms inference, 1.1ms postprocess per image at shape (1, 3, 384, 640)\n",
            "\n",
            "image 1/1 /content/video0/frames_rgb_0/0261.png: 384x640 3 woods, 4 glasss, 9 plastics, 145.2ms\n",
            "Speed: 2.1ms preprocess, 145.2ms inference, 1.1ms postprocess per image at shape (1, 3, 384, 640)\n",
            "\n"
          ]
        },
        {
          "output_type": "stream",
          "name": "stdout",
          "text": [
            "54 48 81 24\n",
            "55 49 81 24\n"
          ]
        },
        {
          "output_type": "stream",
          "name": "stderr",
          "text": [
            "image 1/1 /content/video0/frames_rgb_0/0154.png: 384x640 4 woods, 7 glasss, 1 plastic, 4 metals, 141.5ms\n",
            "Speed: 2.1ms preprocess, 141.5ms inference, 1.1ms postprocess per image at shape (1, 3, 384, 640)\n",
            "\n",
            "image 1/1 /content/video0/frames_rgb_0/0224.png: 384x640 5 woods, 2 glasss, 3 plastics, 5 metals, 141.8ms\n",
            "Speed: 2.2ms preprocess, 141.8ms inference, 1.1ms postprocess per image at shape (1, 3, 384, 640)\n",
            "\n"
          ]
        },
        {
          "output_type": "stream",
          "name": "stdout",
          "text": [
            "55 50 82 24\n",
            "56 50 82 24\n"
          ]
        },
        {
          "output_type": "stream",
          "name": "stderr",
          "text": [
            "image 1/1 /content/video0/frames_rgb_0/0237.png: 384x640 4 woods, 5 glasss, 1 plastic, 3 metals, 149.6ms\n",
            "Speed: 2.1ms preprocess, 149.6ms inference, 1.1ms postprocess per image at shape (1, 3, 384, 640)\n",
            "\n",
            "image 1/1 /content/video0/frames_rgb_0/0173.png: 384x640 8 woods, 3 glasss, 7 plastics, 2 metals, 147.2ms\n",
            "Speed: 2.6ms preprocess, 147.2ms inference, 1.1ms postprocess per image at shape (1, 3, 384, 640)\n",
            "\n"
          ]
        },
        {
          "output_type": "stream",
          "name": "stdout",
          "text": [
            "56 50 83 24\n",
            "56 52 83 24\n"
          ]
        },
        {
          "output_type": "stream",
          "name": "stderr",
          "text": [
            "image 1/1 /content/video0/frames_rgb_0/0091.png: 384x640 5 woods, 3 glasss, 7 plastics, 2 metals, 149.6ms\n",
            "Speed: 2.2ms preprocess, 149.6ms inference, 1.6ms postprocess per image at shape (1, 3, 384, 640)\n",
            "\n",
            "image 1/1 /content/video0/frames_rgb_0/0282.png: 384x640 6 woods, 4 glasss, 8 plastics, 4 metals, 138.7ms\n",
            "Speed: 2.2ms preprocess, 138.7ms inference, 1.1ms postprocess per image at shape (1, 3, 384, 640)\n",
            "\n"
          ]
        },
        {
          "output_type": "stream",
          "name": "stdout",
          "text": [
            "56 52 85 24\n",
            "56 54 86 24\n"
          ]
        },
        {
          "output_type": "stream",
          "name": "stderr",
          "text": [
            "image 1/1 /content/video0/frames_rgb_0/0080.png: 384x640 6 woods, 3 glasss, 6 plastics, 3 metals, 145.8ms\n",
            "Speed: 2.1ms preprocess, 145.8ms inference, 1.1ms postprocess per image at shape (1, 3, 384, 640)\n",
            "\n",
            "image 1/1 /content/video0/frames_rgb_0/0194.png: 384x640 7 woods, 3 glasss, 5 plastics, 4 metals, 137.1ms\n",
            "Speed: 2.8ms preprocess, 137.1ms inference, 1.0ms postprocess per image at shape (1, 3, 384, 640)\n",
            "\n"
          ]
        },
        {
          "output_type": "stream",
          "name": "stdout",
          "text": [
            "56 54 86 25\n",
            "58 54 87 25\n"
          ]
        },
        {
          "output_type": "stream",
          "name": "stderr",
          "text": [
            "image 1/1 /content/video0/frames_rgb_0/0048.png: 384x640 3 woods, 4 glasss, 2 plastics, 2 metals, 134.9ms\n",
            "Speed: 1.6ms preprocess, 134.9ms inference, 1.0ms postprocess per image at shape (1, 3, 384, 640)\n",
            "\n",
            "image 1/1 /content/video0/frames_rgb_0/0181.png: 384x640 10 woods, 4 glasss, 8 plastics, 1 metal, 142.5ms\n",
            "Speed: 1.6ms preprocess, 142.5ms inference, 1.0ms postprocess per image at shape (1, 3, 384, 640)\n",
            "\n"
          ]
        },
        {
          "output_type": "stream",
          "name": "stdout",
          "text": [
            "58 54 88 26\n",
            "58 54 88 26\n"
          ]
        },
        {
          "output_type": "stream",
          "name": "stderr",
          "text": [
            "image 1/1 /content/video0/frames_rgb_0/0042.png: 384x640 3 woods, 5 glasss, 4 plastics, 2 metals, 208.2ms\n",
            "Speed: 2.2ms preprocess, 208.2ms inference, 1.2ms postprocess per image at shape (1, 3, 384, 640)\n",
            "\n"
          ]
        },
        {
          "output_type": "stream",
          "name": "stdout",
          "text": [
            "60 54 90 26\n"
          ]
        },
        {
          "output_type": "stream",
          "name": "stderr",
          "text": [
            "image 1/1 /content/video0/frames_rgb_0/0147.png: 384x640 6 woods, 6 glasss, 4 metals, 215.6ms\n",
            "Speed: 1.8ms preprocess, 215.6ms inference, 1.3ms postprocess per image at shape (1, 3, 384, 640)\n",
            "\n"
          ]
        },
        {
          "output_type": "stream",
          "name": "stdout",
          "text": [
            "61 54 91 26\n"
          ]
        },
        {
          "output_type": "stream",
          "name": "stderr",
          "text": [
            "image 1/1 /content/video0/frames_rgb_0/0125.png: 384x640 4 woods, 3 glasss, 3 plastics, 2 metals, 210.4ms\n",
            "Speed: 1.7ms preprocess, 210.4ms inference, 1.3ms postprocess per image at shape (1, 3, 384, 640)\n",
            "\n"
          ]
        },
        {
          "output_type": "stream",
          "name": "stdout",
          "text": [
            "61 57 91 26\n"
          ]
        },
        {
          "output_type": "stream",
          "name": "stderr",
          "text": [
            "image 1/1 /content/video0/frames_rgb_0/0305.png: 384x640 2 woods, 8 glasss, 3 plastics, 5 metals, 218.6ms\n",
            "Speed: 1.8ms preprocess, 218.6ms inference, 1.2ms postprocess per image at shape (1, 3, 384, 640)\n",
            "\n"
          ]
        },
        {
          "output_type": "stream",
          "name": "stdout",
          "text": [
            "61 57 91 26\n"
          ]
        },
        {
          "output_type": "stream",
          "name": "stderr",
          "text": [
            "image 1/1 /content/video0/frames_rgb_0/0219.png: 384x640 5 woods, 1 glass, 5 plastics, 5 metals, 206.7ms\n",
            "Speed: 1.8ms preprocess, 206.7ms inference, 1.3ms postprocess per image at shape (1, 3, 384, 640)\n",
            "\n"
          ]
        },
        {
          "output_type": "stream",
          "name": "stdout",
          "text": [
            "61 58 92 26\n"
          ]
        },
        {
          "output_type": "stream",
          "name": "stderr",
          "text": [
            "image 1/1 /content/video0/frames_rgb_0/0231.png: 384x640 5 woods, 5 glasss, 1 plastic, 5 metals, 211.8ms\n",
            "Speed: 1.8ms preprocess, 211.8ms inference, 1.3ms postprocess per image at shape (1, 3, 384, 640)\n",
            "\n"
          ]
        },
        {
          "output_type": "stream",
          "name": "stdout",
          "text": [
            "62 58 92 27\n"
          ]
        },
        {
          "output_type": "stream",
          "name": "stderr",
          "text": [
            "image 1/1 /content/video0/frames_rgb_0/0284.png: 384x640 5 woods, 3 glasss, 6 plastics, 4 metals, 204.2ms\n",
            "Speed: 1.9ms preprocess, 204.2ms inference, 1.3ms postprocess per image at shape (1, 3, 384, 640)\n",
            "\n"
          ]
        },
        {
          "output_type": "stream",
          "name": "stdout",
          "text": [
            "62 59 92 27\n"
          ]
        },
        {
          "output_type": "stream",
          "name": "stderr",
          "text": [
            "image 1/1 /content/video0/frames_rgb_0/0162.png: 384x640 2 woods, 3 glasss, 2 plastics, 2 metals, 210.1ms\n",
            "Speed: 1.9ms preprocess, 210.1ms inference, 1.4ms postprocess per image at shape (1, 3, 384, 640)\n",
            "\n"
          ]
        },
        {
          "output_type": "stream",
          "name": "stdout",
          "text": [
            "62 60 93 27\n"
          ]
        },
        {
          "output_type": "stream",
          "name": "stderr",
          "text": [
            "image 1/1 /content/video0/frames_rgb_0/0185.png: 384x640 9 woods, 3 glasss, 10 plastics, 2 metals, 219.5ms\n",
            "Speed: 1.8ms preprocess, 219.5ms inference, 1.3ms postprocess per image at shape (1, 3, 384, 640)\n",
            "\n"
          ]
        },
        {
          "output_type": "stream",
          "name": "stdout",
          "text": [
            "62 60 93 28\n"
          ]
        },
        {
          "output_type": "stream",
          "name": "stderr",
          "text": [
            "image 1/1 /content/video0/frames_rgb_0/0314.png: 384x640 3 woods, 6 glasss, 3 plastics, 4 metals, 209.5ms\n",
            "Speed: 1.9ms preprocess, 209.5ms inference, 1.5ms postprocess per image at shape (1, 3, 384, 640)\n",
            "\n"
          ]
        },
        {
          "output_type": "stream",
          "name": "stdout",
          "text": [
            "62 60 93 28\n"
          ]
        },
        {
          "output_type": "stream",
          "name": "stderr",
          "text": [
            "image 1/1 /content/video0/frames_rgb_0/0059.png: 384x640 4 woods, 3 glasss, 2 plastics, 1 metal, 212.0ms\n",
            "Speed: 2.1ms preprocess, 212.0ms inference, 1.4ms postprocess per image at shape (1, 3, 384, 640)\n",
            "\n"
          ]
        },
        {
          "output_type": "stream",
          "name": "stdout",
          "text": [
            "62 60 93 28\n"
          ]
        },
        {
          "output_type": "stream",
          "name": "stderr",
          "text": [
            "image 1/1 /content/video0/frames_rgb_0/0020.png: 384x640 9 woods, 6 glasss, 10 plastics, 4 metals, 213.9ms\n",
            "Speed: 1.8ms preprocess, 213.9ms inference, 1.3ms postprocess per image at shape (1, 3, 384, 640)\n",
            "\n"
          ]
        },
        {
          "output_type": "stream",
          "name": "stdout",
          "text": [
            "62 60 95 28\n"
          ]
        },
        {
          "output_type": "stream",
          "name": "stderr",
          "text": [
            "image 1/1 /content/video0/frames_rgb_0/0068.png: 384x640 3 woods, 3 glasss, 8 plastics, 1 metal, 213.8ms\n",
            "Speed: 4.1ms preprocess, 213.8ms inference, 1.2ms postprocess per image at shape (1, 3, 384, 640)\n",
            "\n"
          ]
        },
        {
          "output_type": "stream",
          "name": "stdout",
          "text": [
            "62 60 95 28\n"
          ]
        },
        {
          "output_type": "stream",
          "name": "stderr",
          "text": [
            "image 1/1 /content/video0/frames_rgb_0/0040.png: 384x640 4 woods, 6 glasss, 4 plastics, 4 metals, 206.7ms\n",
            "Speed: 1.9ms preprocess, 206.7ms inference, 1.4ms postprocess per image at shape (1, 3, 384, 640)\n",
            "\n",
            "image 1/1 /content/video0/frames_rgb_0/0036.png: 384x640 5 woods, 8 glasss, 4 plastics, 4 metals, 166.6ms\n",
            "Speed: 3.3ms preprocess, 166.6ms inference, 1.0ms postprocess per image at shape (1, 3, 384, 640)\n",
            "\n"
          ]
        },
        {
          "output_type": "stream",
          "name": "stdout",
          "text": [
            "62 60 96 28\n",
            "62 60 96 28\n"
          ]
        },
        {
          "output_type": "stream",
          "name": "stderr",
          "text": [
            "image 1/1 /content/video0/frames_rgb_0/0256.png: 384x640 2 woods, 3 glasss, 8 plastics, 134.9ms\n",
            "Speed: 1.9ms preprocess, 134.9ms inference, 1.1ms postprocess per image at shape (1, 3, 384, 640)\n",
            "\n",
            "image 1/1 /content/video0/frames_rgb_0/0234.png: 384x640 4 woods, 5 glasss, 1 plastic, 3 metals, 145.6ms\n",
            "Speed: 2.3ms preprocess, 145.6ms inference, 1.1ms postprocess per image at shape (1, 3, 384, 640)\n",
            "\n"
          ]
        },
        {
          "output_type": "stream",
          "name": "stdout",
          "text": [
            "63 61 97 28\n",
            "63 61 101 28\n"
          ]
        },
        {
          "output_type": "stream",
          "name": "stderr",
          "text": [
            "image 1/1 /content/video0/frames_rgb_0/0244.png: 384x640 1 wood, 5 glasss, 4 plastics, 1 metal, 139.1ms\n",
            "Speed: 2.4ms preprocess, 139.1ms inference, 1.1ms postprocess per image at shape (1, 3, 384, 640)\n",
            "\n",
            "image 1/1 /content/video0/frames_rgb_0/0037.png: 384x640 6 woods, 6 glasss, 4 plastics, 2 metals, 148.8ms\n",
            "Speed: 2.6ms preprocess, 148.8ms inference, 1.3ms postprocess per image at shape (1, 3, 384, 640)\n",
            "\n"
          ]
        },
        {
          "output_type": "stream",
          "name": "stdout",
          "text": [
            "63 61 101 28\n",
            "63 61 101 28\n"
          ]
        },
        {
          "output_type": "stream",
          "name": "stderr",
          "text": [
            "image 1/1 /content/video0/frames_rgb_0/0322.png: 384x640 7 woods, 3 glasss, 1 plastic, 5 metals, 148.3ms\n",
            "Speed: 2.2ms preprocess, 148.3ms inference, 1.1ms postprocess per image at shape (1, 3, 384, 640)\n",
            "\n",
            "image 1/1 /content/video0/frames_rgb_0/0061.png: 384x640 3 woods, 3 glasss, 3 plastics, 1 metal, 139.4ms\n",
            "Speed: 2.1ms preprocess, 139.4ms inference, 1.1ms postprocess per image at shape (1, 3, 384, 640)\n",
            "\n"
          ]
        },
        {
          "output_type": "stream",
          "name": "stdout",
          "text": [
            "63 62 101 29\n",
            "63 62 101 29\n"
          ]
        },
        {
          "output_type": "stream",
          "name": "stderr",
          "text": [
            "image 1/1 /content/video0/frames_rgb_0/0003.png: 384x640 6 woods, 3 glasss, 10 plastics, 2 metals, 141.0ms\n",
            "Speed: 2.1ms preprocess, 141.0ms inference, 1.2ms postprocess per image at shape (1, 3, 384, 640)\n",
            "\n",
            "image 1/1 /content/video0/frames_rgb_0/0013.png: 384x640 9 woods, 6 glasss, 10 plastics, 3 metals, 139.4ms\n",
            "Speed: 2.0ms preprocess, 139.4ms inference, 1.2ms postprocess per image at shape (1, 3, 384, 640)\n",
            "\n"
          ]
        },
        {
          "output_type": "stream",
          "name": "stdout",
          "text": [
            "63 62 101 29\n",
            "64 62 103 29\n"
          ]
        },
        {
          "output_type": "stream",
          "name": "stderr",
          "text": [
            "image 1/1 /content/video0/frames_rgb_0/0328.png: 384x640 8 woods, 2 glasss, 1 plastic, 5 metals, 144.1ms\n",
            "Speed: 2.3ms preprocess, 144.1ms inference, 1.2ms postprocess per image at shape (1, 3, 384, 640)\n",
            "\n",
            "image 1/1 /content/video0/frames_rgb_0/0079.png: 384x640 6 woods, 2 glasss, 7 plastics, 2 metals, 148.1ms\n",
            "Speed: 3.1ms preprocess, 148.1ms inference, 1.1ms postprocess per image at shape (1, 3, 384, 640)\n",
            "\n"
          ]
        },
        {
          "output_type": "stream",
          "name": "stdout",
          "text": [
            "66 64 104 29\n",
            "67 64 104 29\n"
          ]
        },
        {
          "output_type": "stream",
          "name": "stderr",
          "text": [
            "image 1/1 /content/video0/frames_rgb_0/0216.png: 384x640 5 woods, 1 glass, 4 plastics, 6 metals, 146.9ms\n",
            "Speed: 2.2ms preprocess, 146.9ms inference, 1.1ms postprocess per image at shape (1, 3, 384, 640)\n",
            "\n",
            "image 1/1 /content/video0/frames_rgb_0/0251.png: 384x640 1 wood, 4 glasss, 7 plastics, 1 metal, 143.3ms\n",
            "Speed: 2.5ms preprocess, 143.3ms inference, 1.1ms postprocess per image at shape (1, 3, 384, 640)\n",
            "\n"
          ]
        },
        {
          "output_type": "stream",
          "name": "stdout",
          "text": [
            "67 64 107 29\n",
            "67 64 108 30\n"
          ]
        },
        {
          "output_type": "stream",
          "name": "stderr",
          "text": [
            "image 1/1 /content/video0/frames_rgb_0/0078.png: 384x640 5 woods, 3 glasss, 7 plastics, 2 metals, 148.0ms\n",
            "Speed: 2.0ms preprocess, 148.0ms inference, 1.2ms postprocess per image at shape (1, 3, 384, 640)\n",
            "\n",
            "image 1/1 /content/video0/frames_rgb_0/0199.png: 384x640 5 woods, 4 glasss, 7 plastics, 5 metals, 147.8ms\n",
            "Speed: 2.2ms preprocess, 147.8ms inference, 1.2ms postprocess per image at shape (1, 3, 384, 640)\n",
            "\n"
          ]
        },
        {
          "output_type": "stream",
          "name": "stdout",
          "text": [
            "68 64 108 30\n",
            "68 64 111 30\n"
          ]
        },
        {
          "output_type": "stream",
          "name": "stderr",
          "text": [
            "image 1/1 /content/video0/frames_rgb_0/0027.png: 384x640 5 woods, 6 glasss, 7 plastics, 5 metals, 152.3ms\n",
            "Speed: 2.2ms preprocess, 152.3ms inference, 1.5ms postprocess per image at shape (1, 3, 384, 640)\n",
            "\n",
            "image 1/1 /content/video0/frames_rgb_0/0012.png: 384x640 10 woods, 5 glasss, 12 plastics, 3 metals, 153.1ms\n",
            "Speed: 2.3ms preprocess, 153.1ms inference, 1.6ms postprocess per image at shape (1, 3, 384, 640)\n",
            "\n"
          ]
        },
        {
          "output_type": "stream",
          "name": "stdout",
          "text": [
            "68 64 111 31\n",
            "70 64 111 31\n"
          ]
        },
        {
          "output_type": "stream",
          "name": "stderr",
          "text": [
            "image 1/1 /content/video0/frames_rgb_0/0000.png: 384x640 3 woods, 1 glass, 9 plastics, 2 metals, 149.5ms\n",
            "Speed: 2.4ms preprocess, 149.5ms inference, 1.2ms postprocess per image at shape (1, 3, 384, 640)\n",
            "\n",
            "image 1/1 /content/video0/frames_rgb_0/0230.png: 384x640 5 woods, 5 glasss, 1 plastic, 5 metals, 144.7ms\n",
            "Speed: 2.1ms preprocess, 144.7ms inference, 1.1ms postprocess per image at shape (1, 3, 384, 640)\n",
            "\n"
          ]
        },
        {
          "output_type": "stream",
          "name": "stdout",
          "text": [
            "71 65 112 31\n",
            "71 65 113 32\n"
          ]
        },
        {
          "output_type": "stream",
          "name": "stderr",
          "text": [
            "image 1/1 /content/video0/frames_rgb_0/0260.png: 384x640 3 woods, 4 glasss, 10 plastics, 149.2ms\n",
            "Speed: 2.3ms preprocess, 149.2ms inference, 1.1ms postprocess per image at shape (1, 3, 384, 640)\n",
            "\n",
            "image 1/1 /content/video0/frames_rgb_0/0001.png: 384x640 4 woods, 3 glasss, 9 plastics, 2 metals, 142.7ms\n",
            "Speed: 2.4ms preprocess, 142.7ms inference, 1.3ms postprocess per image at shape (1, 3, 384, 640)\n",
            "\n"
          ]
        },
        {
          "output_type": "stream",
          "name": "stdout",
          "text": [
            "72 65 113 33\n",
            "72 66 114 33\n"
          ]
        },
        {
          "output_type": "stream",
          "name": "stderr",
          "text": [
            "image 1/1 /content/video0/frames_rgb_0/0221.png: 384x640 5 woods, 2 glasss, 3 plastics, 5 metals, 170.3ms\n",
            "Speed: 2.1ms preprocess, 170.3ms inference, 1.1ms postprocess per image at shape (1, 3, 384, 640)\n",
            "\n",
            "image 1/1 /content/video0/frames_rgb_0/0330.png: 384x640 8 woods, 1 glass, 2 plastics, 6 metals, 150.6ms\n",
            "Speed: 3.3ms preprocess, 150.6ms inference, 1.4ms postprocess per image at shape (1, 3, 384, 640)\n",
            "\n"
          ]
        },
        {
          "output_type": "stream",
          "name": "stdout",
          "text": [
            "72 66 115 33\n",
            "72 66 115 33\n"
          ]
        },
        {
          "output_type": "stream",
          "name": "stderr",
          "text": [
            "image 1/1 /content/video0/frames_rgb_0/0129.png: 384x640 4 woods, 2 glasss, 4 plastics, 3 metals, 146.9ms\n",
            "Speed: 2.4ms preprocess, 146.9ms inference, 1.1ms postprocess per image at shape (1, 3, 384, 640)\n",
            "\n",
            "image 1/1 /content/video0/frames_rgb_0/0126.png: 384x640 4 woods, 2 glasss, 4 plastics, 2 metals, 140.1ms\n",
            "Speed: 2.2ms preprocess, 140.1ms inference, 1.2ms postprocess per image at shape (1, 3, 384, 640)\n",
            "\n"
          ]
        },
        {
          "output_type": "stream",
          "name": "stdout",
          "text": [
            "72 66 115 34\n",
            "72 66 117 34\n"
          ]
        },
        {
          "output_type": "stream",
          "name": "stderr",
          "text": [
            "image 1/1 /content/video0/frames_rgb_0/0028.png: 384x640 4 woods, 6 glasss, 9 plastics, 5 metals, 146.2ms\n",
            "Speed: 2.1ms preprocess, 146.2ms inference, 1.1ms postprocess per image at shape (1, 3, 384, 640)\n",
            "\n",
            "image 1/1 /content/video0/frames_rgb_0/0257.png: 384x640 3 woods, 3 glasss, 8 plastics, 139.2ms\n",
            "Speed: 2.0ms preprocess, 139.2ms inference, 1.1ms postprocess per image at shape (1, 3, 384, 640)\n",
            "\n"
          ]
        },
        {
          "output_type": "stream",
          "name": "stdout",
          "text": [
            "72 67 119 34\n",
            "73 67 119 36\n"
          ]
        },
        {
          "output_type": "stream",
          "name": "stderr",
          "text": [
            "image 1/1 /content/video0/frames_rgb_0/0222.png: 384x640 5 woods, 2 glasss, 2 plastics, 5 metals, 160.7ms\n",
            "Speed: 2.1ms preprocess, 160.7ms inference, 1.1ms postprocess per image at shape (1, 3, 384, 640)\n",
            "\n",
            "image 1/1 /content/video0/frames_rgb_0/0136.png: 384x640 5 woods, 6 glasss, 3 plastics, 4 metals, 143.4ms\n",
            "Speed: 2.1ms preprocess, 143.4ms inference, 1.2ms postprocess per image at shape (1, 3, 384, 640)\n",
            "\n"
          ]
        },
        {
          "output_type": "stream",
          "name": "stdout",
          "text": [
            "73 69 122 36\n",
            "73 69 122 37\n"
          ]
        },
        {
          "output_type": "stream",
          "name": "stderr",
          "text": [
            "image 1/1 /content/video0/frames_rgb_0/0160.png: 384x640 2 woods, 5 glasss, 1 plastic, 2 metals, 143.6ms\n",
            "Speed: 2.4ms preprocess, 143.6ms inference, 1.1ms postprocess per image at shape (1, 3, 384, 640)\n",
            "\n",
            "image 1/1 /content/video0/frames_rgb_0/0130.png: 384x640 3 woods, 2 glasss, 4 plastics, 4 metals, 136.2ms\n",
            "Speed: 2.1ms preprocess, 136.2ms inference, 1.1ms postprocess per image at shape (1, 3, 384, 640)\n",
            "\n"
          ]
        },
        {
          "output_type": "stream",
          "name": "stdout",
          "text": [
            "74 69 122 37\n",
            "75 69 123 37\n"
          ]
        },
        {
          "output_type": "stream",
          "name": "stderr",
          "text": [
            "image 1/1 /content/video0/frames_rgb_0/0141.png: 384x640 4 woods, 7 glasss, 1 plastic, 3 metals, 143.2ms\n",
            "Speed: 2.0ms preprocess, 143.2ms inference, 1.0ms postprocess per image at shape (1, 3, 384, 640)\n",
            "\n",
            "image 1/1 /content/video0/frames_rgb_0/0308.png: 384x640 3 woods, 6 glasss, 3 plastics, 5 metals, 131.6ms\n",
            "Speed: 1.9ms preprocess, 131.6ms inference, 1.0ms postprocess per image at shape (1, 3, 384, 640)\n",
            "\n"
          ]
        },
        {
          "output_type": "stream",
          "name": "stdout",
          "text": [
            "75 70 124 37\n",
            "77 70 124 37\n"
          ]
        },
        {
          "output_type": "stream",
          "name": "stderr",
          "text": [
            "image 1/1 /content/video0/frames_rgb_0/0315.png: 384x640 3 woods, 5 glasss, 2 plastics, 4 metals, 143.0ms\n",
            "Speed: 1.8ms preprocess, 143.0ms inference, 1.0ms postprocess per image at shape (1, 3, 384, 640)\n",
            "\n",
            "image 1/1 /content/video0/frames_rgb_0/0247.png: 384x640 1 wood, 7 glasss, 5 plastics, 1 metal, 137.4ms\n",
            "Speed: 1.8ms preprocess, 137.4ms inference, 1.0ms postprocess per image at shape (1, 3, 384, 640)\n",
            "\n"
          ]
        },
        {
          "output_type": "stream",
          "name": "stdout",
          "text": [
            "77 70 124 37\n",
            "77 72 124 37\n"
          ]
        },
        {
          "output_type": "stream",
          "name": "stderr",
          "text": [
            "image 1/1 /content/video0/frames_rgb_0/0329.png: 384x640 8 woods, 1 glass, 2 plastics, 6 metals, 139.1ms\n",
            "Speed: 1.9ms preprocess, 139.1ms inference, 1.0ms postprocess per image at shape (1, 3, 384, 640)\n",
            "\n",
            "image 1/1 /content/video0/frames_rgb_0/0137.png: 384x640 4 woods, 7 glasss, 4 plastics, 5 metals, 125.7ms\n",
            "Speed: 1.8ms preprocess, 125.7ms inference, 1.0ms postprocess per image at shape (1, 3, 384, 640)\n",
            "\n"
          ]
        },
        {
          "output_type": "stream",
          "name": "stdout",
          "text": [
            "78 72 124 37\n",
            "78 72 124 37\n"
          ]
        },
        {
          "output_type": "stream",
          "name": "stderr",
          "text": [
            "image 1/1 /content/video0/frames_rgb_0/0121.png: 384x640 3 woods, 4 glasss, 6 plastics, 3 metals, 139.8ms\n",
            "Speed: 1.6ms preprocess, 139.8ms inference, 1.0ms postprocess per image at shape (1, 3, 384, 640)\n",
            "\n",
            "image 1/1 /content/video0/frames_rgb_0/0293.png: 384x640 4 woods, 6 glasss, 6 plastics, 3 metals, 128.7ms\n",
            "Speed: 1.6ms preprocess, 128.7ms inference, 1.0ms postprocess per image at shape (1, 3, 384, 640)\n",
            "\n"
          ]
        },
        {
          "output_type": "stream",
          "name": "stdout",
          "text": [
            "78 72 124 39\n",
            "78 72 125 39\n"
          ]
        },
        {
          "output_type": "stream",
          "name": "stderr",
          "text": [
            "image 1/1 /content/video0/frames_rgb_0/0089.png: 384x640 5 woods, 3 glasss, 7 plastics, 3 metals, 134.8ms\n",
            "Speed: 1.6ms preprocess, 134.8ms inference, 1.0ms postprocess per image at shape (1, 3, 384, 640)\n",
            "\n",
            "image 1/1 /content/video0/frames_rgb_0/0092.png: 384x640 5 woods, 4 glasss, 6 plastics, 2 metals, 138.9ms\n",
            "Speed: 2.1ms preprocess, 138.9ms inference, 1.0ms postprocess per image at shape (1, 3, 384, 640)\n",
            "\n"
          ]
        },
        {
          "output_type": "stream",
          "name": "stdout",
          "text": [
            "79 72 125 39\n",
            "79 72 125 39\n"
          ]
        },
        {
          "output_type": "stream",
          "name": "stderr",
          "text": [
            "image 1/1 /content/video0/frames_rgb_0/0008.png: 384x640 7 woods, 5 glasss, 11 plastics, 3 metals, 146.7ms\n",
            "Speed: 1.7ms preprocess, 146.7ms inference, 1.0ms postprocess per image at shape (1, 3, 384, 640)\n",
            "\n",
            "image 1/1 /content/video0/frames_rgb_0/0225.png: 384x640 5 woods, 3 glasss, 3 plastics, 5 metals, 140.6ms\n",
            "Speed: 2.0ms preprocess, 140.6ms inference, 1.0ms postprocess per image at shape (1, 3, 384, 640)\n",
            "\n"
          ]
        },
        {
          "output_type": "stream",
          "name": "stdout",
          "text": [
            "81 72 125 39\n",
            "82 73 128 39\n"
          ]
        },
        {
          "output_type": "stream",
          "name": "stderr",
          "text": [
            "image 1/1 /content/video0/frames_rgb_0/0190.png: 384x640 11 woods, 3 glasss, 6 plastics, 3 metals, 146.1ms\n",
            "Speed: 1.8ms preprocess, 146.1ms inference, 1.2ms postprocess per image at shape (1, 3, 384, 640)\n",
            "\n",
            "image 1/1 /content/video0/frames_rgb_0/0313.png: 384x640 3 woods, 6 glasss, 3 plastics, 5 metals, 151.0ms\n",
            "Speed: 2.2ms preprocess, 151.0ms inference, 1.2ms postprocess per image at shape (1, 3, 384, 640)\n",
            "\n"
          ]
        },
        {
          "output_type": "stream",
          "name": "stdout",
          "text": [
            "82 73 129 40\n",
            "82 73 130 40\n"
          ]
        },
        {
          "output_type": "stream",
          "name": "stderr",
          "text": [
            "image 1/1 /content/video0/frames_rgb_0/0164.png: 384x640 3 woods, 2 glasss, 3 plastics, 4 metals, 154.5ms\n",
            "Speed: 2.1ms preprocess, 154.5ms inference, 1.1ms postprocess per image at shape (1, 3, 384, 640)\n",
            "\n",
            "image 1/1 /content/video0/frames_rgb_0/0186.png: 384x640 10 woods, 3 glasss, 10 plastics, 2 metals, 157.4ms\n",
            "Speed: 2.4ms preprocess, 157.4ms inference, 1.1ms postprocess per image at shape (1, 3, 384, 640)\n",
            "\n"
          ]
        },
        {
          "output_type": "stream",
          "name": "stdout",
          "text": [
            "82 73 130 40\n",
            "83 73 130 40\n"
          ]
        },
        {
          "output_type": "stream",
          "name": "stderr",
          "text": [
            "image 1/1 /content/video0/frames_rgb_0/0086.png: 384x640 5 woods, 3 glasss, 5 plastics, 2 metals, 152.5ms\n",
            "Speed: 3.5ms preprocess, 152.5ms inference, 1.1ms postprocess per image at shape (1, 3, 384, 640)\n",
            "\n",
            "image 1/1 /content/video0/frames_rgb_0/0206.png: 384x640 3 woods, 3 glasss, 4 plastics, 5 metals, 148.2ms\n",
            "Speed: 2.4ms preprocess, 148.2ms inference, 1.2ms postprocess per image at shape (1, 3, 384, 640)\n",
            "\n"
          ]
        },
        {
          "output_type": "stream",
          "name": "stdout",
          "text": [
            "84 73 131 40\n",
            "84 73 131 40\n"
          ]
        },
        {
          "output_type": "stream",
          "name": "stderr",
          "text": [
            "image 1/1 /content/video0/frames_rgb_0/0294.png: 384x640 4 woods, 5 glasss, 9 plastics, 2 metals, 137.9ms\n",
            "Speed: 2.1ms preprocess, 137.9ms inference, 1.0ms postprocess per image at shape (1, 3, 384, 640)\n",
            "\n",
            "image 1/1 /content/video0/frames_rgb_0/0026.png: 384x640 6 woods, 6 glasss, 6 plastics, 4 metals, 133.7ms\n",
            "Speed: 1.7ms preprocess, 133.7ms inference, 1.0ms postprocess per image at shape (1, 3, 384, 640)\n",
            "\n"
          ]
        },
        {
          "output_type": "stream",
          "name": "stdout",
          "text": [
            "84 73 133 41\n",
            "84 73 133 41\n"
          ]
        },
        {
          "output_type": "stream",
          "name": "stderr",
          "text": [
            "image 1/1 /content/video0/frames_rgb_0/0102.png: 384x640 3 woods, 8 glasss, 5 plastics, 2 metals, 150.1ms\n",
            "Speed: 1.6ms preprocess, 150.1ms inference, 1.4ms postprocess per image at shape (1, 3, 384, 640)\n",
            "\n",
            "image 1/1 /content/video0/frames_rgb_0/0212.png: 384x640 4 woods, 2 glasss, 2 plastics, 5 metals, 134.4ms\n",
            "Speed: 3.6ms preprocess, 134.4ms inference, 1.0ms postprocess per image at shape (1, 3, 384, 640)\n",
            "\n"
          ]
        },
        {
          "output_type": "stream",
          "name": "stdout",
          "text": [
            "85 73 133 41\n",
            "85 73 133 41\n"
          ]
        },
        {
          "output_type": "stream",
          "name": "stderr",
          "text": [
            "image 1/1 /content/video0/frames_rgb_0/0116.png: 384x640 4 woods, 5 glasss, 3 plastics, 3 metals, 143.5ms\n",
            "Speed: 2.3ms preprocess, 143.5ms inference, 0.9ms postprocess per image at shape (1, 3, 384, 640)\n",
            "\n",
            "image 1/1 /content/video0/frames_rgb_0/0334.png: 384x640 7 woods, 1 glass, 4 plastics, 8 metals, 133.6ms\n",
            "Speed: 1.8ms preprocess, 133.6ms inference, 1.0ms postprocess per image at shape (1, 3, 384, 640)\n",
            "\n"
          ]
        },
        {
          "output_type": "stream",
          "name": "stdout",
          "text": [
            "85 74 133 41\n",
            "85 74 133 41\n"
          ]
        },
        {
          "output_type": "stream",
          "name": "stderr",
          "text": [
            "image 1/1 /content/video0/frames_rgb_0/0101.png: 384x640 4 woods, 7 glasss, 4 plastics, 2 metals, 149.0ms\n",
            "Speed: 1.5ms preprocess, 149.0ms inference, 1.1ms postprocess per image at shape (1, 3, 384, 640)\n",
            "\n",
            "image 1/1 /content/video0/frames_rgb_0/0238.png: 384x640 4 woods, 5 glasss, 2 plastics, 2 metals, 143.8ms\n",
            "Speed: 2.3ms preprocess, 143.8ms inference, 1.1ms postprocess per image at shape (1, 3, 384, 640)\n",
            "\n"
          ]
        },
        {
          "output_type": "stream",
          "name": "stdout",
          "text": [
            "85 74 133 41\n",
            "88 74 133 42\n"
          ]
        },
        {
          "output_type": "stream",
          "name": "stderr",
          "text": [
            "image 1/1 /content/video0/frames_rgb_0/0289.png: 384x640 4 woods, 4 glasss, 7 plastics, 2 metals, 148.0ms\n",
            "Speed: 2.3ms preprocess, 148.0ms inference, 1.1ms postprocess per image at shape (1, 3, 384, 640)\n",
            "\n",
            "image 1/1 /content/video0/frames_rgb_0/0106.png: 384x640 3 woods, 6 glasss, 3 plastics, 1 metal, 177.9ms\n"
          ]
        },
        {
          "output_type": "stream",
          "name": "stdout",
          "text": [
            "88 74 133 42\n"
          ]
        },
        {
          "output_type": "stream",
          "name": "stderr",
          "text": [
            "Speed: 2.4ms preprocess, 177.9ms inference, 2.1ms postprocess per image at shape (1, 3, 384, 640)\n",
            "\n"
          ]
        },
        {
          "output_type": "stream",
          "name": "stdout",
          "text": [
            "88 75 133 42\n"
          ]
        },
        {
          "output_type": "stream",
          "name": "stderr",
          "text": [
            "image 1/1 /content/video0/frames_rgb_0/0306.png: 384x640 2 woods, 6 glasss, 3 plastics, 5 metals, 234.6ms\n",
            "Speed: 2.3ms preprocess, 234.6ms inference, 2.0ms postprocess per image at shape (1, 3, 384, 640)\n",
            "\n"
          ]
        },
        {
          "output_type": "stream",
          "name": "stdout",
          "text": [
            "89 77 133 42\n"
          ]
        },
        {
          "output_type": "stream",
          "name": "stderr",
          "text": [
            "image 1/1 /content/video0/frames_rgb_0/0317.png: 384x640 5 woods, 5 glasss, 2 plastics, 5 metals, 234.7ms\n",
            "Speed: 2.3ms preprocess, 234.7ms inference, 1.4ms postprocess per image at shape (1, 3, 384, 640)\n",
            "\n"
          ]
        },
        {
          "output_type": "stream",
          "name": "stdout",
          "text": [
            "89 77 133 42\n"
          ]
        },
        {
          "output_type": "stream",
          "name": "stderr",
          "text": [
            "image 1/1 /content/video0/frames_rgb_0/0123.png: 384x640 3 woods, 4 glasss, 3 plastics, 2 metals, 229.5ms\n",
            "Speed: 6.4ms preprocess, 229.5ms inference, 2.1ms postprocess per image at shape (1, 3, 384, 640)\n",
            "\n"
          ]
        },
        {
          "output_type": "stream",
          "name": "stdout",
          "text": [
            "89 79 133 43\n"
          ]
        },
        {
          "output_type": "stream",
          "name": "stderr",
          "text": [
            "image 1/1 /content/video0/frames_rgb_0/0309.png: 384x640 2 woods, 7 glasss, 3 plastics, 5 metals, 230.3ms\n",
            "Speed: 3.1ms preprocess, 230.3ms inference, 1.4ms postprocess per image at shape (1, 3, 384, 640)\n",
            "\n"
          ]
        },
        {
          "output_type": "stream",
          "name": "stdout",
          "text": [
            "89 79 135 43\n"
          ]
        },
        {
          "output_type": "stream",
          "name": "stderr",
          "text": [
            "image 1/1 /content/video0/frames_rgb_0/0069.png: 384x640 3 woods, 4 glasss, 6 plastics, 1 metal, 224.9ms\n",
            "Speed: 2.5ms preprocess, 224.9ms inference, 1.4ms postprocess per image at shape (1, 3, 384, 640)\n",
            "\n"
          ]
        },
        {
          "output_type": "stream",
          "name": "stdout",
          "text": [
            "89 80 135 43\n"
          ]
        },
        {
          "output_type": "stream",
          "name": "stderr",
          "text": [
            "image 1/1 /content/video0/frames_rgb_0/0113.png: 384x640 4 woods, 5 glasss, 3 plastics, 2 metals, 226.6ms\n",
            "Speed: 2.1ms preprocess, 226.6ms inference, 1.3ms postprocess per image at shape (1, 3, 384, 640)\n",
            "\n"
          ]
        },
        {
          "output_type": "stream",
          "name": "stdout",
          "text": [
            "89 80 136 43\n"
          ]
        },
        {
          "output_type": "stream",
          "name": "stderr",
          "text": [
            "image 1/1 /content/video0/frames_rgb_0/0025.png: 384x640 6 woods, 7 glasss, 6 plastics, 2 metals, 218.5ms\n",
            "Speed: 1.8ms preprocess, 218.5ms inference, 1.3ms postprocess per image at shape (1, 3, 384, 640)\n",
            "\n"
          ]
        },
        {
          "output_type": "stream",
          "name": "stdout",
          "text": [
            "89 81 136 43\n"
          ]
        },
        {
          "output_type": "stream",
          "name": "stderr",
          "text": [
            "image 1/1 /content/video0/frames_rgb_0/0183.png: 384x640 10 woods, 2 glasss, 11 plastics, 1 metal, 221.1ms\n",
            "Speed: 1.8ms preprocess, 221.1ms inference, 1.3ms postprocess per image at shape (1, 3, 384, 640)\n",
            "\n"
          ]
        },
        {
          "output_type": "stream",
          "name": "stdout",
          "text": [
            "90 81 136 43\n"
          ]
        },
        {
          "output_type": "stream",
          "name": "stderr",
          "text": [
            "image 1/1 /content/video0/frames_rgb_0/0254.png: 384x640 1 wood, 3 glasss, 8 plastics, 225.7ms\n",
            "Speed: 1.8ms preprocess, 225.7ms inference, 1.4ms postprocess per image at shape (1, 3, 384, 640)\n",
            "\n"
          ]
        },
        {
          "output_type": "stream",
          "name": "stdout",
          "text": [
            "92 81 136 43\n"
          ]
        },
        {
          "output_type": "stream",
          "name": "stderr",
          "text": [
            "image 1/1 /content/video0/frames_rgb_0/0298.png: 384x640 3 woods, 5 glasss, 7 plastics, 3 metals, 233.9ms\n",
            "Speed: 2.2ms preprocess, 233.9ms inference, 1.7ms postprocess per image at shape (1, 3, 384, 640)\n",
            "\n"
          ]
        },
        {
          "output_type": "stream",
          "name": "stdout",
          "text": [
            "92 81 136 43\n"
          ]
        },
        {
          "output_type": "stream",
          "name": "stderr",
          "text": [
            "image 1/1 /content/video0/frames_rgb_0/0132.png: 384x640 3 woods, 4 glasss, 5 plastics, 2 metals, 243.6ms\n",
            "Speed: 2.4ms preprocess, 243.6ms inference, 1.5ms postprocess per image at shape (1, 3, 384, 640)\n",
            "\n"
          ]
        },
        {
          "output_type": "stream",
          "name": "stdout",
          "text": [
            "92 81 139 43\n"
          ]
        },
        {
          "output_type": "stream",
          "name": "stderr",
          "text": [
            "image 1/1 /content/video0/frames_rgb_0/0246.png: 384x640 1 wood, 5 glasss, 6 plastics, 1 metal, 248.5ms\n",
            "Speed: 2.7ms preprocess, 248.5ms inference, 1.6ms postprocess per image at shape (1, 3, 384, 640)\n",
            "\n"
          ]
        },
        {
          "output_type": "stream",
          "name": "stdout",
          "text": [
            "92 81 140 43\n"
          ]
        },
        {
          "output_type": "stream",
          "name": "stderr",
          "text": [
            "image 1/1 /content/video0/frames_rgb_0/0114.png: 384x640 4 woods, 6 glasss, 3 plastics, 3 metals, 192.9ms\n",
            "Speed: 2.5ms preprocess, 192.9ms inference, 3.7ms postprocess per image at shape (1, 3, 384, 640)\n",
            "\n",
            "image 1/1 /content/video0/frames_rgb_0/0304.png: 384x640 2 woods, 8 glasss, 3 plastics, 5 metals, 151.5ms\n",
            "Speed: 2.4ms preprocess, 151.5ms inference, 1.2ms postprocess per image at shape (1, 3, 384, 640)\n",
            "\n"
          ]
        },
        {
          "output_type": "stream",
          "name": "stdout",
          "text": [
            "92 81 140 43\n",
            "94 81 140 43\n"
          ]
        },
        {
          "output_type": "stream",
          "name": "stderr",
          "text": [
            "image 1/1 /content/video0/frames_rgb_0/0276.png: 384x640 4 woods, 3 glasss, 9 plastics, 3 metals, 153.0ms\n",
            "Speed: 3.5ms preprocess, 153.0ms inference, 1.1ms postprocess per image at shape (1, 3, 384, 640)\n",
            "\n",
            "image 1/1 /content/video0/frames_rgb_0/0127.png: 384x640 3 woods, 2 glasss, 5 plastics, 3 metals, 143.5ms\n",
            "Speed: 2.2ms preprocess, 143.5ms inference, 1.2ms postprocess per image at shape (1, 3, 384, 640)\n",
            "\n"
          ]
        },
        {
          "output_type": "stream",
          "name": "stdout",
          "text": [
            "94 82 140 43\n",
            "94 82 141 44\n"
          ]
        },
        {
          "output_type": "stream",
          "name": "stderr",
          "text": [
            "image 1/1 /content/video0/frames_rgb_0/0182.png: 384x640 10 woods, 3 glasss, 9 plastics, 1 metal, 158.9ms\n",
            "Speed: 2.5ms preprocess, 158.9ms inference, 1.1ms postprocess per image at shape (1, 3, 384, 640)\n",
            "\n",
            "image 1/1 /content/video0/frames_rgb_0/0090.png: 384x640 4 woods, 3 glasss, 7 plastics, 2 metals, 142.3ms\n",
            "Speed: 2.5ms preprocess, 142.3ms inference, 1.1ms postprocess per image at shape (1, 3, 384, 640)\n",
            "\n"
          ]
        },
        {
          "output_type": "stream",
          "name": "stdout",
          "text": [
            "94 83 141 44\n",
            "95 83 142 44\n"
          ]
        },
        {
          "output_type": "stream",
          "name": "stderr",
          "text": [
            "image 1/1 /content/video0/frames_rgb_0/0045.png: 384x640 3 woods, 4 glasss, 3 plastics, 2 metals, 153.5ms\n",
            "Speed: 2.0ms preprocess, 153.5ms inference, 1.3ms postprocess per image at shape (1, 3, 384, 640)\n",
            "\n",
            "image 1/1 /content/video0/frames_rgb_0/0299.png: 384x640 3 woods, 6 glasss, 6 plastics, 4 metals, 139.4ms\n",
            "Speed: 2.2ms preprocess, 139.4ms inference, 1.1ms postprocess per image at shape (1, 3, 384, 640)\n",
            "\n"
          ]
        },
        {
          "output_type": "stream",
          "name": "stdout",
          "text": [
            "96 86 143 44\n",
            "98 86 143 44\n"
          ]
        },
        {
          "output_type": "stream",
          "name": "stderr",
          "text": [
            "image 1/1 /content/video0/frames_rgb_0/0191.png: 384x640 11 woods, 3 glasss, 5 plastics, 3 metals, 149.1ms\n",
            "Speed: 2.5ms preprocess, 149.1ms inference, 1.4ms postprocess per image at shape (1, 3, 384, 640)\n",
            "\n",
            "image 1/1 /content/video0/frames_rgb_0/0104.png: 384x640 3 woods, 5 glasss, 4 plastics, 2 metals, 146.2ms\n",
            "Speed: 4.2ms preprocess, 146.2ms inference, 1.1ms postprocess per image at shape (1, 3, 384, 640)\n",
            "\n"
          ]
        },
        {
          "output_type": "stream",
          "name": "stdout",
          "text": [
            "98 87 144 44\n",
            "99 87 144 44\n"
          ]
        },
        {
          "output_type": "stream",
          "name": "stderr",
          "text": [
            "image 1/1 /content/video0/frames_rgb_0/0241.png: 384x640 2 woods, 5 glasss, 1 plastic, 2 metals, 154.6ms\n",
            "Speed: 2.7ms preprocess, 154.6ms inference, 1.1ms postprocess per image at shape (1, 3, 384, 640)\n",
            "\n",
            "image 1/1 /content/video0/frames_rgb_0/0084.png: 384x640 6 woods, 3 glasss, 5 plastics, 2 metals, 142.7ms\n",
            "Speed: 2.3ms preprocess, 142.7ms inference, 1.1ms postprocess per image at shape (1, 3, 384, 640)\n",
            "\n"
          ]
        },
        {
          "output_type": "stream",
          "name": "stdout",
          "text": [
            "99 90 144 44\n",
            "99 90 144 45\n"
          ]
        },
        {
          "output_type": "stream",
          "name": "stderr",
          "text": [
            "image 1/1 /content/video0/frames_rgb_0/0050.png: 384x640 4 woods, 3 glasss, 2 plastics, 1 metal, 142.0ms\n",
            "Speed: 2.3ms preprocess, 142.0ms inference, 1.1ms postprocess per image at shape (1, 3, 384, 640)\n",
            "\n",
            "image 1/1 /content/video0/frames_rgb_0/0188.png: 384x640 9 woods, 3 glasss, 8 plastics, 2 metals, 141.4ms\n",
            "Speed: 2.9ms preprocess, 141.4ms inference, 1.2ms postprocess per image at shape (1, 3, 384, 640)\n",
            "\n"
          ]
        },
        {
          "output_type": "stream",
          "name": "stdout",
          "text": [
            "99 90 144 45\n",
            "100 90 144 45\n"
          ]
        },
        {
          "output_type": "stream",
          "name": "stderr",
          "text": [
            "image 1/1 /content/video0/frames_rgb_0/0331.png: 384x640 8 woods, 1 glass, 2 plastics, 6 metals, 148.0ms\n",
            "Speed: 2.1ms preprocess, 148.0ms inference, 1.2ms postprocess per image at shape (1, 3, 384, 640)\n",
            "\n",
            "image 1/1 /content/video0/frames_rgb_0/0094.png: 384x640 4 woods, 6 glasss, 6 plastics, 2 metals, 141.6ms\n",
            "Speed: 2.0ms preprocess, 141.6ms inference, 1.1ms postprocess per image at shape (1, 3, 384, 640)\n",
            "\n"
          ]
        },
        {
          "output_type": "stream",
          "name": "stdout",
          "text": [
            "100 90 148 45\n",
            "100 90 148 45\n"
          ]
        },
        {
          "output_type": "stream",
          "name": "stderr",
          "text": [
            "image 1/1 /content/video0/frames_rgb_0/0255.png: 384x640 1 wood, 3 glasss, 8 plastics, 156.0ms\n",
            "Speed: 2.5ms preprocess, 156.0ms inference, 1.1ms postprocess per image at shape (1, 3, 384, 640)\n",
            "\n",
            "image 1/1 /content/video0/frames_rgb_0/0321.png: 384x640 6 woods, 3 glasss, 5 metals, 141.9ms\n",
            "Speed: 2.1ms preprocess, 141.9ms inference, 1.1ms postprocess per image at shape (1, 3, 384, 640)\n",
            "\n"
          ]
        },
        {
          "output_type": "stream",
          "name": "stdout",
          "text": [
            "101 90 148 45\n",
            "101 91 152 45\n"
          ]
        },
        {
          "output_type": "stream",
          "name": "stderr",
          "text": [
            "image 1/1 /content/video0/frames_rgb_0/0285.png: 384x640 6 woods, 3 glasss, 5 plastics, 4 metals, 143.0ms\n",
            "Speed: 2.6ms preprocess, 143.0ms inference, 1.0ms postprocess per image at shape (1, 3, 384, 640)\n",
            "\n",
            "image 1/1 /content/video0/frames_rgb_0/0043.png: 384x640 3 woods, 5 glasss, 4 plastics, 2 metals, 132.7ms\n",
            "Speed: 1.8ms preprocess, 132.7ms inference, 0.9ms postprocess per image at shape (1, 3, 384, 640)\n",
            "\n"
          ]
        },
        {
          "output_type": "stream",
          "name": "stdout",
          "text": [
            "102 91 152 45\n",
            "102 93 153 45\n"
          ]
        },
        {
          "output_type": "stream",
          "name": "stderr",
          "text": [
            "image 1/1 /content/video0/frames_rgb_0/0295.png: 384x640 3 woods, 6 glasss, 6 plastics, 2 metals, 137.8ms\n",
            "Speed: 1.7ms preprocess, 137.8ms inference, 1.0ms postprocess per image at shape (1, 3, 384, 640)\n",
            "\n",
            "image 1/1 /content/video0/frames_rgb_0/0325.png: 384x640 8 woods, 2 glasss, 2 plastics, 5 metals, 139.7ms\n",
            "Speed: 1.6ms preprocess, 139.7ms inference, 1.0ms postprocess per image at shape (1, 3, 384, 640)\n",
            "\n"
          ]
        },
        {
          "output_type": "stream",
          "name": "stdout",
          "text": [
            "102 93 153 45\n",
            "102 93 154 45\n"
          ]
        },
        {
          "output_type": "stream",
          "name": "stderr",
          "text": [
            "image 1/1 /content/video0/frames_rgb_0/0189.png: 384x640 10 woods, 2 glasss, 8 plastics, 3 metals, 146.0ms\n",
            "Speed: 1.9ms preprocess, 146.0ms inference, 1.0ms postprocess per image at shape (1, 3, 384, 640)\n",
            "\n",
            "image 1/1 /content/video0/frames_rgb_0/0019.png: 384x640 9 woods, 6 glasss, 11 plastics, 4 metals, 134.5ms\n",
            "Speed: 2.6ms preprocess, 134.5ms inference, 1.4ms postprocess per image at shape (1, 3, 384, 640)\n",
            "\n"
          ]
        },
        {
          "output_type": "stream",
          "name": "stdout",
          "text": [
            "104 93 154 45\n",
            "104 93 155 45\n"
          ]
        },
        {
          "output_type": "stream",
          "name": "stderr",
          "text": [
            "image 1/1 /content/video0/frames_rgb_0/0269.png: 384x640 4 woods, 4 glasss, 7 plastics, 2 metals, 149.9ms\n",
            "Speed: 2.2ms preprocess, 149.9ms inference, 1.1ms postprocess per image at shape (1, 3, 384, 640)\n",
            "\n",
            "image 1/1 /content/video0/frames_rgb_0/0327.png: 384x640 8 woods, 2 glasss, 1 plastic, 5 metals, 151.2ms\n",
            "Speed: 2.2ms preprocess, 151.2ms inference, 1.2ms postprocess per image at shape (1, 3, 384, 640)\n",
            "\n"
          ]
        },
        {
          "output_type": "stream",
          "name": "stdout",
          "text": [
            "104 93 157 46\n",
            "104 93 158 46\n"
          ]
        },
        {
          "output_type": "stream",
          "name": "stderr",
          "text": [
            "image 1/1 /content/video0/frames_rgb_0/0115.png: 384x640 4 woods, 5 glasss, 3 plastics, 3 metals, 145.2ms\n",
            "Speed: 2.1ms preprocess, 145.2ms inference, 1.7ms postprocess per image at shape (1, 3, 384, 640)\n",
            "\n",
            "image 1/1 /content/video0/frames_rgb_0/0034.png: 384x640 5 woods, 6 glasss, 6 plastics, 3 metals, 145.5ms\n",
            "Speed: 3.3ms preprocess, 145.5ms inference, 1.2ms postprocess per image at shape (1, 3, 384, 640)\n",
            "\n"
          ]
        },
        {
          "output_type": "stream",
          "name": "stdout",
          "text": [
            "104 93 158 47\n",
            "105 93 158 47\n"
          ]
        },
        {
          "output_type": "stream",
          "name": "stderr",
          "text": [
            "image 1/1 /content/video0/frames_rgb_0/0312.png: 384x640 3 woods, 6 glasss, 2 plastics, 5 metals, 162.7ms\n",
            "Speed: 2.3ms preprocess, 162.7ms inference, 1.1ms postprocess per image at shape (1, 3, 384, 640)\n",
            "\n",
            "image 1/1 /content/video0/frames_rgb_0/0193.png: 384x640 9 woods, 3 glasss, 4 plastics, 3 metals, 140.5ms\n",
            "Speed: 2.2ms preprocess, 140.5ms inference, 1.1ms postprocess per image at shape (1, 3, 384, 640)\n",
            "\n"
          ]
        },
        {
          "output_type": "stream",
          "name": "stdout",
          "text": [
            "105 94 158 47\n",
            "106 94 158 49\n"
          ]
        },
        {
          "output_type": "stream",
          "name": "stderr",
          "text": [
            "image 1/1 /content/video0/frames_rgb_0/0201.png: 384x640 4 woods, 4 glasss, 3 plastics, 5 metals, 147.3ms\n",
            "Speed: 2.1ms preprocess, 147.3ms inference, 1.1ms postprocess per image at shape (1, 3, 384, 640)\n",
            "\n",
            "image 1/1 /content/video0/frames_rgb_0/0144.png: 384x640 6 woods, 6 glasss, 3 metals, 143.0ms\n",
            "Speed: 2.5ms preprocess, 143.0ms inference, 1.1ms postprocess per image at shape (1, 3, 384, 640)\n",
            "\n"
          ]
        },
        {
          "output_type": "stream",
          "name": "stdout",
          "text": [
            "106 95 159 49\n",
            "107 95 159 49\n"
          ]
        },
        {
          "output_type": "stream",
          "name": "stderr",
          "text": [
            "image 1/1 /content/video0/frames_rgb_0/0071.png: 384x640 5 woods, 3 glasss, 6 plastics, 1 metal, 156.9ms\n",
            "Speed: 2.1ms preprocess, 156.9ms inference, 1.2ms postprocess per image at shape (1, 3, 384, 640)\n",
            "\n",
            "image 1/1 /content/video0/frames_rgb_0/0161.png: 384x640 2 woods, 3 glasss, 2 plastics, 2 metals, 154.4ms\n",
            "Speed: 2.2ms preprocess, 154.4ms inference, 1.2ms postprocess per image at shape (1, 3, 384, 640)\n",
            "\n"
          ]
        },
        {
          "output_type": "stream",
          "name": "stdout",
          "text": [
            "107 96 159 50\n",
            "108 96 159 50\n"
          ]
        },
        {
          "output_type": "stream",
          "name": "stderr",
          "text": [
            "image 1/1 /content/video0/frames_rgb_0/0268.png: 384x640 3 woods, 4 glasss, 7 plastics, 2 metals, 139.8ms\n",
            "Speed: 2.3ms preprocess, 139.8ms inference, 1.2ms postprocess per image at shape (1, 3, 384, 640)\n",
            "\n",
            "image 1/1 /content/video0/frames_rgb_0/0142.png: 384x640 4 woods, 7 glasss, 1 plastic, 4 metals, 143.4ms\n",
            "Speed: 2.1ms preprocess, 143.4ms inference, 1.1ms postprocess per image at shape (1, 3, 384, 640)\n",
            "\n"
          ]
        },
        {
          "output_type": "stream",
          "name": "stdout",
          "text": [
            "108 96 160 51\n",
            "108 96 162 51\n"
          ]
        },
        {
          "output_type": "stream",
          "name": "stderr",
          "text": [
            "image 1/1 /content/video0/frames_rgb_0/0107.png: 384x640 4 woods, 5 glasss, 3 plastics, 2 metals, 138.5ms\n",
            "Speed: 2.1ms preprocess, 138.5ms inference, 1.0ms postprocess per image at shape (1, 3, 384, 640)\n",
            "\n",
            "image 1/1 /content/video0/frames_rgb_0/0088.png: 384x640 5 woods, 3 glasss, 8 plastics, 3 metals, 134.8ms\n",
            "Speed: 1.7ms preprocess, 134.8ms inference, 1.0ms postprocess per image at shape (1, 3, 384, 640)\n",
            "\n"
          ]
        },
        {
          "output_type": "stream",
          "name": "stdout",
          "text": [
            "110 97 162 52\n",
            "111 97 162 52\n"
          ]
        },
        {
          "output_type": "stream",
          "name": "stderr",
          "text": [
            "image 1/1 /content/video0/frames_rgb_0/0070.png: 384x640 6 woods, 3 glasss, 6 plastics, 1 metal, 141.8ms\n",
            "Speed: 2.2ms preprocess, 141.8ms inference, 1.0ms postprocess per image at shape (1, 3, 384, 640)\n",
            "\n",
            "image 1/1 /content/video0/frames_rgb_0/0151.png: 384x640 5 woods, 6 glasss, 3 plastics, 4 metals, 133.8ms\n",
            "Speed: 1.7ms preprocess, 133.8ms inference, 1.3ms postprocess per image at shape (1, 3, 384, 640)\n",
            "\n"
          ]
        },
        {
          "output_type": "stream",
          "name": "stdout",
          "text": [
            "112 98 163 53\n",
            "112 98 163 53\n"
          ]
        },
        {
          "output_type": "stream",
          "name": "stderr",
          "text": [
            "image 1/1 /content/video0/frames_rgb_0/0060.png: 384x640 4 woods, 3 glasss, 3 plastics, 1 metal, 140.6ms\n",
            "Speed: 2.0ms preprocess, 140.6ms inference, 1.0ms postprocess per image at shape (1, 3, 384, 640)\n",
            "\n",
            "image 1/1 /content/video0/frames_rgb_0/0316.png: 384x640 4 woods, 5 glasss, 2 plastics, 6 metals, 135.1ms\n",
            "Speed: 1.6ms preprocess, 135.1ms inference, 1.6ms postprocess per image at shape (1, 3, 384, 640)\n",
            "\n"
          ]
        },
        {
          "output_type": "stream",
          "name": "stdout",
          "text": [
            "112 98 163 53\n",
            "113 98 165 53\n"
          ]
        },
        {
          "output_type": "stream",
          "name": "stderr",
          "text": [
            "image 1/1 /content/video0/frames_rgb_0/0263.png: 384x640 3 woods, 4 glasss, 9 plastics, 151.2ms\n",
            "Speed: 2.2ms preprocess, 151.2ms inference, 1.1ms postprocess per image at shape (1, 3, 384, 640)\n",
            "\n",
            "image 1/1 /content/video0/frames_rgb_0/0220.png: 384x640 5 woods, 1 glass, 2 plastics, 5 metals, 140.1ms\n",
            "Speed: 2.6ms preprocess, 140.1ms inference, 1.1ms postprocess per image at shape (1, 3, 384, 640)\n",
            "\n"
          ]
        },
        {
          "output_type": "stream",
          "name": "stdout",
          "text": [
            "113 100 165 53\n",
            "113 100 167 53\n"
          ]
        },
        {
          "output_type": "stream",
          "name": "stderr",
          "text": [
            "image 1/1 /content/video0/frames_rgb_0/0055.png: 384x640 5 woods, 4 glasss, 2 plastics, 2 metals, 147.3ms\n",
            "Speed: 2.9ms preprocess, 147.3ms inference, 1.1ms postprocess per image at shape (1, 3, 384, 640)\n",
            "\n",
            "image 1/1 /content/video0/frames_rgb_0/0180.png: 384x640 11 woods, 2 glasss, 10 plastics, 1 metal, 142.4ms\n",
            "Speed: 2.1ms preprocess, 142.4ms inference, 1.2ms postprocess per image at shape (1, 3, 384, 640)\n",
            "\n"
          ]
        },
        {
          "output_type": "stream",
          "name": "stdout",
          "text": [
            "113 100 167 53\n",
            "113 100 167 53\n"
          ]
        },
        {
          "output_type": "stream",
          "name": "stderr",
          "text": [
            "image 1/1 /content/video0/frames_rgb_0/0063.png: 384x640 3 woods, 3 glasss, 3 plastics, 1 metal, 149.1ms\n",
            "Speed: 2.8ms preprocess, 149.1ms inference, 1.1ms postprocess per image at shape (1, 3, 384, 640)\n",
            "\n",
            "image 1/1 /content/video0/frames_rgb_0/0319.png: 384x640 5 woods, 4 glasss, 1 plastic, 5 metals, 142.5ms\n",
            "Speed: 2.2ms preprocess, 142.5ms inference, 1.1ms postprocess per image at shape (1, 3, 384, 640)\n",
            "\n"
          ]
        },
        {
          "output_type": "stream",
          "name": "stdout",
          "text": [
            "115 100 170 53\n",
            "116 101 171 53\n"
          ]
        },
        {
          "output_type": "stream",
          "name": "stderr",
          "text": [
            "image 1/1 /content/video0/frames_rgb_0/0157.png: 384x640 3 woods, 6 glasss, 1 plastic, 2 metals, 149.0ms\n",
            "Speed: 1.9ms preprocess, 149.0ms inference, 1.1ms postprocess per image at shape (1, 3, 384, 640)\n",
            "\n",
            "image 1/1 /content/video0/frames_rgb_0/0117.png: 384x640 4 woods, 7 glasss, 3 plastics, 3 metals, 143.8ms\n",
            "Speed: 3.1ms preprocess, 143.8ms inference, 1.1ms postprocess per image at shape (1, 3, 384, 640)\n",
            "\n"
          ]
        },
        {
          "output_type": "stream",
          "name": "stdout",
          "text": [
            "116 101 171 53\n",
            "116 101 171 54\n"
          ]
        },
        {
          "output_type": "stream",
          "name": "stderr",
          "text": [
            "image 1/1 /content/video0/frames_rgb_0/0250.png: 384x640 2 woods, 5 glasss, 6 plastics, 1 metal, 155.8ms\n",
            "Speed: 3.1ms preprocess, 155.8ms inference, 1.1ms postprocess per image at shape (1, 3, 384, 640)\n",
            "\n",
            "image 1/1 /content/video0/frames_rgb_0/0272.png: 384x640 4 woods, 2 glasss, 5 plastics, 3 metals, 162.1ms\n",
            "Speed: 2.6ms preprocess, 162.1ms inference, 1.1ms postprocess per image at shape (1, 3, 384, 640)\n",
            "\n"
          ]
        },
        {
          "output_type": "stream",
          "name": "stdout",
          "text": [
            "117 101 171 54\n",
            "118 101 171 54\n"
          ]
        },
        {
          "output_type": "stream",
          "name": "stderr",
          "text": [
            "image 1/1 /content/video0/frames_rgb_0/0169.png: 384x640 6 woods, 3 glasss, 6 plastics, 2 metals, 148.0ms\n",
            "Speed: 2.2ms preprocess, 148.0ms inference, 1.2ms postprocess per image at shape (1, 3, 384, 640)\n",
            "\n",
            "image 1/1 /content/video0/frames_rgb_0/0159.png: 384x640 2 woods, 5 glasss, 1 plastic, 2 metals, 140.0ms\n",
            "Speed: 2.0ms preprocess, 140.0ms inference, 1.0ms postprocess per image at shape (1, 3, 384, 640)\n",
            "\n"
          ]
        },
        {
          "output_type": "stream",
          "name": "stdout",
          "text": [
            "119 101 172 54\n",
            "119 102 172 54\n"
          ]
        },
        {
          "output_type": "stream",
          "name": "stderr",
          "text": [
            "image 1/1 /content/video0/frames_rgb_0/0271.png: 384x640 4 woods, 3 glasss, 4 plastics, 3 metals, 141.4ms\n",
            "Speed: 1.8ms preprocess, 141.4ms inference, 0.9ms postprocess per image at shape (1, 3, 384, 640)\n",
            "\n",
            "image 1/1 /content/video0/frames_rgb_0/0062.png: 384x640 3 woods, 3 glasss, 4 plastics, 1 metal, 135.1ms\n",
            "Speed: 1.9ms preprocess, 135.1ms inference, 1.0ms postprocess per image at shape (1, 3, 384, 640)\n",
            "\n"
          ]
        },
        {
          "output_type": "stream",
          "name": "stdout",
          "text": [
            "120 102 172 54\n",
            "120 103 173 54\n"
          ]
        },
        {
          "output_type": "stream",
          "name": "stderr",
          "text": [
            "image 1/1 /content/video0/frames_rgb_0/0009.png: 384x640 9 woods, 6 glasss, 11 plastics, 4 metals, 148.0ms\n",
            "Speed: 1.9ms preprocess, 148.0ms inference, 1.0ms postprocess per image at shape (1, 3, 384, 640)\n",
            "\n",
            "image 1/1 /content/video0/frames_rgb_0/0209.png: 384x640 4 woods, 3 glasss, 3 plastics, 6 metals, 168.8ms\n",
            "Speed: 2.0ms preprocess, 168.8ms inference, 1.3ms postprocess per image at shape (1, 3, 384, 640)\n",
            "\n"
          ]
        },
        {
          "output_type": "stream",
          "name": "stdout",
          "text": [
            "120 103 174 55\n",
            "121 103 177 55\n"
          ]
        },
        {
          "output_type": "stream",
          "name": "stderr",
          "text": [
            "image 1/1 /content/video0/frames_rgb_0/0031.png: 384x640 4 woods, 6 glasss, 6 plastics, 4 metals, 217.5ms\n",
            "Speed: 1.9ms preprocess, 217.5ms inference, 1.5ms postprocess per image at shape (1, 3, 384, 640)\n",
            "\n"
          ]
        },
        {
          "output_type": "stream",
          "name": "stdout",
          "text": [
            "121 103 177 55\n"
          ]
        },
        {
          "output_type": "stream",
          "name": "stderr",
          "text": [
            "image 1/1 /content/video0/frames_rgb_0/0120.png: 384x640 3 woods, 4 glasss, 4 plastics, 4 metals, 237.6ms\n",
            "Speed: 5.4ms preprocess, 237.6ms inference, 1.4ms postprocess per image at shape (1, 3, 384, 640)\n",
            "\n"
          ]
        },
        {
          "output_type": "stream",
          "name": "stdout",
          "text": [
            "121 104 178 55\n"
          ]
        },
        {
          "output_type": "stream",
          "name": "stderr",
          "text": [
            "image 1/1 /content/video0/frames_rgb_0/0266.png: 384x640 3 woods, 4 glasss, 10 plastics, 2 metals, 229.5ms\n",
            "Speed: 2.5ms preprocess, 229.5ms inference, 1.5ms postprocess per image at shape (1, 3, 384, 640)\n",
            "\n"
          ]
        },
        {
          "output_type": "stream",
          "name": "stdout",
          "text": [
            "121 104 179 55\n"
          ]
        },
        {
          "output_type": "stream",
          "name": "stderr",
          "text": [
            "image 1/1 /content/video0/frames_rgb_0/0275.png: 384x640 4 woods, 3 glasss, 8 plastics, 4 metals, 233.6ms\n",
            "Speed: 2.3ms preprocess, 233.6ms inference, 1.4ms postprocess per image at shape (1, 3, 384, 640)\n",
            "\n"
          ]
        },
        {
          "output_type": "stream",
          "name": "stdout",
          "text": [
            "122 104 180 55\n"
          ]
        },
        {
          "output_type": "stream",
          "name": "stderr",
          "text": [
            "image 1/1 /content/video0/frames_rgb_0/0122.png: 384x640 3 woods, 4 glasss, 4 plastics, 4 metals, 240.5ms\n",
            "Speed: 2.3ms preprocess, 240.5ms inference, 1.5ms postprocess per image at shape (1, 3, 384, 640)\n",
            "\n"
          ]
        },
        {
          "output_type": "stream",
          "name": "stdout",
          "text": [
            "123 104 180 56\n"
          ]
        },
        {
          "output_type": "stream",
          "name": "stderr",
          "text": [
            "image 1/1 /content/video0/frames_rgb_0/0302.png: 384x640 4 woods, 5 glasss, 2 plastics, 7 metals, 223.9ms\n",
            "Speed: 2.2ms preprocess, 223.9ms inference, 1.5ms postprocess per image at shape (1, 3, 384, 640)\n",
            "\n"
          ]
        },
        {
          "output_type": "stream",
          "name": "stdout",
          "text": [
            "123 104 181 56\n"
          ]
        },
        {
          "output_type": "stream",
          "name": "stderr",
          "text": [
            "image 1/1 /content/video0/frames_rgb_0/0167.png: 384x640 3 woods, 3 glasss, 6 plastics, 3 metals, 227.7ms\n",
            "Speed: 2.3ms preprocess, 227.7ms inference, 1.4ms postprocess per image at shape (1, 3, 384, 640)\n",
            "\n"
          ]
        },
        {
          "output_type": "stream",
          "name": "stdout",
          "text": [
            "123 104 181 56\n"
          ]
        },
        {
          "output_type": "stream",
          "name": "stderr",
          "text": [
            "image 1/1 /content/video0/frames_rgb_0/0014.png: 384x640 10 woods, 5 glasss, 11 plastics, 2 metals, 225.4ms\n",
            "Speed: 4.6ms preprocess, 225.4ms inference, 1.5ms postprocess per image at shape (1, 3, 384, 640)\n",
            "\n"
          ]
        },
        {
          "output_type": "stream",
          "name": "stdout",
          "text": [
            "123 105 182 56\n"
          ]
        },
        {
          "output_type": "stream",
          "name": "stderr",
          "text": [
            "image 1/1 /content/video0/frames_rgb_0/0035.png: 384x640 5 woods, 6 glasss, 6 plastics, 4 metals, 246.4ms\n",
            "Speed: 2.4ms preprocess, 246.4ms inference, 1.5ms postprocess per image at shape (1, 3, 384, 640)\n",
            "\n"
          ]
        },
        {
          "output_type": "stream",
          "name": "stdout",
          "text": [
            "123 105 182 56\n"
          ]
        },
        {
          "output_type": "stream",
          "name": "stderr",
          "text": [
            "image 1/1 /content/video0/frames_rgb_0/0318.png: 384x640 5 woods, 4 glasss, 2 plastics, 5 metals, 225.5ms\n",
            "Speed: 2.3ms preprocess, 225.5ms inference, 1.6ms postprocess per image at shape (1, 3, 384, 640)\n",
            "\n"
          ]
        },
        {
          "output_type": "stream",
          "name": "stdout",
          "text": [
            "125 106 186 56\n"
          ]
        },
        {
          "output_type": "stream",
          "name": "stderr",
          "text": [
            "image 1/1 /content/video0/frames_rgb_0/0174.png: 384x640 8 woods, 4 glasss, 9 plastics, 1 metal, 228.9ms\n",
            "Speed: 2.3ms preprocess, 228.9ms inference, 1.4ms postprocess per image at shape (1, 3, 384, 640)\n",
            "\n"
          ]
        },
        {
          "output_type": "stream",
          "name": "stdout",
          "text": [
            "125 106 186 56\n"
          ]
        },
        {
          "output_type": "stream",
          "name": "stderr",
          "text": [
            "image 1/1 /content/video0/frames_rgb_0/0168.png: 384x640 7 woods, 3 glasss, 6 plastics, 3 metals, 234.3ms\n",
            "Speed: 2.2ms preprocess, 234.3ms inference, 1.6ms postprocess per image at shape (1, 3, 384, 640)\n",
            "\n"
          ]
        },
        {
          "output_type": "stream",
          "name": "stdout",
          "text": [
            "126 106 188 57\n"
          ]
        },
        {
          "output_type": "stream",
          "name": "stderr",
          "text": [
            "image 1/1 /content/video0/frames_rgb_0/0218.png: 384x640 5 woods, 1 glass, 6 plastics, 5 metals, 232.1ms\n",
            "Speed: 2.4ms preprocess, 232.1ms inference, 1.4ms postprocess per image at shape (1, 3, 384, 640)\n",
            "\n",
            "image 1/1 /content/video0/frames_rgb_0/0290.png: 384x640 4 woods, 5 glasss, 7 plastics, 2 metals, 137.2ms\n",
            "Speed: 2.0ms preprocess, 137.2ms inference, 1.0ms postprocess per image at shape (1, 3, 384, 640)\n",
            "\n"
          ]
        },
        {
          "output_type": "stream",
          "name": "stdout",
          "text": [
            "126 107 188 57\n",
            "126 107 190 57\n"
          ]
        },
        {
          "output_type": "stream",
          "name": "stderr",
          "text": [
            "image 1/1 /content/video0/frames_rgb_0/0004.png: 384x640 6 woods, 3 glasss, 14 plastics, 2 metals, 133.4ms\n",
            "Speed: 2.1ms preprocess, 133.4ms inference, 1.0ms postprocess per image at shape (1, 3, 384, 640)\n",
            "\n",
            "image 1/1 /content/video0/frames_rgb_0/0073.png: 384x640 5 woods, 3 glasss, 6 plastics, 1 metal, 130.5ms\n",
            "Speed: 1.7ms preprocess, 130.5ms inference, 0.9ms postprocess per image at shape (1, 3, 384, 640)\n",
            "\n"
          ]
        },
        {
          "output_type": "stream",
          "name": "stdout",
          "text": [
            "127 107 190 58\n",
            "127 107 190 58\n"
          ]
        },
        {
          "output_type": "stream",
          "name": "stderr",
          "text": [
            "image 1/1 /content/video0/frames_rgb_0/0178.png: 384x640 9 woods, 3 glasss, 8 plastics, 1 metal, 135.5ms\n",
            "Speed: 1.5ms preprocess, 135.5ms inference, 1.0ms postprocess per image at shape (1, 3, 384, 640)\n",
            "\n",
            "image 1/1 /content/video0/frames_rgb_0/0179.png: 384x640 9 woods, 2 glasss, 9 plastics, 1 metal, 141.0ms\n",
            "Speed: 1.6ms preprocess, 141.0ms inference, 1.0ms postprocess per image at shape (1, 3, 384, 640)\n",
            "\n"
          ]
        },
        {
          "output_type": "stream",
          "name": "stdout",
          "text": [
            "129 107 190 58\n",
            "130 107 192 58\n"
          ]
        },
        {
          "output_type": "stream",
          "name": "stderr",
          "text": [
            "image 1/1 /content/video0/frames_rgb_0/0192.png: 384x640 8 woods, 4 glasss, 5 plastics, 3 metals, 139.6ms\n",
            "Speed: 1.8ms preprocess, 139.6ms inference, 1.2ms postprocess per image at shape (1, 3, 384, 640)\n",
            "\n",
            "image 1/1 /content/video0/frames_rgb_0/0005.png: 384x640 8 woods, 5 glasss, 11 plastics, 2 metals, 139.8ms\n",
            "Speed: 2.5ms preprocess, 139.8ms inference, 1.2ms postprocess per image at shape (1, 3, 384, 640)\n",
            "\n"
          ]
        },
        {
          "output_type": "stream",
          "name": "stdout",
          "text": [
            "134 107 195 58\n",
            "134 108 195 58\n"
          ]
        },
        {
          "output_type": "stream",
          "name": "stderr",
          "text": [
            "image 1/1 /content/video0/frames_rgb_0/0109.png: 384x640 5 woods, 5 glasss, 4 plastics, 3 metals, 149.7ms\n",
            "Speed: 2.4ms preprocess, 149.7ms inference, 1.1ms postprocess per image at shape (1, 3, 384, 640)\n",
            "\n",
            "image 1/1 /content/video0/frames_rgb_0/0041.png: 384x640 4 woods, 5 glasss, 4 plastics, 2 metals, 141.1ms\n",
            "Speed: 3.0ms preprocess, 141.1ms inference, 2.0ms postprocess per image at shape (1, 3, 384, 640)\n",
            "\n"
          ]
        },
        {
          "output_type": "stream",
          "name": "stdout",
          "text": [
            "136 108 195 58\n",
            "136 109 196 58\n"
          ]
        },
        {
          "output_type": "stream",
          "name": "stderr",
          "text": [
            "image 1/1 /content/video0/frames_rgb_0/0242.png: 384x640 2 woods, 6 glasss, 1 plastic, 2 metals, 139.6ms\n",
            "Speed: 2.4ms preprocess, 139.6ms inference, 1.1ms postprocess per image at shape (1, 3, 384, 640)\n",
            "\n",
            "image 1/1 /content/video0/frames_rgb_0/0301.png: 384x640 3 woods, 6 glasss, 3 plastics, 5 metals, 154.6ms\n",
            "Speed: 2.3ms preprocess, 154.6ms inference, 1.1ms postprocess per image at shape (1, 3, 384, 640)\n",
            "\n"
          ]
        },
        {
          "output_type": "stream",
          "name": "stdout",
          "text": [
            "136 109 196 58\n",
            "137 109 197 58\n"
          ]
        },
        {
          "output_type": "stream",
          "name": "stderr",
          "text": [
            "image 1/1 /content/video0/frames_rgb_0/0245.png: 384x640 2 woods, 5 glasss, 4 plastics, 1 metal, 138.2ms\n",
            "Speed: 6.6ms preprocess, 138.2ms inference, 1.0ms postprocess per image at shape (1, 3, 384, 640)\n",
            "\n",
            "image 1/1 /content/video0/frames_rgb_0/0215.png: 384x640 5 woods, 1 glass, 6 plastics, 6 metals, 130.4ms\n",
            "Speed: 1.7ms preprocess, 130.4ms inference, 1.0ms postprocess per image at shape (1, 3, 384, 640)\n",
            "\n"
          ]
        },
        {
          "output_type": "stream",
          "name": "stdout",
          "text": [
            "137 109 197 58\n",
            "137 110 198 59\n"
          ]
        },
        {
          "output_type": "stream",
          "name": "stderr",
          "text": [
            "image 1/1 /content/video0/frames_rgb_0/0046.png: 384x640 4 woods, 4 glasss, 2 plastics, 2 metals, 195.3ms\n",
            "Speed: 1.9ms preprocess, 195.3ms inference, 1.0ms postprocess per image at shape (1, 3, 384, 640)\n",
            "\n",
            "image 1/1 /content/video0/frames_rgb_0/0032.png: 384x640 4 woods, 6 glasss, 6 plastics, 3 metals, 129.1ms\n",
            "Speed: 1.9ms preprocess, 129.1ms inference, 0.9ms postprocess per image at shape (1, 3, 384, 640)\n",
            "\n"
          ]
        },
        {
          "output_type": "stream",
          "name": "stdout",
          "text": [
            "137 110 198 59\n",
            "137 110 200 59\n"
          ]
        },
        {
          "output_type": "stream",
          "name": "stderr",
          "text": [
            "image 1/1 /content/video0/frames_rgb_0/0053.png: 384x640 6 woods, 1 glass, 2 plastics, 2 metals, 139.3ms\n",
            "Speed: 1.9ms preprocess, 139.3ms inference, 1.0ms postprocess per image at shape (1, 3, 384, 640)\n",
            "\n",
            "image 1/1 /content/video0/frames_rgb_0/0211.png: 384x640 4 woods, 2 glasss, 4 plastics, 6 metals, 140.3ms\n",
            "Speed: 1.7ms preprocess, 140.3ms inference, 1.0ms postprocess per image at shape (1, 3, 384, 640)\n",
            "\n"
          ]
        },
        {
          "output_type": "stream",
          "name": "stdout",
          "text": [
            "137 110 200 59\n",
            "137 110 201 59\n"
          ]
        },
        {
          "output_type": "stream",
          "name": "stderr",
          "text": [
            "image 1/1 /content/video0/frames_rgb_0/0303.png: 384x640 3 woods, 6 glasss, 3 plastics, 5 metals, 136.0ms\n",
            "Speed: 1.8ms preprocess, 136.0ms inference, 1.1ms postprocess per image at shape (1, 3, 384, 640)\n",
            "\n",
            "image 1/1 /content/video0/frames_rgb_0/0205.png: 384x640 3 woods, 3 glasss, 4 plastics, 6 metals, 138.9ms\n",
            "Speed: 1.8ms preprocess, 138.9ms inference, 1.0ms postprocess per image at shape (1, 3, 384, 640)\n",
            "\n"
          ]
        },
        {
          "output_type": "stream",
          "name": "stdout",
          "text": [
            "137 110 201 59\n",
            "137 111 203 59\n"
          ]
        },
        {
          "output_type": "stream",
          "name": "stderr",
          "text": [
            "image 1/1 /content/video0/frames_rgb_0/0007.png: 384x640 7 woods, 5 glasss, 12 plastics, 4 metals, 139.9ms\n",
            "Speed: 2.2ms preprocess, 139.9ms inference, 1.0ms postprocess per image at shape (1, 3, 384, 640)\n",
            "\n",
            "image 1/1 /content/video0/frames_rgb_0/0163.png: 384x640 3 woods, 2 glasss, 2 plastics, 2 metals, 131.6ms\n",
            "Speed: 1.7ms preprocess, 131.6ms inference, 1.0ms postprocess per image at shape (1, 3, 384, 640)\n",
            "\n"
          ]
        },
        {
          "output_type": "stream",
          "name": "stdout",
          "text": [
            "137 111 204 60\n",
            "137 111 204 60\n"
          ]
        },
        {
          "output_type": "stream",
          "name": "stderr",
          "text": [
            "image 1/1 /content/video0/frames_rgb_0/0333.png: 384x640 7 woods, 1 glass, 3 plastics, 7 metals, 139.1ms\n",
            "Speed: 2.7ms preprocess, 139.1ms inference, 1.0ms postprocess per image at shape (1, 3, 384, 640)\n",
            "\n",
            "image 1/1 /content/video0/frames_rgb_0/0017.png: 384x640 11 woods, 7 glasss, 8 plastics, 2 metals, 142.2ms\n",
            "Speed: 1.7ms preprocess, 142.2ms inference, 1.0ms postprocess per image at shape (1, 3, 384, 640)\n",
            "\n"
          ]
        },
        {
          "output_type": "stream",
          "name": "stdout",
          "text": [
            "139 112 207 60\n",
            "141 112 207 61\n"
          ]
        },
        {
          "output_type": "stream",
          "name": "stderr",
          "text": [
            "image 1/1 /content/video0/frames_rgb_0/0311.png: 384x640 3 woods, 6 glasss, 4 plastics, 5 metals, 132.7ms\n",
            "Speed: 2.4ms preprocess, 132.7ms inference, 1.0ms postprocess per image at shape (1, 3, 384, 640)\n",
            "\n",
            "image 1/1 /content/video0/frames_rgb_0/0082.png: 384x640 6 woods, 3 glasss, 5 plastics, 2 metals, 136.9ms\n",
            "Speed: 1.6ms preprocess, 136.9ms inference, 1.0ms postprocess per image at shape (1, 3, 384, 640)\n",
            "\n"
          ]
        },
        {
          "output_type": "stream",
          "name": "stdout",
          "text": [
            "141 112 209 62\n",
            "141 113 209 62\n"
          ]
        },
        {
          "output_type": "stream",
          "name": "stderr",
          "text": [
            "image 1/1 /content/video0/frames_rgb_0/0166.png: 384x640 3 woods, 5 glasss, 7 plastics, 3 metals, 138.1ms\n",
            "Speed: 2.8ms preprocess, 138.1ms inference, 1.0ms postprocess per image at shape (1, 3, 384, 640)\n"
          ]
        },
        {
          "output_type": "stream",
          "name": "stdout",
          "text": [
            "142 117 215 63\n"
          ]
        }
      ],
      "source": [
        "model = ultralytics.YOLO(\"yolov8n_150epochs.pt\")\n",
        "path = \"video0/frames_rgb_0/\"\n",
        "\n",
        "g_w, g_g, g_p, g_m = 0, 0, 0, 0\n",
        "prev_w, prev_g, prev_p, prev_m = 0, 0, 0, 0\n",
        "line = 300\n",
        "\n",
        "T = len(os.listdir(path))\n",
        "for file_ind, file in enumerate(os.listdir(path)):\n",
        "  file_path = path + file\n",
        "  result = model(file_path)\n",
        "\n",
        "  for r in result:\n",
        "          local_wood = 0\n",
        "          local_glass = 0\n",
        "          local_plastic = 0\n",
        "          local_metal = 0\n",
        "          boxes = r.boxes\n",
        "          if len(boxes) == 0:\n",
        "              print(\"Ничего не распознало\")\n",
        "          else:\n",
        "            for box in boxes:\n",
        "              x_0 = int(box.xyxy[0][0])\n",
        "              y_0 = int(box.xyxy[0][1])\n",
        "              x_1 = int(box.xyxy[0][2])\n",
        "              y_1 = int(box.xyxy[0][3])\n",
        "              name = model.names[int(box.cls)]\n",
        "              if file_ind == 0:\n",
        "\n",
        "                if x_0 > line:\n",
        "                  if (name == \"wood\"):\n",
        "                    g_w += 1\n",
        "                  elif name == \"plastic\":\n",
        "                    g_p += 1\n",
        "                  elif name == \"metal\":\n",
        "                    g_m += 1\n",
        "                  elif name == \"glass\":\n",
        "                    g_g += 1\n",
        "                elif (x_0 < line) and (x_1 > line):\n",
        "                  if (name == \"wood\"):\n",
        "                    prev_w += 1\n",
        "                  elif name == \"plastic\":\n",
        "                    prev_p += 1\n",
        "                  elif name == \"metal\":\n",
        "                    prev_m += 1\n",
        "                  elif name == \"glass\":\n",
        "                    prev_g += 1\n",
        "              elif file_ind == T-1:\n",
        "                   if (x_1 < line):\n",
        "                    if (name == \"wood\"):\n",
        "                      g_w += 1\n",
        "                    elif name == \"plastic\":\n",
        "                      g_p += 1\n",
        "                    elif name == \"metal\":\n",
        "                      g_m += 1\n",
        "                    elif name == \"glass\":\n",
        "                      g_g += 1\n",
        "              else:\n",
        "                if (x_0 < line) and (x_1 > line):\n",
        "                  if (name == \"wood\"):\n",
        "                    local_wood += 1\n",
        "                  elif name == \"plastic\":\n",
        "                    local_plastic += 1\n",
        "                  elif name == \"metal\":\n",
        "                    local_metal += 1\n",
        "                  elif name == \"glass\":\n",
        "                    local_glass += 1\n",
        "                  if local_wood < prev_w:\n",
        "                    g_w += prev_w - local_wood\n",
        "                  if local_plastic < prev_p:\n",
        "                    g_p += prev_p - local_plastic\n",
        "                  if local_metal < prev_m:\n",
        "                    g_m += prev_m - local_metal\n",
        "                  if local_glass < prev_g:\n",
        "                    g_g += prev_g - local_glass\n",
        "                  prev_w, prev_p, prev_m, prev_g = local_wood, local_plastic, local_metal, local_glass\n",
        "\n",
        "          print(g_w, g_g, g_p, g_m)"
      ]
    },
    {
      "cell_type": "code",
      "source": [
        "wood = (139 + 124 + 121 + 127 + 122 + 134)/6\n",
        "glass = (119 + 131 + 128 + 126 + 126 + 125)/6\n",
        "plastic = (182 + 186 + 174 + 195 + 185 + 191)/6\n",
        "metal = (62 + 67 + 60 + 59 + 67 + 51)/6\n",
        "\n",
        "# wood, glass, plastic, metal = g_w, g_g, g_p, g_m\n",
        "\n",
        "# k_wood = wood/67\n",
        "# k_glass = glass/59\n",
        "# k_plastic = plastic/57\n",
        "# k_metal = metal/61\n",
        "\n",
        "k_wood, k_glass, k_plastic, k_metal = 1.908, 2.133, 3.254, 1\n",
        "\n",
        "RMSD_w = math.sqrt((67 - wood/k_wood)**2/T)\n",
        "RMSD_g = math.sqrt((59 - glass/k_glass)**2/T)\n",
        "RMSD_p = math.sqrt((57 - plastic/k_plastic)**2/T)\n",
        "RMSD_m = math.sqrt((61 - metal/k_metal)**2/T)\n",
        "print(RMSD_w, RMSD_g, RMSD_p, RMSD_m)\n",
        "RMSD = (RMSD_w + RMSD_g + RMSD_p + RMSD_m)/4\n",
        "print(RMSD)\n",
        "print(k_wood, k_glass, k_plastic, k_metal)\n",
        "print(\"Дерево -\",wood)\n",
        "      , glass, plastic, metal)"
      ],
      "metadata": {
        "colab": {
          "base_uri": "https://localhost:8080/"
        },
        "id": "P9rCBm55ocI0",
        "outputId": "d1bfc75d-60ee-467f-fbc2-ed0bf9d3650d"
      },
      "execution_count": 25,
      "outputs": [
        {
          "output_type": "stream",
          "name": "stdout",
          "text": [
            "7.636035844951529e-05 0.00035006552512954894 0.00036938795401299484 0.0\n",
            "0.00019895345939801478\n",
            "1.908 2.133 3.254 1\n",
            "127.83333333333333 125.83333333333333 185.5 61.0\n"
          ]
        }
      ]
    },
    {
      "cell_type": "code",
      "source": [
        "!yolo predict model=yolov8n_150epochs.pt source='video0/frames_rgb_0/0000.png'"
      ],
      "metadata": {
        "colab": {
          "base_uri": "https://localhost:8080/"
        },
        "id": "-OwvqkSC2Nsx",
        "outputId": "ea8d5767-2cb6-483d-9cb2-dce7db79ad98"
      },
      "execution_count": 24,
      "outputs": [
        {
          "output_type": "stream",
          "name": "stdout",
          "text": [
            "Ultralytics YOLOv8.0.202 🚀 Python-3.10.12 torch-2.1.0+cu118 CPU (Intel Xeon 2.20GHz)\n",
            "Model summary (fused): 168 layers, 3006428 parameters, 0 gradients, 8.1 GFLOPs\n",
            "\n",
            "image 1/1 /content/video0/frames_rgb_0/0000.png: 384x640 3 woods, 1 glass, 9 plastics, 2 metals, 218.3ms\n",
            "Speed: 7.0ms preprocess, 218.3ms inference, 1.9ms postprocess per image at shape (1, 3, 384, 640)\n",
            "Results saved to \u001b[1mruns/detect/predict\u001b[0m\n",
            "💡 Learn more at https://docs.ultralytics.com/modes/predict\n"
          ]
        }
      ]
    }
  ],
  "metadata": {
    "accelerator": "GPU",
    "colab": {
      "provenance": [],
      "authorship_tag": "ABX9TyP4oZQo7mDIGcz7JeEgxfCm",
      "include_colab_link": true
    },
    "kernelspec": {
      "display_name": "Python 3",
      "name": "python3"
    },
    "language_info": {
      "name": "python"
    }
  },
  "nbformat": 4,
  "nbformat_minor": 0
}