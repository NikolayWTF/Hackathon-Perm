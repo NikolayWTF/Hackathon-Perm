{
  "cells": [
    {
      "cell_type": "markdown",
      "metadata": {
        "id": "view-in-github",
        "colab_type": "text"
      },
      "source": [
        "<a href=\"https://colab.research.google.com/github/NikolayWTF/Hackathon-Perm/blob/main/%D0%A5%D0%B0%D0%BA%D0%B0%D1%82%D0%BE%D0%BD_%D0%9F%D0%B5%D1%80%D0%BC%D1%8C.ipynb\" target=\"_parent\"><img src=\"https://colab.research.google.com/assets/colab-badge.svg\" alt=\"Open In Colab\"/></a>"
      ]
    },
    {
      "cell_type": "code",
      "source": [
        "!gdown 1AIIIKnNWGWTxIRdEw1OzWNeIs7h6QOdV # yolov8s_180epochs.pt\n",
        "!gdown 1X9ZySLYXzoidGfGc5XThHu8X1xaz4t7P # yolov8n_150epochs.pt\n",
        "!gdown 1uvsxiiGY8xHatb0HnxxnHznMgQDD2Txc # yolov8n_20epochs.pt\n",
        "!gdown 1IG8jDibA-zy5v-8s_yFnZBnEHc6_sxTD # s_5.pt\n",
        "!gdown 1JSFVsos9kUgOYesKEK-YM-qnzUIWSLig # yolov8m_2000epochs.pt\n",
        "!gdown 1SLSp9FD8VBOkLY0gGoAk0TFsLc7StvYD # видео"
      ],
      "metadata": {
        "id": "IEfalS4Ghi5s"
      },
      "execution_count": null,
      "outputs": []
    },
    {
      "cell_type": "code",
      "source": [
        "!pip install unrar\n",
        "!pip install ultralytics"
      ],
      "metadata": {
        "id": "OnWlCnq617eS"
      },
      "execution_count": null,
      "outputs": []
    },
    {
      "cell_type": "code",
      "source": [
        "#Распаковываю архив с фреймами и добавляю в папку video0\n",
        "!mkdir \"video0\"\n",
        "!unrar x -Y \"video0.rar\" \"video0\""
      ],
      "metadata": {
        "id": "0-DFGLXv2Bpg"
      },
      "execution_count": null,
      "outputs": []
    },
    {
      "cell_type": "code",
      "execution_count": 4,
      "metadata": {
        "id": "5blxhL07rPOO"
      },
      "outputs": [],
      "source": [
        "import ultralytics\n",
        "import os\n",
        "import math"
      ]
    },
    {
      "cell_type": "code",
      "execution_count": null,
      "metadata": {
        "id": "G7gtf9TkrTUl"
      },
      "outputs": [],
      "source": [
        "#Вычисляю M1\n",
        "\n",
        "def count_RMSD_sum(key):\n",
        "  return (ans_TBO[key] - local_TBO[key])**2\n",
        "\n",
        "model = ultralytics.YOLO(\"yolov8m_2000epochs.pt\")\n",
        "path = \"video0/frames_rgb_0/\"\n",
        "\n",
        "RMSD_w, RMSD_p, RMSD_g, RMSD_m = 0, 0, 0, 0\n",
        "T = len(os.listdir(path))\n",
        "\n",
        "for file in os.listdir(path):\n",
        "    file_path = path + file\n",
        "    result = model(file_path)\n",
        "\n",
        "    # Сколько на фрейме ТБО и какие они\n",
        "    file_ans = open(\"video0/frames_output/\" + file[:-3] + \"txt\", \"r\")\n",
        "    lines = file_ans.readlines()\n",
        "    ans_TBO = {\n",
        "        \"wood\": int(lines[0]),\n",
        "        \"glass\": int(lines[1]),\n",
        "        \"plastic\": int(lines[2]),\n",
        "        \"metal\": int(lines[3]),\n",
        "    }\n",
        "    file_ans.close\n",
        "\n",
        "    local_TBO = {\n",
        "        \"wood\": 0,\n",
        "        \"glass\": 0,\n",
        "        \"plastic\": 0,\n",
        "        \"metal\": 0,\n",
        "    }\n",
        "\n",
        "    for r in result: # Перебираем по 1 распознаному объекту\n",
        "        boxes = r.boxes\n",
        "        for box in boxes:\n",
        "            name = model.names[int(box.cls)]\n",
        "            local_TBO[name] += 1\n",
        "\n",
        "    RMSD_w += count_RMSD_sum(\"wood\")\n",
        "    RMSD_g += count_RMSD_sum(\"glass\")\n",
        "    RMSD_p += count_RMSD_sum(\"plastic\")\n",
        "    RMSD_m += count_RMSD_sum(\"metal\")\n",
        "\n",
        "RMSD_w = math.sqrt(RMSD_w/T)\n",
        "RMSD_m = math.sqrt(RMSD_m/T)\n",
        "RMSD_g = math.sqrt(RMSD_g/T)\n",
        "RMSD_p = math.sqrt(RMSD_p/T)\n",
        "M1 =(RMSD_w + RMSD_p + RMSD_g + RMSD_m)/4"
      ]
    },
    {
      "cell_type": "code",
      "source": [
        "M1"
      ],
      "metadata": {
        "colab": {
          "base_uri": "https://localhost:8080/"
        },
        "id": "cPmFgnkWNIrt",
        "outputId": "3909669c-611a-4a0d-ad4c-c2d1f6ef2a90"
      },
      "execution_count": 6,
      "outputs": [
        {
          "output_type": "execute_result",
          "data": {
            "text/plain": [
              "0.949910625570183"
            ]
          },
          "metadata": {},
          "execution_count": 6
        }
      ]
    },
    {
      "cell_type": "code",
      "execution_count": null,
      "metadata": {
        "id": "sxdg7ocGsEg5"
      },
      "outputs": [],
      "source": [
        "# Вычисление дублирующего коэффициента и M2\n",
        "\n",
        "model = ultralytics.YOLO(\"yolov8n_150epochs.pt\")\n",
        "path = \"video0/frames_rgb_0/\"\n",
        "\n",
        "valid = [\"wood\", \"glass\", \"plastic\", \"metal\"]\n",
        "\n",
        "global_TBO = {\n",
        "        \"wood\": 0,\n",
        "        \"glass\": 0,\n",
        "        \"plastic\": 0,\n",
        "        \"metal\": 0,\n",
        "          }\n",
        "\n",
        "prev_TBO = {\n",
        "        \"wood\": 0,\n",
        "        \"glass\": 0,\n",
        "        \"plastic\": 0,\n",
        "        \"metal\": 0,\n",
        "          }\n",
        "\n",
        "lines = [100, 200, 300, 400, 500, 600] # Уровень для линии - 100, 200, 300, 400, 500, 600\n",
        "T = len(os.listdir(path))\n",
        "for line in lines:\n",
        "    for file_ind, file in enumerate(os.listdir(path)):\n",
        "        file_path = path + file\n",
        "        result = model(file_path)\n",
        "\n",
        "        for r in result:\n",
        "            local_TBO = {\n",
        "            \"wood\": 0,\n",
        "            \"glass\": 0,\n",
        "            \"plastic\": 0,\n",
        "            \"metal\": 0,\n",
        "            }\n",
        "            boxes = r.boxes\n",
        "            for box in boxes:\n",
        "                x_0 = int(box.xyxy[0][0])\n",
        "                x_1 = int(box.xyxy[0][2])\n",
        "                name = model.names[int(box.cls)]\n",
        "                if name in valid: # Если распознали ТБО\n",
        "                    if file_ind == 0: # Если первый фрейм, то всё что после линии добавляем к ответу\n",
        "                        if x_0 > line:\n",
        "                            global_TBO[name] += 1\n",
        "                        elif (x_0 < line) and (x_1 > line):\n",
        "                            prev_TBO[name] += 1\n",
        "                    elif file_ind == T-1: # Если последний фрейм, то всё что перед или на линии добавляем к ответу\n",
        "                        if (x_0 <= line):\n",
        "                            global_TBO[name] += 1\n",
        "                    else:  # Все остальные варианты\n",
        "                      if (x_0 < line) and (x_1 > line):\n",
        "                        local_TBO[name] += 1\n",
        "                        for key in valid:\n",
        "                          global_TBO[key] += max(prev_TBO[key] - local_TBO[key], 0)\n",
        "                          prev_TBO[key] = local_TBO[key]\n",
        ""
      ]
    },
    {
      "cell_type": "code",
      "source": [
        "ans = {\n",
        "    \"wood\" : 67,\n",
        "    \"glass\" : 59,\n",
        "    \"plastic\" : 57,\n",
        "    \"metal\" : 61\n",
        "}\n",
        "\n",
        "koeff = {}\n",
        "\n",
        "for key in valid:\n",
        "  global_TBO[key]/=6\n",
        "  koeff[key] = ans[key] / global_TBO[key]\n",
        "print(global_TBO)\n"
      ],
      "metadata": {
        "colab": {
          "base_uri": "https://localhost:8080/"
        },
        "id": "ULJQwGNiVBsb",
        "outputId": "9b899b62-d6b5-40b0-b49f-9b1dd412028f"
      },
      "execution_count": 23,
      "outputs": [
        {
          "output_type": "stream",
          "name": "stdout",
          "text": [
            "{'wood': 141.83333333333334, 'glass': 125.5, 'plastic': 205.83333333333334, 'metal': 65.83333333333333}\n"
          ]
        }
      ]
    },
    {
      "cell_type": "code",
      "source": [
        "koeff # Дублирующие коэффициенты"
      ],
      "metadata": {
        "colab": {
          "base_uri": "https://localhost:8080/"
        },
        "id": "uWILL2hfWj9E",
        "outputId": "f6ff71d9-130d-493b-9f8c-2ecca23874a7"
      },
      "execution_count": 24,
      "outputs": [
        {
          "output_type": "execute_result",
          "data": {
            "text/plain": [
              "{'wood': 0.472385428907168,\n",
              " 'glass': 0.4701195219123506,\n",
              " 'plastic': 0.2769230769230769,\n",
              " 'metal': 0.9265822784810127}"
            ]
          },
          "metadata": {},
          "execution_count": 24
        }
      ]
    }
  ],
  "metadata": {
    "accelerator": "GPU",
    "colab": {
      "provenance": [],
      "authorship_tag": "ABX9TyNLwMQe369pkMUPDoTYInvs",
      "include_colab_link": true
    },
    "kernelspec": {
      "display_name": "Python 3",
      "name": "python3"
    },
    "language_info": {
      "name": "python"
    }
  },
  "nbformat": 4,
  "nbformat_minor": 0
}