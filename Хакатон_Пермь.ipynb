{
  "cells": [
    {
      "cell_type": "markdown",
      "metadata": {
        "id": "view-in-github",
        "colab_type": "text"
      },
      "source": [
        "<a href=\"https://colab.research.google.com/github/NikolayWTF/Hackathon-Perm/blob/main/%D0%A5%D0%B0%D0%BA%D0%B0%D1%82%D0%BE%D0%BD_%D0%9F%D0%B5%D1%80%D0%BC%D1%8C.ipynb\" target=\"_parent\"><img src=\"https://colab.research.google.com/assets/colab-badge.svg\" alt=\"Open In Colab\"/></a>"
      ]
    },
    {
      "cell_type": "markdown",
      "source": [
        "# Детекция и подсчёт ТБО\n",
        "## Выбор нейросети\n",
        "Модель yolov8m показала наилучший результат при тесте. М1 = 0.95.\n",
        "\n",
        "При желании вы можете протестировать другие модели. Достаточно просто раскоментировать строку с интересующей вас моделью."
      ],
      "metadata": {
        "id": "FGSpUpc9rg8a"
      }
    },
    {
      "cell_type": "code",
      "source": [
        "# !gdown 1BlUQpPX0VeOBHWtXH0uRB3HVI_BD6CsT # YOLOv8m + аугментация M1 = 1.25\n",
        "# !gdown 1X9ZySLYXzoidGfGc5XThHu8X1xaz4t7P # yolov8n_150epochs.pt M1 = 1.16\n",
        "# !gdown 1AIIIKnNWGWTxIRdEw1OzWNeIs7h6QOdV # yolov8s_180epochs.pt M1 = 1.13\n",
        "# !gdown 1QEtK_0D09Xo1Le2s16DjOM6oP8KfasgS # yolov8_large_best.pt M1 = 1\n",
        "!gdown 1JSFVsos9kUgOYesKEK-YM-qnzUIWSLig # yolov8m_100epochs.pt M1 = 0.95\n",
        "!gdown 1SLSp9FD8VBOkLY0gGoAk0TFsLc7StvYD # видео"
      ],
      "metadata": {
        "id": "IEfalS4Ghi5s"
      },
      "execution_count": null,
      "outputs": []
    },
    {
      "cell_type": "code",
      "source": [
        "!pip install unrar\n",
        "!pip install ultralytics # Устанавливаю YOLO"
      ],
      "metadata": {
        "id": "OnWlCnq617eS"
      },
      "execution_count": null,
      "outputs": []
    },
    {
      "cell_type": "code",
      "source": [
        "# Распаковываю архив с фреймами и добавляю в папку video\n",
        "!mkdir \"video\"\n",
        "!unrar x -Y \"video0.rar\" \"video\""
      ],
      "metadata": {
        "id": "0-DFGLXv2Bpg"
      },
      "execution_count": null,
      "outputs": []
    },
    {
      "cell_type": "code",
      "execution_count": 6,
      "metadata": {
        "id": "5blxhL07rPOO"
      },
      "outputs": [],
      "source": [
        "import ultralytics\n",
        "import os\n",
        "import math"
      ]
    },
    {
      "cell_type": "markdown",
      "source": [
        "# Составляем ответ для технического скорра"
      ],
      "metadata": {
        "id": "NAvl5AJl6p53"
      }
    },
    {
      "cell_type": "code",
      "source": [
        "!mkdir frames_output # Создаём папку для хранения ответов"
      ],
      "metadata": {
        "id": "kBeks86I3KCP"
      },
      "execution_count": 13,
      "outputs": []
    },
    {
      "cell_type": "code",
      "source": [
        "#Генерация ответа\n",
        "# Выбираем модель\n",
        "model = ultralytics.YOLO(\"yolov8m_100epochs.pt\")\n",
        "path = \"video/frames_rgb_0/\"\n",
        "valid = [\"wood\", \"glass\", \"plastic\", \"metal\"]\n",
        "\n",
        "for file in os.listdir(path): # Проходим по всем фреймам\n",
        "    file_path = path + file\n",
        "    result = model(file_path)  # Детекция ТБО для фрейма\n",
        "\n",
        "    local_TBO = {\n",
        "        \"wood\": 0,\n",
        "        \"glass\": 0,\n",
        "        \"plastic\": 0,\n",
        "        \"metal\": 0,\n",
        "    }\n",
        "\n",
        "    for r in result: # Перебираем по 1 распознаному объекту\n",
        "        boxes = r.boxes\n",
        "        for box in boxes:\n",
        "            name = model.names[int(box.cls)]  # Получаем название класса ТБО\n",
        "            if name in valid: # Если распознали ТБО\n",
        "                local_TBO[name] += 1 # Обновляем их количество для соответствующего класса\n",
        "    # Записываем ответ в файл\n",
        "    ans = \"\"\n",
        "    for key in valid:\n",
        "        ans += str(local_TBO[key]) + \"\\n\"\n",
        "    f = open(\"frames_output/\" + file[:-3] + \"txt\", mode='w')\n",
        "    f.write(ans[:-1])\n",
        "    f.close()\n",
        ""
      ],
      "metadata": {
        "id": "uKOLdaXaHZRh"
      },
      "execution_count": null,
      "outputs": []
    },
    {
      "cell_type": "markdown",
      "source": [
        "# Вычисление метрики М1"
      ],
      "metadata": {
        "id": "OkPQD7WW557A"
      }
    },
    {
      "cell_type": "code",
      "execution_count": null,
      "metadata": {
        "id": "G7gtf9TkrTUl"
      },
      "outputs": [],
      "source": [
        "# Вычисление метрики M1\n",
        "\n",
        "# Функция для расчёта подкоренной суммы RMSD\n",
        "def count_RMSD_sum(key):\n",
        "  return (ans_TBO[key] - local_TBO[key])**2\n",
        "\n",
        "# Укажите путь к модели\n",
        "model = ultralytics.YOLO(\"yolov8m_100epochs.pt\")\n",
        "# Укажите путь к фреймам\n",
        "path = \"video/frames_rgb_0/\"\n",
        "\n",
        "valid = [\"wood\", \"glass\", \"plastic\", \"metal\"]\n",
        "RMSD_w, RMSD_p, RMSD_g, RMSD_m = 0, 0, 0, 0\n",
        "T = len(os.listdir(path))\n",
        "\n",
        "for file in os.listdir(path): # Проходим по всем фреймам\n",
        "    file_path = path + file\n",
        "    result = model(file_path) # Детекция ТБО для фрейма\n",
        "\n",
        "    # Из файла с ответами узнаём сколько на фрейме ТБО и какие они\n",
        "    file_ans = open(\"video/frames_output/\" + file[:-3] + \"txt\", \"r\")\n",
        "    lines = file_ans.readlines()\n",
        "    ans_TBO = {\n",
        "        \"wood\": int(lines[0]),\n",
        "        \"glass\": int(lines[1]),\n",
        "        \"plastic\": int(lines[2]),\n",
        "        \"metal\": int(lines[3]),\n",
        "    }\n",
        "    file_ans.close\n",
        "    # Тут хранится ТБО для данного фрейма\n",
        "    local_TBO = {\n",
        "        \"wood\": 0,\n",
        "        \"glass\": 0,\n",
        "        \"plastic\": 0,\n",
        "        \"metal\": 0,\n",
        "    }\n",
        "\n",
        "    for r in result: # Перебираем по 1 распознаному ТБО\n",
        "        boxes = r.boxes\n",
        "        for box in boxes:\n",
        "            name = model.names[int(box.cls)] # Получаем название класса ТБО\n",
        "            if name in valid: # Проверяем, что YOLO нашла ТБО, а не что-то другое\n",
        "                local_TBO[name] += 1\n",
        "    # Считаем подкоренную сумму для каждого из классов\n",
        "    RMSD_w += count_RMSD_sum(\"wood\")\n",
        "    RMSD_g += count_RMSD_sum(\"glass\")\n",
        "    RMSD_p += count_RMSD_sum(\"plastic\")\n",
        "    RMSD_m += count_RMSD_sum(\"metal\")\n",
        "# Делим на количество фреймов и извлекаем корень\n",
        "RMSD_w = math.sqrt(RMSD_w/T)\n",
        "RMSD_m = math.sqrt(RMSD_m/T)\n",
        "RMSD_g = math.sqrt(RMSD_g/T)\n",
        "RMSD_p = math.sqrt(RMSD_p/T)\n",
        "# Получаем среднее значение - это и есть M1\n",
        "M1 =(RMSD_w + RMSD_p + RMSD_g + RMSD_m)/4"
      ]
    },
    {
      "cell_type": "code",
      "source": [
        "M1"
      ],
      "metadata": {
        "colab": {
          "base_uri": "https://localhost:8080/"
        },
        "id": "cPmFgnkWNIrt",
        "outputId": "7f384300-1732-4451-eb6f-3c691c1eca9d"
      },
      "execution_count": 8,
      "outputs": [
        {
          "output_type": "execute_result",
          "data": {
            "text/plain": [
              "0.949910625570183"
            ]
          },
          "metadata": {},
          "execution_count": 8
        }
      ]
    },
    {
      "cell_type": "markdown",
      "source": [
        "# Вычисление дублирующего коэфициента для метрики М2\n",
        "Подробнее про дублирующий коэфициент можно прочитать в репозитории"
      ],
      "metadata": {
        "id": "pmcNwmKW6VTY"
      }
    },
    {
      "cell_type": "code",
      "execution_count": null,
      "metadata": {
        "id": "sxdg7ocGsEg5"
      },
      "outputs": [],
      "source": [
        "# Вычисление дублирующего коэффициента\n",
        "\n",
        "# Укажите путь к модели\n",
        "model = ultralytics.YOLO(\"yolov8m_100epochs.pt\")\n",
        "path = \"video/frames_rgb_0/\"\n",
        "\n",
        "valid = [\"wood\", \"glass\", \"plastic\", \"metal\"]\n",
        "\n",
        "# Тут хранится итоговое количество ТБО\n",
        "global_TBO = {\n",
        "        \"wood\": 0,\n",
        "        \"glass\": 0,\n",
        "        \"plastic\": 0,\n",
        "        \"metal\": 0,\n",
        "          }\n",
        "# Тут хранится количество ТБО, которые были на линии на предидущем фрейме\n",
        "prev_TBO = {\n",
        "        \"wood\": 0,\n",
        "        \"glass\": 0,\n",
        "        \"plastic\": 0,\n",
        "        \"metal\": 0,\n",
        "          }\n",
        "\n",
        "# Вертикальная черта на соответствующих координатах.\n",
        "lines = [100, 200, 300, 400, 500, 600] # Уровень для линии - 100, 200, 300, 400, 500, 600\n",
        "T = len(os.listdir(path)) # Кол-во фреймов\n",
        "for line in lines:\n",
        "    for file_ind, file in enumerate(os.listdir(path)): # Проходим по всем фреймам\n",
        "        file_path = path + file\n",
        "        result = model(file_path) # Детекция ТБО для фрейма\n",
        "\n",
        "        for r in result: # Перебираем по 1 распознаному ТБО\n",
        "            local_TBO = {\n",
        "            \"wood\": 0,\n",
        "            \"glass\": 0,\n",
        "            \"plastic\": 0,\n",
        "            \"metal\": 0,\n",
        "            }\n",
        "            boxes = r.boxes\n",
        "            for box in boxes:\n",
        "                x_0 = int(box.xyxy[0][0])\n",
        "                x_1 = int(box.xyxy[0][2])\n",
        "                name = model.names[int(box.cls)] # Получаем название класса ТБО\n",
        "                if name in valid: # Если распознали ТБО\n",
        "                    if file_ind == 0: # Если это первый фрейм\n",
        "                        if x_0 > line: # То всё что после линии добавляем к ответу\n",
        "                            global_TBO[name] += 1\n",
        "                        elif (x_0 < line) and (x_1 > line): # А всё что на линии записываем в prev_TBO\n",
        "                            prev_TBO[name] += 1\n",
        "                    elif file_ind == T-1: # Если это последний фрейм, то всё что перед или на линии добавляем к ответу\n",
        "                        if (x_0 <= line):\n",
        "                            global_TBO[name] += 1\n",
        "                    else:  # Если это все остальные фреймы\n",
        "                      if (x_0 < line) and (x_1 > line): # Считаем количество ТБО на линии\n",
        "                        local_TBO[name] += 1\n",
        "                        for key in valid:\n",
        "                          # Сравниваем с предидущим фреймом и обновляем число уникальных ТБО\n",
        "                          global_TBO[key] += max(prev_TBO[key] - local_TBO[key], 0)\n",
        "                          prev_TBO[key] = local_TBO[key] # Обнавляем количество ТБО на прошлом фрейме\n",
        ""
      ]
    },
    {
      "cell_type": "code",
      "source": [
        "ans = {\n",
        "    \"wood\" : 67,\n",
        "    \"glass\" : 59,\n",
        "    \"plastic\" : 57,\n",
        "    \"metal\" : 61\n",
        "}\n",
        "\n",
        "koeff = {}\n",
        "\n",
        "for key in valid:\n",
        "  global_TBO[key]/=6 # Так как у нас 6 линий, то нужно взять среднее.\n",
        "  koeff[key] = ans[key] / global_TBO[key] # Дублирующий коэфициент\n",
        "print(global_TBO)\n"
      ],
      "metadata": {
        "colab": {
          "base_uri": "https://localhost:8080/"
        },
        "id": "ULJQwGNiVBsb",
        "outputId": "9b84fe78-aeca-4cfc-e266-5471fcdf1778"
      },
      "execution_count": 10,
      "outputs": [
        {
          "output_type": "stream",
          "name": "stdout",
          "text": [
            "{'wood': 131.16666666666666, 'glass': 126.0, 'plastic': 179.0, 'metal': 67.16666666666667}\n"
          ]
        }
      ]
    },
    {
      "cell_type": "code",
      "source": [
        "koeff # Дублирующие коэффициенты"
      ],
      "metadata": {
        "colab": {
          "base_uri": "https://localhost:8080/"
        },
        "id": "uWILL2hfWj9E",
        "outputId": "2254dd07-26e1-4ecf-b203-c9e25e400b79"
      },
      "execution_count": 11,
      "outputs": [
        {
          "output_type": "execute_result",
          "data": {
            "text/plain": [
              "{'wood': 0.5108005082592122,\n",
              " 'glass': 0.46825396825396826,\n",
              " 'plastic': 0.31843575418994413,\n",
              " 'metal': 0.9081885856079404}"
            ]
          },
          "metadata": {},
          "execution_count": 11
        }
      ]
    }
  ],
  "metadata": {
    "accelerator": "GPU",
    "colab": {
      "provenance": [],
      "authorship_tag": "ABX9TyPtAVkVABbUALb1w+GzjkTM",
      "include_colab_link": true
    },
    "kernelspec": {
      "display_name": "Python 3",
      "name": "python3"
    },
    "language_info": {
      "name": "python"
    }
  },
  "nbformat": 4,
  "nbformat_minor": 0
}