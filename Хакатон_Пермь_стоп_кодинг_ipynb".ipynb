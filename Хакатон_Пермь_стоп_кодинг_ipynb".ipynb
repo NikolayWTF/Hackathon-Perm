{
  "cells": [
    {
      "cell_type": "markdown",
      "metadata": {
        "id": "view-in-github",
        "colab_type": "text"
      },
      "source": [
        "<a href=\"https://colab.research.google.com/github/NikolayWTF/Hackathon-Perm/blob/main/%D0%A5%D0%B0%D0%BA%D0%B0%D1%82%D0%BE%D0%BD_%D0%9F%D0%B5%D1%80%D0%BC%D1%8C_%D1%81%D1%82%D0%BE%D0%BF_%D0%BA%D0%BE%D0%B4%D0%B8%D0%BD%D0%B3_ipynb%22.ipynb\" target=\"_parent\"><img src=\"https://colab.research.google.com/assets/colab-badge.svg\" alt=\"Open In Colab\"/></a>"
      ]
    },
    {
      "cell_type": "markdown",
      "source": [
        "# Детекция и подсчёт ТБО\n",
        "## Выбор нейросети\n",
        "Модель yolov8m показала наилучший результат при тесте. М1 = 0.95.\n",
        "\n",
        "При желании вы можете протестировать другие модели. Достаточно просто раскоментировать строку с интересующей вас моделью."
      ],
      "metadata": {
        "id": "FGSpUpc9rg8a"
      }
    },
    {
      "cell_type": "code",
      "source": [
        "# !gdown 1BlUQpPX0VeOBHWtXH0uRB3HVI_BD6CsT # YOLOv8m + аугментация M1 = 1.25\n",
        "# !gdown 1X9ZySLYXzoidGfGc5XThHu8X1xaz4t7P # yolov8n_150epochs.pt M1 = 1.16\n",
        "# !gdown 1AIIIKnNWGWTxIRdEw1OzWNeIs7h6QOdV # yolov8s_180epochs.pt M1 = 1.13\n",
        "# !gdown 1QEtK_0D09Xo1Le2s16DjOM6oP8KfasgS # yolov8_large_best.pt M1 = 1\n",
        "# !gdown 1oq_ZNquGsW2nvIxxewizq9kMLJjUhDXt # yolov8m - Тех скор = -7.38\n",
        "# !gdown 1vmzLbY4EMiAteBGrmkFxVb6JYzEQEKg4 #yolov8s - Тех скор = -6.25\n",
        "# !gdown 1JSFVsos9kUgOYesKEK-YM-qnzUIWSLig # yolov8m_100epochs.pt M1 = 0.95 Тех скор = -7.30\n",
        "# !gdown 1TS0vaojg5CAtTmLOazd_z1_SMwdvpVK0 # Видео тестовые\n",
        "#!gdown 1SLSp9FD8VBOkLY0gGoAk0TFsLc7StvYD # видео тренировочные"
      ],
      "metadata": {
        "id": "IEfalS4Ghi5s",
        "outputId": "cf5ad820-db14-4a68-b74b-1082c46eed7d",
        "colab": {
          "base_uri": "https://localhost:8080/"
        }
      },
      "execution_count": null,
      "outputs": [
        {
          "output_type": "stream",
          "name": "stdout",
          "text": [
            "Downloading...\n",
            "From: https://drive.google.com/uc?id=1oq_ZNquGsW2nvIxxewizq9kMLJjUhDXt\n",
            "To: /content/full_m.pt\n",
            "100% 52.0M/52.0M [00:00<00:00, 162MB/s]\n"
          ]
        }
      ]
    },
    {
      "cell_type": "code",
      "source": [
        "!pip install unrar\n",
        "!pip install ultralytics # Устанавливаю YOLO"
      ],
      "metadata": {
        "id": "OnWlCnq617eS"
      },
      "execution_count": null,
      "outputs": []
    },
    {
      "cell_type": "code",
      "source": [
        "# Распаковываю архив с фреймами и добавляю в папку video\n",
        "!mkdir \"video\"\n",
        "!unrar x -Y \"video.rar\" \"video\""
      ],
      "metadata": {
        "id": "0-DFGLXv2Bpg"
      },
      "execution_count": null,
      "outputs": []
    },
    {
      "cell_type": "code",
      "execution_count": null,
      "metadata": {
        "id": "5blxhL07rPOO"
      },
      "outputs": [],
      "source": [
        "import ultralytics\n",
        "import os\n",
        "import math\n",
        "import csv"
      ]
    },
    {
      "cell_type": "markdown",
      "source": [
        "# Составляем ответ для технического скора"
      ],
      "metadata": {
        "id": "NAvl5AJl6p53"
      }
    },
    {
      "cell_type": "code",
      "source": [
        "!mkdir frames_output # Создаём папку для хранения ответов"
      ],
      "metadata": {
        "id": "kBeks86I3KCP"
      },
      "execution_count": null,
      "outputs": []
    },
    {
      "cell_type": "code",
      "source": [
        "#Генерация ответа\n",
        "# Выбираем модель\n",
        "model = ultralytics.YOLO(\"full_s.pt\")\n",
        "path = \"video/video0/frames_rgb/\"\n",
        "valid = [\"wood\", \"glass\", \"plastic\", \"metal\"]\n",
        "\n",
        "# Создаю csv-файл\n",
        "with open(\"submission.csv\", mode=\"w\", encoding='utf-8') as w_file:\n",
        "    names = [\"frame_id\", \"wood\", \"glass\", \"plastic\", \"metal\"]\n",
        "    file_writer = csv.DictWriter(w_file, delimiter = \";\",\n",
        "                                 lineterminator=\"\\r\", fieldnames=names)\n",
        "    file_writer.writeheader()\n",
        "\n",
        "    for file in os.listdir(path): # Проходим по всем фреймам\n",
        "        file_path = path + file\n",
        "        result = model(file_path)  # Детекция ТБО для фрейма\n",
        "\n",
        "        local_TBO = {\n",
        "            \"wood\": 0,\n",
        "            \"glass\": 0,\n",
        "            \"plastic\": 0,\n",
        "            \"metal\": 0,\n",
        "        }\n",
        "\n",
        "        for r in result: # Перебираем по 1 распознаному объекту\n",
        "            boxes = r.boxes\n",
        "            for box in boxes:\n",
        "                name = model.names[int(box.cls)]  # Получаем название класса ТБО\n",
        "                if name in valid: # Если распознали ТБО\n",
        "                    local_TBO[name] += 1 # Обновляем их количество для соответствующего класса\n",
        "\n",
        "        local_TBO[\"frame_id\"] = \"f\" + str(int(file[:-4])) # Добавляем номер фрейма\n",
        "        # Записываем ответ в файл\n",
        "        file_writer.writerow(local_TBO)\n",
        "\n",
        "        # Дополнительно сохраняем файл с ответом в папку. Это нужно для визуализации\n",
        "        ans = \"\"\n",
        "        for key in valid:\n",
        "            ans += str(local_TBO[key]) + \"\\n\"\n",
        "        f = open(\"frames_output/\" + file[:-3] + \"txt\", mode='w')\n",
        "        f.write(ans[:-1])\n",
        "        f.close()\n"
      ],
      "metadata": {
        "id": "uKOLdaXaHZRh"
      },
      "execution_count": null,
      "outputs": []
    },
    {
      "cell_type": "markdown",
      "source": [
        "# Вычисление метрики М1"
      ],
      "metadata": {
        "id": "OkPQD7WW557A"
      }
    },
    {
      "cell_type": "code",
      "execution_count": null,
      "metadata": {
        "id": "G7gtf9TkrTUl"
      },
      "outputs": [],
      "source": [
        "# Вычисление метрики M1\n",
        "\n",
        "# Функция для расчёта подкоренной суммы RMSD\n",
        "def count_RMSD_sum(key):\n",
        "  return (ans_TBO[key] - local_TBO[key])**2\n",
        "\n",
        "# Укажите путь к модели\n",
        "model = ultralytics.YOLO(\"yolov8m_100epochs.pt\")\n",
        "# Укажите путь к фреймам\n",
        "path = \"video/frames_rgb_0/\"\n",
        "\n",
        "valid = [\"wood\", \"glass\", \"plastic\", \"metal\"]\n",
        "RMSD_w, RMSD_p, RMSD_g, RMSD_m = 0, 0, 0, 0\n",
        "T = len(os.listdir(path))\n",
        "\n",
        "for file in os.listdir(path): # Проходим по всем фреймам\n",
        "    file_path = path + file\n",
        "    result = model(file_path) # Детекция ТБО для фрейма\n",
        "\n",
        "    # Из файла с ответами узнаём сколько на фрейме ТБО и какие они\n",
        "    file_ans = open(\"video/frames_output/\" + file[:-3] + \"txt\", \"r\")\n",
        "    lines = file_ans.readlines()\n",
        "    ans_TBO = {\n",
        "        \"wood\": int(lines[0]),\n",
        "        \"glass\": int(lines[1]),\n",
        "        \"plastic\": int(lines[2]),\n",
        "        \"metal\": int(lines[3]),\n",
        "    }\n",
        "    file_ans.close\n",
        "    # Тут хранится ТБО для данного фрейма\n",
        "    local_TBO = {\n",
        "        \"wood\": 0,\n",
        "        \"glass\": 0,\n",
        "        \"plastic\": 0,\n",
        "        \"metal\": 0,\n",
        "    }\n",
        "\n",
        "    for r in result: # Перебираем по 1 распознаному ТБО\n",
        "        boxes = r.boxes\n",
        "        for box in boxes:\n",
        "            name = model.names[int(box.cls)] # Получаем название класса ТБО\n",
        "            if name in valid: # Проверяем, что YOLO нашла ТБО, а не что-то другое\n",
        "                local_TBO[name] += 1\n",
        "    # Считаем подкоренную сумму для каждого из классов\n",
        "    RMSD_w += count_RMSD_sum(\"wood\")\n",
        "    RMSD_g += count_RMSD_sum(\"glass\")\n",
        "    RMSD_p += count_RMSD_sum(\"plastic\")\n",
        "    RMSD_m += count_RMSD_sum(\"metal\")\n",
        "# Делим на количество фреймов и извлекаем корень\n",
        "RMSD_w = math.sqrt(RMSD_w/T)\n",
        "RMSD_m = math.sqrt(RMSD_m/T)\n",
        "RMSD_g = math.sqrt(RMSD_g/T)\n",
        "RMSD_p = math.sqrt(RMSD_p/T)\n",
        "# Получаем среднее значение - это и есть M1\n",
        "M1 =(RMSD_w + RMSD_p + RMSD_g + RMSD_m)/4"
      ]
    },
    {
      "cell_type": "code",
      "source": [
        "M1"
      ],
      "metadata": {
        "colab": {
          "base_uri": "https://localhost:8080/"
        },
        "id": "cPmFgnkWNIrt",
        "outputId": "7f384300-1732-4451-eb6f-3c691c1eca9d"
      },
      "execution_count": null,
      "outputs": [
        {
          "output_type": "execute_result",
          "data": {
            "text/plain": [
              "0.949910625570183"
            ]
          },
          "metadata": {},
          "execution_count": 8
        }
      ]
    },
    {
      "cell_type": "markdown",
      "source": [
        "# Вычисление дублирующего коэфициента для метрики М2\n",
        "Подробнее про дублирующий коэфициент можно прочитать в репозитории"
      ],
      "metadata": {
        "id": "pmcNwmKW6VTY"
      }
    },
    {
      "cell_type": "code",
      "execution_count": null,
      "metadata": {
        "id": "sxdg7ocGsEg5"
      },
      "outputs": [],
      "source": [
        "# Вычисление дублирующего коэффициента\n",
        "\n",
        "# Укажите путь к модели\n",
        "model = ultralytics.YOLO(\"yolov8m_100epochs.pt\")\n",
        "path = \"video/video0/frames_rgb/\"\n",
        "\n",
        "valid = [\"wood\", \"glass\", \"plastic\", \"metal\"]\n",
        "\n",
        "# Тут хранится итоговое количество ТБО\n",
        "global_TBO = {\n",
        "        \"wood\": 0,\n",
        "        \"glass\": 0,\n",
        "        \"plastic\": 0,\n",
        "        \"metal\": 0,\n",
        "          }\n",
        "# Тут хранится количество ТБО, которые были на линии на предидущем фрейме\n",
        "prev_TBO = {\n",
        "        \"wood\": 0,\n",
        "        \"glass\": 0,\n",
        "        \"plastic\": 0,\n",
        "        \"metal\": 0,\n",
        "          }\n",
        "\n",
        "# Вертикальная черта на соответствующих координатах.\n",
        "lines = [100, 200, 300, 400, 500, 600] # Уровень для линии - 100, 200, 300, 400, 500, 600\n",
        "T = len(os.listdir(path)) # Кол-во фреймов\n",
        "for line in lines:\n",
        "    for file_ind, file in enumerate(os.listdir(path)): # Проходим по всем фреймам\n",
        "        file_path = path + file\n",
        "        result = model(file_path) # Детекция ТБО для фрейма\n",
        "\n",
        "        for r in result: # Перебираем по 1 распознаному ТБО\n",
        "            local_TBO = {\n",
        "            \"wood\": 0,\n",
        "            \"glass\": 0,\n",
        "            \"plastic\": 0,\n",
        "            \"metal\": 0,\n",
        "            }\n",
        "            boxes = r.boxes\n",
        "            for box in boxes:\n",
        "                x_0 = int(box.xyxy[0][0])\n",
        "                x_1 = int(box.xyxy[0][2])\n",
        "                name = model.names[int(box.cls)] # Получаем название класса ТБО\n",
        "                if name in valid: # Если распознали ТБО\n",
        "                    if file_ind == 0: # Если это первый фрейм\n",
        "                        if x_0 > line: # То всё что после линии добавляем к ответу\n",
        "                            global_TBO[name] += 1\n",
        "                        elif (x_0 < line) and (x_1 > line): # А всё что на линии записываем в prev_TBO\n",
        "                            prev_TBO[name] += 1\n",
        "                    elif file_ind == T-1: # Если это последний фрейм, то всё что перед или на линии добавляем к ответу\n",
        "                        if (x_0 <= line):\n",
        "                            global_TBO[name] += 1\n",
        "                    else:  # Если это все остальные фреймы\n",
        "                      if (x_0 < line) and (x_1 > line): # Считаем количество ТБО на линии\n",
        "                        local_TBO[name] += 1\n",
        "                        for key in valid:\n",
        "                          # Сравниваем с предидущим фреймом и обновляем число уникальных ТБО\n",
        "                          global_TBO[key] += max(prev_TBO[key] - local_TBO[key], 0)\n",
        "                          prev_TBO[key] = local_TBO[key] # Обнавляем количество ТБО на прошлом фрейме\n"
      ]
    },
    {
      "cell_type": "code",
      "source": [
        "ans = {\n",
        "    \"wood\" : 67,\n",
        "    \"glass\" : 59,\n",
        "    \"plastic\" : 57,\n",
        "    \"metal\" : 61\n",
        "}\n",
        "\n",
        "koeff = {}\n",
        "\n",
        "for key in valid:\n",
        "    global_TBO[key]/=6 # Так как у нас 6 линий, то нужно взять среднее.\n",
        "    koeff[key] = ans[key] / global_TBO[key] # Дублирующий коэфициент\n",
        "print(global_TBO)\n"
      ],
      "metadata": {
        "colab": {
          "base_uri": "https://localhost:8080/"
        },
        "id": "ULJQwGNiVBsb",
        "outputId": "80c151d9-324e-45f2-c03a-2617ebceb2b7"
      },
      "execution_count": null,
      "outputs": [
        {
          "output_type": "stream",
          "name": "stdout",
          "text": [
            "{'wood': 119.66666666666667, 'glass': 99.66666666666667, 'plastic': 214.16666666666666, 'metal': 71.5}\n"
          ]
        }
      ]
    },
    {
      "cell_type": "code",
      "source": [
        "koeff # Дублирующие коэффициенты"
      ],
      "metadata": {
        "colab": {
          "base_uri": "https://localhost:8080/"
        },
        "id": "uWILL2hfWj9E",
        "outputId": "2254dd07-26e1-4ecf-b203-c9e25e400b79"
      },
      "execution_count": null,
      "outputs": [
        {
          "output_type": "execute_result",
          "data": {
            "text/plain": [
              "{'wood': 0.5108005082592122,\n",
              " 'glass': 0.46825396825396826,\n",
              " 'plastic': 0.31843575418994413,\n",
              " 'metal': 0.9081885856079404}"
            ]
          },
          "metadata": {},
          "execution_count": 11
        }
      ]
    },
    {
      "cell_type": "code",
      "source": [
        "f = open(\"output.txt\", 'w')\n",
        "ans = \"\"\n",
        "for key in valid:\n",
        "    ans += str(round(global_TBO[key] * koeff[key])) + \"\\n\"\n",
        "f.write(ans[:-1])\n",
        "f.close()"
      ],
      "metadata": {
        "id": "nTXqtKJ19ZeN"
      },
      "execution_count": null,
      "outputs": []
    },
    {
      "cell_type": "markdown",
      "source": [
        "# Визуализация полученых данных.\n",
        "### Этот блок можно использовать после получения папки с ответами.\n",
        "Ответы можно получить, выполнив код в ячейке \"Составляем ответ для технического скора\""
      ],
      "metadata": {
        "id": "Z9S0kESMECd3"
      }
    },
    {
      "cell_type": "code",
      "source": [
        "import ipywidgets as widgets\n",
        "from IPython.display import display\n",
        "from google.colab import output\n",
        "output.enable_custom_widget_manager()"
      ],
      "metadata": {
        "id": "9Q5zEPvnEQwM"
      },
      "execution_count": null,
      "outputs": []
    },
    {
      "cell_type": "code",
      "source": [
        "import plotly.graph_objs as go\n",
        "import ipywidgets as widgets\n",
        "\n",
        "def rebinnable_interactive_histogram():\n",
        "    figure_widget = go.FigureWidget(\n",
        "        dict({\n",
        "          \"data\": [{\"type\": \"bar\",\n",
        "                    \"x\": [\"wood\", \"glass\", \"plastic\", \"metal\"],\n",
        "                    \"y\": [3, 4, 7, 2]}],\n",
        "          \"layout\": {\"title\": {\"text\": \"Распределение ТБО на 0 фрейме\"},\n",
        "          \"template\": \"ggplot2\"}\n",
        "        })\n",
        "    )\n",
        "\n",
        "    slider = widgets.IntSlider(\n",
        "    value=0,\n",
        "    min=0,\n",
        "    max=334,\n",
        "    step=1,\n",
        "    readout_format='.0f',\n",
        "    )\n",
        "\n",
        "    histogram_object = figure_widget.data[0]\n",
        "    histogram_object2 = figure_widget.layout[\"title\"]\n",
        "\n",
        "    def set_bin_size(change):\n",
        "        num = str(change[\"new\"])\n",
        "        f_num = num\n",
        "        while len(f_num) < 4:\n",
        "            f_num = \"0\" + f_num\n",
        "\n",
        "        filename = \"frames_output/\" + f_num + \".txt\"\n",
        "        f = open(filename, \"r\")\n",
        "        lines = f.readlines()\n",
        "        y = [int(lines[0]), int(lines[1]), int(lines[2]), int(lines[3])]\n",
        "        f.close\n",
        "        histogram_object[\"y\"] = y\n",
        "        histogram_object2[\"text\"] = \"Распределение ТБО на \"+ num +  \" фрейме\"\n",
        "\n",
        "    slider.observe(set_bin_size, names=\"value\")\n",
        "\n",
        "    output_widget = widgets.VBox([figure_widget, slider])\n",
        "\n",
        "    return output_widget\n",
        "\n",
        "rebinnable_interactive_histogram()"
      ],
      "metadata": {
        "id": "aOakNrOe3ces",
        "outputId": "97c32491-a17b-4d24-9f4a-8875c0d8ebb3",
        "colab": {
          "base_uri": "https://localhost:8080/",
          "height": 409,
          "referenced_widgets": [
            "7084b692ac6145389bd7ffb01836debf",
            "9500ae6d31874c7dbf6cef2d00756e11",
            "8b6808d666e1431aa34faee8ef2b3f02",
            "751b677f6e0446f5b16c3fbadd269679",
            "47adca34545444a1b68f9399e3fd705b",
            "f96f98f058934bdea3767892e6e90834"
          ]
        }
      },
      "execution_count": null,
      "outputs": [
        {
          "output_type": "display_data",
          "data": {
            "text/plain": [
              "VBox(children=(FigureWidget({\n",
              "    'data': [{'type': 'bar',\n",
              "              'uid': '93aab358-d713-408f-a338-bc47a…"
            ],
            "application/vnd.jupyter.widget-view+json": {
              "version_major": 2,
              "version_minor": 0,
              "model_id": "7084b692ac6145389bd7ffb01836debf"
            }
          },
          "metadata": {
            "application/vnd.jupyter.widget-view+json": {
              "colab": {
                "custom_widget_manager": {
                  "url": "https://ssl.gstatic.com/colaboratory-static/widgets/colab-cdn-widget-manager/b3e629b1971e1542/manager.min.js"
                }
              }
            }
          }
        }
      ]
    },
    {
      "cell_type": "code",
      "source": [
        "from google.colab import output\n",
        "output.disable_custom_widget_manager()"
      ],
      "metadata": {
        "id": "UdOIlSgyLCFy"
      },
      "execution_count": null,
      "outputs": []
    }
  ],
  "metadata": {
    "accelerator": "GPU",
    "colab": {
      "provenance": [],
      "collapsed_sections": [
        "OkPQD7WW557A",
        "pmcNwmKW6VTY"
      ],
      "gpuType": "T4",
      "include_colab_link": true
    },
    "kernelspec": {
      "display_name": "Python 3",
      "name": "python3"
    },
    "language_info": {
      "name": "python"
    },
    "widgets": {
      "application/vnd.jupyter.widget-state+json": {
        "7084b692ac6145389bd7ffb01836debf": {
          "model_module": "@jupyter-widgets/controls",
          "model_name": "VBoxModel",
          "model_module_version": "1.5.0",
          "state": {
            "_dom_classes": [],
            "_model_module": "@jupyter-widgets/controls",
            "_model_module_version": "1.5.0",
            "_model_name": "VBoxModel",
            "_view_count": null,
            "_view_module": "@jupyter-widgets/controls",
            "_view_module_version": "1.5.0",
            "_view_name": "VBoxView",
            "box_style": "",
            "children": [
              "IPY_MODEL_9500ae6d31874c7dbf6cef2d00756e11",
              "IPY_MODEL_8b6808d666e1431aa34faee8ef2b3f02"
            ],
            "layout": "IPY_MODEL_751b677f6e0446f5b16c3fbadd269679"
          }
        },
        "9500ae6d31874c7dbf6cef2d00756e11": {
          "model_module": "jupyterlab-plotly",
          "model_name": "FigureModel",
          "model_module_version": "^5.15.0",
          "state": {
            "_config": {
              "plotlyServerURL": "https://plot.ly"
            },
            "_data": [
              {
                "x": [
                  "wood",
                  "glass",
                  "plastic",
                  "metal"
                ],
                "y": [
                  3,
                  4,
                  7,
                  2
                ],
                "type": "bar",
                "uid": "93aab358-d713-408f-a338-bc47a09366c7"
              }
            ],
            "_dom_classes": [],
            "_js2py_layoutDelta": null,
            "_js2py_pointsCallback": null,
            "_js2py_relayout": null,
            "_js2py_restyle": {},
            "_js2py_traceDeltas": null,
            "_js2py_update": {},
            "_last_layout_edit_id": 9,
            "_last_trace_edit_id": 4,
            "_layout": {
              "template": {
                "data": {
                  "barpolar": [
                    {
                      "marker": {
                        "line": {
                          "color": "rgb(237,237,237)",
                          "width": 0.5
                        },
                        "pattern": {
                          "fillmode": "overlay",
                          "size": 10,
                          "solidity": 0.2
                        }
                      },
                      "type": "barpolar"
                    }
                  ],
                  "bar": [
                    {
                      "error_x": {
                        "color": "rgb(51,51,51)"
                      },
                      "error_y": {
                        "color": "rgb(51,51,51)"
                      },
                      "marker": {
                        "line": {
                          "color": "rgb(237,237,237)",
                          "width": 0.5
                        },
                        "pattern": {
                          "fillmode": "overlay",
                          "size": 10,
                          "solidity": 0.2
                        }
                      },
                      "type": "bar"
                    }
                  ],
                  "carpet": [
                    {
                      "aaxis": {
                        "endlinecolor": "rgb(51,51,51)",
                        "gridcolor": "white",
                        "linecolor": "white",
                        "minorgridcolor": "white",
                        "startlinecolor": "rgb(51,51,51)"
                      },
                      "baxis": {
                        "endlinecolor": "rgb(51,51,51)",
                        "gridcolor": "white",
                        "linecolor": "white",
                        "minorgridcolor": "white",
                        "startlinecolor": "rgb(51,51,51)"
                      },
                      "type": "carpet"
                    }
                  ],
                  "choropleth": [
                    {
                      "colorbar": {
                        "outlinewidth": 0,
                        "tickcolor": "rgb(237,237,237)",
                        "ticklen": 6,
                        "ticks": "inside"
                      },
                      "type": "choropleth"
                    }
                  ],
                  "contourcarpet": [
                    {
                      "colorbar": {
                        "outlinewidth": 0,
                        "tickcolor": "rgb(237,237,237)",
                        "ticklen": 6,
                        "ticks": "inside"
                      },
                      "type": "contourcarpet"
                    }
                  ],
                  "contour": [
                    {
                      "colorbar": {
                        "outlinewidth": 0,
                        "tickcolor": "rgb(237,237,237)",
                        "ticklen": 6,
                        "ticks": "inside"
                      },
                      "colorscale": [
                        [
                          0,
                          "rgb(20,44,66)"
                        ],
                        [
                          1,
                          "rgb(90,179,244)"
                        ]
                      ],
                      "type": "contour"
                    }
                  ],
                  "heatmapgl": [
                    {
                      "colorbar": {
                        "outlinewidth": 0,
                        "tickcolor": "rgb(237,237,237)",
                        "ticklen": 6,
                        "ticks": "inside"
                      },
                      "colorscale": [
                        [
                          0,
                          "rgb(20,44,66)"
                        ],
                        [
                          1,
                          "rgb(90,179,244)"
                        ]
                      ],
                      "type": "heatmapgl"
                    }
                  ],
                  "heatmap": [
                    {
                      "colorbar": {
                        "outlinewidth": 0,
                        "tickcolor": "rgb(237,237,237)",
                        "ticklen": 6,
                        "ticks": "inside"
                      },
                      "colorscale": [
                        [
                          0,
                          "rgb(20,44,66)"
                        ],
                        [
                          1,
                          "rgb(90,179,244)"
                        ]
                      ],
                      "type": "heatmap"
                    }
                  ],
                  "histogram2dcontour": [
                    {
                      "colorbar": {
                        "outlinewidth": 0,
                        "tickcolor": "rgb(237,237,237)",
                        "ticklen": 6,
                        "ticks": "inside"
                      },
                      "colorscale": [
                        [
                          0,
                          "rgb(20,44,66)"
                        ],
                        [
                          1,
                          "rgb(90,179,244)"
                        ]
                      ],
                      "type": "histogram2dcontour"
                    }
                  ],
                  "histogram2d": [
                    {
                      "colorbar": {
                        "outlinewidth": 0,
                        "tickcolor": "rgb(237,237,237)",
                        "ticklen": 6,
                        "ticks": "inside"
                      },
                      "colorscale": [
                        [
                          0,
                          "rgb(20,44,66)"
                        ],
                        [
                          1,
                          "rgb(90,179,244)"
                        ]
                      ],
                      "type": "histogram2d"
                    }
                  ],
                  "histogram": [
                    {
                      "marker": {
                        "pattern": {
                          "fillmode": "overlay",
                          "size": 10,
                          "solidity": 0.2
                        }
                      },
                      "type": "histogram"
                    }
                  ],
                  "mesh3d": [
                    {
                      "colorbar": {
                        "outlinewidth": 0,
                        "tickcolor": "rgb(237,237,237)",
                        "ticklen": 6,
                        "ticks": "inside"
                      },
                      "type": "mesh3d"
                    }
                  ],
                  "parcoords": [
                    {
                      "line": {
                        "colorbar": {
                          "outlinewidth": 0,
                          "tickcolor": "rgb(237,237,237)",
                          "ticklen": 6,
                          "ticks": "inside"
                        }
                      },
                      "type": "parcoords"
                    }
                  ],
                  "pie": [
                    {
                      "automargin": true,
                      "type": "pie"
                    }
                  ],
                  "scatter3d": [
                    {
                      "line": {
                        "colorbar": {
                          "outlinewidth": 0,
                          "tickcolor": "rgb(237,237,237)",
                          "ticklen": 6,
                          "ticks": "inside"
                        }
                      },
                      "marker": {
                        "colorbar": {
                          "outlinewidth": 0,
                          "tickcolor": "rgb(237,237,237)",
                          "ticklen": 6,
                          "ticks": "inside"
                        }
                      },
                      "type": "scatter3d"
                    }
                  ],
                  "scattercarpet": [
                    {
                      "marker": {
                        "colorbar": {
                          "outlinewidth": 0,
                          "tickcolor": "rgb(237,237,237)",
                          "ticklen": 6,
                          "ticks": "inside"
                        }
                      },
                      "type": "scattercarpet"
                    }
                  ],
                  "scattergeo": [
                    {
                      "marker": {
                        "colorbar": {
                          "outlinewidth": 0,
                          "tickcolor": "rgb(237,237,237)",
                          "ticklen": 6,
                          "ticks": "inside"
                        }
                      },
                      "type": "scattergeo"
                    }
                  ],
                  "scattergl": [
                    {
                      "marker": {
                        "colorbar": {
                          "outlinewidth": 0,
                          "tickcolor": "rgb(237,237,237)",
                          "ticklen": 6,
                          "ticks": "inside"
                        }
                      },
                      "type": "scattergl"
                    }
                  ],
                  "scattermapbox": [
                    {
                      "marker": {
                        "colorbar": {
                          "outlinewidth": 0,
                          "tickcolor": "rgb(237,237,237)",
                          "ticklen": 6,
                          "ticks": "inside"
                        }
                      },
                      "type": "scattermapbox"
                    }
                  ],
                  "scatterpolargl": [
                    {
                      "marker": {
                        "colorbar": {
                          "outlinewidth": 0,
                          "tickcolor": "rgb(237,237,237)",
                          "ticklen": 6,
                          "ticks": "inside"
                        }
                      },
                      "type": "scatterpolargl"
                    }
                  ],
                  "scatterpolar": [
                    {
                      "marker": {
                        "colorbar": {
                          "outlinewidth": 0,
                          "tickcolor": "rgb(237,237,237)",
                          "ticklen": 6,
                          "ticks": "inside"
                        }
                      },
                      "type": "scatterpolar"
                    }
                  ],
                  "scatter": [
                    {
                      "fillpattern": {
                        "fillmode": "overlay",
                        "size": 10,
                        "solidity": 0.2
                      },
                      "type": "scatter"
                    }
                  ],
                  "scatterternary": [
                    {
                      "marker": {
                        "colorbar": {
                          "outlinewidth": 0,
                          "tickcolor": "rgb(237,237,237)",
                          "ticklen": 6,
                          "ticks": "inside"
                        }
                      },
                      "type": "scatterternary"
                    }
                  ],
                  "surface": [
                    {
                      "colorbar": {
                        "outlinewidth": 0,
                        "tickcolor": "rgb(237,237,237)",
                        "ticklen": 6,
                        "ticks": "inside"
                      },
                      "colorscale": [
                        [
                          0,
                          "rgb(20,44,66)"
                        ],
                        [
                          1,
                          "rgb(90,179,244)"
                        ]
                      ],
                      "type": "surface"
                    }
                  ],
                  "table": [
                    {
                      "cells": {
                        "fill": {
                          "color": "rgb(237,237,237)"
                        },
                        "line": {
                          "color": "white"
                        }
                      },
                      "header": {
                        "fill": {
                          "color": "rgb(217,217,217)"
                        },
                        "line": {
                          "color": "white"
                        }
                      },
                      "type": "table"
                    }
                  ]
                },
                "layout": {
                  "annotationdefaults": {
                    "arrowhead": 0,
                    "arrowwidth": 1
                  },
                  "autotypenumbers": "strict",
                  "coloraxis": {
                    "colorbar": {
                      "outlinewidth": 0,
                      "tickcolor": "rgb(237,237,237)",
                      "ticklen": 6,
                      "ticks": "inside"
                    }
                  },
                  "colorscale": {
                    "sequential": [
                      [
                        0,
                        "rgb(20,44,66)"
                      ],
                      [
                        1,
                        "rgb(90,179,244)"
                      ]
                    ],
                    "sequentialminus": [
                      [
                        0,
                        "rgb(20,44,66)"
                      ],
                      [
                        1,
                        "rgb(90,179,244)"
                      ]
                    ]
                  },
                  "colorway": [
                    "#F8766D",
                    "#A3A500",
                    "#00BF7D",
                    "#00B0F6",
                    "#E76BF3"
                  ],
                  "font": {
                    "color": "rgb(51,51,51)"
                  },
                  "geo": {
                    "bgcolor": "white",
                    "lakecolor": "white",
                    "landcolor": "rgb(237,237,237)",
                    "showlakes": true,
                    "showland": true,
                    "subunitcolor": "white"
                  },
                  "hoverlabel": {
                    "align": "left"
                  },
                  "hovermode": "closest",
                  "paper_bgcolor": "white",
                  "plot_bgcolor": "rgb(237,237,237)",
                  "polar": {
                    "angularaxis": {
                      "gridcolor": "white",
                      "linecolor": "white",
                      "showgrid": true,
                      "tickcolor": "rgb(51,51,51)",
                      "ticks": "outside"
                    },
                    "bgcolor": "rgb(237,237,237)",
                    "radialaxis": {
                      "gridcolor": "white",
                      "linecolor": "white",
                      "showgrid": true,
                      "tickcolor": "rgb(51,51,51)",
                      "ticks": "outside"
                    }
                  },
                  "scene": {
                    "xaxis": {
                      "backgroundcolor": "rgb(237,237,237)",
                      "gridcolor": "white",
                      "gridwidth": 2,
                      "linecolor": "white",
                      "showbackground": true,
                      "showgrid": true,
                      "tickcolor": "rgb(51,51,51)",
                      "ticks": "outside",
                      "zerolinecolor": "white"
                    },
                    "yaxis": {
                      "backgroundcolor": "rgb(237,237,237)",
                      "gridcolor": "white",
                      "gridwidth": 2,
                      "linecolor": "white",
                      "showbackground": true,
                      "showgrid": true,
                      "tickcolor": "rgb(51,51,51)",
                      "ticks": "outside",
                      "zerolinecolor": "white"
                    },
                    "zaxis": {
                      "backgroundcolor": "rgb(237,237,237)",
                      "gridcolor": "white",
                      "gridwidth": 2,
                      "linecolor": "white",
                      "showbackground": true,
                      "showgrid": true,
                      "tickcolor": "rgb(51,51,51)",
                      "ticks": "outside",
                      "zerolinecolor": "white"
                    }
                  },
                  "shapedefaults": {
                    "fillcolor": "black",
                    "line": {
                      "width": 0
                    },
                    "opacity": 0.3
                  },
                  "ternary": {
                    "aaxis": {
                      "gridcolor": "white",
                      "linecolor": "white",
                      "showgrid": true,
                      "tickcolor": "rgb(51,51,51)",
                      "ticks": "outside"
                    },
                    "baxis": {
                      "gridcolor": "white",
                      "linecolor": "white",
                      "showgrid": true,
                      "tickcolor": "rgb(51,51,51)",
                      "ticks": "outside"
                    },
                    "bgcolor": "rgb(237,237,237)",
                    "caxis": {
                      "gridcolor": "white",
                      "linecolor": "white",
                      "showgrid": true,
                      "tickcolor": "rgb(51,51,51)",
                      "ticks": "outside"
                    }
                  },
                  "xaxis": {
                    "automargin": true,
                    "gridcolor": "white",
                    "linecolor": "white",
                    "showgrid": true,
                    "tickcolor": "rgb(51,51,51)",
                    "ticks": "outside",
                    "title": {
                      "standoff": 15
                    },
                    "zerolinecolor": "white"
                  },
                  "yaxis": {
                    "automargin": true,
                    "gridcolor": "white",
                    "linecolor": "white",
                    "showgrid": true,
                    "tickcolor": "rgb(51,51,51)",
                    "ticks": "outside",
                    "title": {
                      "standoff": 15
                    },
                    "zerolinecolor": "white"
                  }
                }
              },
              "title": {
                "text": "Распределение ТБО на 0000 фрейме"
              }
            },
            "_model_module": "jupyterlab-plotly",
            "_model_module_version": "^5.15.0",
            "_model_name": "FigureModel",
            "_py2js_addTraces": {},
            "_py2js_animate": {},
            "_py2js_deleteTraces": {},
            "_py2js_moveTraces": {},
            "_py2js_relayout": null,
            "_py2js_removeLayoutProps": {},
            "_py2js_removeTraceProps": {},
            "_py2js_restyle": null,
            "_py2js_update": {},
            "_view_count": 1,
            "_view_module": "jupyterlab-plotly",
            "_view_module_version": "^5.15.0",
            "_view_name": "FigureView"
          }
        },
        "8b6808d666e1431aa34faee8ef2b3f02": {
          "model_module": "@jupyter-widgets/controls",
          "model_name": "IntSliderModel",
          "model_module_version": "1.5.0",
          "state": {
            "_dom_classes": [],
            "_model_module": "@jupyter-widgets/controls",
            "_model_module_version": "1.5.0",
            "_model_name": "IntSliderModel",
            "_view_count": null,
            "_view_module": "@jupyter-widgets/controls",
            "_view_module_version": "1.5.0",
            "_view_name": "IntSliderView",
            "continuous_update": true,
            "description": "",
            "description_tooltip": null,
            "disabled": false,
            "layout": "IPY_MODEL_47adca34545444a1b68f9399e3fd705b",
            "max": 334,
            "min": 0,
            "orientation": "horizontal",
            "readout": true,
            "readout_format": ".0f",
            "step": 1,
            "style": "IPY_MODEL_f96f98f058934bdea3767892e6e90834",
            "value": 130
          }
        },
        "751b677f6e0446f5b16c3fbadd269679": {
          "model_module": "@jupyter-widgets/base",
          "model_name": "LayoutModel",
          "model_module_version": "1.2.0",
          "state": {
            "_model_module": "@jupyter-widgets/base",
            "_model_module_version": "1.2.0",
            "_model_name": "LayoutModel",
            "_view_count": null,
            "_view_module": "@jupyter-widgets/base",
            "_view_module_version": "1.2.0",
            "_view_name": "LayoutView",
            "align_content": null,
            "align_items": null,
            "align_self": null,
            "border": null,
            "bottom": null,
            "display": null,
            "flex": null,
            "flex_flow": null,
            "grid_area": null,
            "grid_auto_columns": null,
            "grid_auto_flow": null,
            "grid_auto_rows": null,
            "grid_column": null,
            "grid_gap": null,
            "grid_row": null,
            "grid_template_areas": null,
            "grid_template_columns": null,
            "grid_template_rows": null,
            "height": null,
            "justify_content": null,
            "justify_items": null,
            "left": null,
            "margin": null,
            "max_height": null,
            "max_width": null,
            "min_height": null,
            "min_width": null,
            "object_fit": null,
            "object_position": null,
            "order": null,
            "overflow": null,
            "overflow_x": null,
            "overflow_y": null,
            "padding": null,
            "right": null,
            "top": null,
            "visibility": null,
            "width": null
          }
        },
        "47adca34545444a1b68f9399e3fd705b": {
          "model_module": "@jupyter-widgets/base",
          "model_name": "LayoutModel",
          "model_module_version": "1.2.0",
          "state": {
            "_model_module": "@jupyter-widgets/base",
            "_model_module_version": "1.2.0",
            "_model_name": "LayoutModel",
            "_view_count": null,
            "_view_module": "@jupyter-widgets/base",
            "_view_module_version": "1.2.0",
            "_view_name": "LayoutView",
            "align_content": null,
            "align_items": null,
            "align_self": null,
            "border": null,
            "bottom": null,
            "display": null,
            "flex": null,
            "flex_flow": null,
            "grid_area": null,
            "grid_auto_columns": null,
            "grid_auto_flow": null,
            "grid_auto_rows": null,
            "grid_column": null,
            "grid_gap": null,
            "grid_row": null,
            "grid_template_areas": null,
            "grid_template_columns": null,
            "grid_template_rows": null,
            "height": null,
            "justify_content": null,
            "justify_items": null,
            "left": null,
            "margin": null,
            "max_height": null,
            "max_width": null,
            "min_height": null,
            "min_width": null,
            "object_fit": null,
            "object_position": null,
            "order": null,
            "overflow": null,
            "overflow_x": null,
            "overflow_y": null,
            "padding": null,
            "right": null,
            "top": null,
            "visibility": null,
            "width": null
          }
        },
        "f96f98f058934bdea3767892e6e90834": {
          "model_module": "@jupyter-widgets/controls",
          "model_name": "SliderStyleModel",
          "model_module_version": "1.5.0",
          "state": {
            "_model_module": "@jupyter-widgets/controls",
            "_model_module_version": "1.5.0",
            "_model_name": "SliderStyleModel",
            "_view_count": null,
            "_view_module": "@jupyter-widgets/base",
            "_view_module_version": "1.2.0",
            "_view_name": "StyleView",
            "description_width": "",
            "handle_color": null
          }
        }
      }
    }
  },
  "nbformat": 4,
  "nbformat_minor": 0
}